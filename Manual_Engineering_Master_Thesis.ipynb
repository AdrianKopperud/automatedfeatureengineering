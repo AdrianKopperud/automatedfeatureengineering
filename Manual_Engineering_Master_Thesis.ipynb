{
  "nbformat": 4,
  "nbformat_minor": 0,
  "metadata": {
    "celltoolbar": "Edit Metadata",
    "colab": {
      "name": "Manual Crafted Dataset - Master Thesis",
      "provenance": [],
      "collapsed_sections": [
        "PgotgEBf1g1W",
        "Hl2x00lbKQxy",
        "02pFvFf5lzY2",
        "e9YyoL15lzY4",
        "xkdU8Gj5lzY6",
        "M8rwi-vrFndn",
        "8v5I3eErE7bb",
        "-JhAsudexMNd"
      ],
      "toc_visible": true,
      "machine_shape": "hm",
      "include_colab_link": true
    },
    "kernelspec": {
      "display_name": "Python 3",
      "language": "python",
      "name": "python3"
    },
    "language_info": {
      "codemirror_mode": {
        "name": "ipython",
        "version": 3
      },
      "file_extension": ".py",
      "mimetype": "text/x-python",
      "name": "python",
      "nbconvert_exporter": "python",
      "pygments_lexer": "ipython3",
      "version": "3.7.6"
    },
    "widgets": {
      "application/vnd.jupyter.widget-state+json": {
        "927ac54b51d2494dbcc8431907a85f86": {
          "model_module": "@jupyter-widgets/controls",
          "model_name": "HBoxModel",
          "state": {
            "_view_name": "HBoxView",
            "_dom_classes": [],
            "_model_name": "HBoxModel",
            "_view_module": "@jupyter-widgets/controls",
            "_model_module_version": "1.5.0",
            "_view_count": null,
            "_view_module_version": "1.5.0",
            "box_style": "",
            "layout": "IPY_MODEL_43f4019cbc2b47ed8b2d5c086d54d9b3",
            "_model_module": "@jupyter-widgets/controls",
            "children": [
              "IPY_MODEL_4842ccd243664ff9abab863951269703",
              "IPY_MODEL_4b75afcaeced4c6c9ecd25f7271e5e39",
              "IPY_MODEL_dfcb84d74ed04ee6b43eaf0146ee1497"
            ]
          }
        },
        "43f4019cbc2b47ed8b2d5c086d54d9b3": {
          "model_module": "@jupyter-widgets/base",
          "model_name": "LayoutModel",
          "state": {
            "_view_name": "LayoutView",
            "grid_template_rows": null,
            "right": null,
            "justify_content": null,
            "_view_module": "@jupyter-widgets/base",
            "overflow": null,
            "_model_module_version": "1.2.0",
            "_view_count": null,
            "flex_flow": null,
            "width": null,
            "min_width": null,
            "border": null,
            "align_items": null,
            "bottom": null,
            "_model_module": "@jupyter-widgets/base",
            "top": null,
            "grid_column": null,
            "overflow_y": null,
            "overflow_x": null,
            "grid_auto_flow": null,
            "grid_area": null,
            "grid_template_columns": null,
            "flex": null,
            "_model_name": "LayoutModel",
            "justify_items": null,
            "grid_row": null,
            "max_height": null,
            "align_content": null,
            "visibility": null,
            "align_self": null,
            "height": null,
            "min_height": null,
            "padding": null,
            "grid_auto_rows": null,
            "grid_gap": null,
            "max_width": null,
            "order": null,
            "_view_module_version": "1.2.0",
            "grid_template_areas": null,
            "object_position": null,
            "object_fit": null,
            "grid_auto_columns": null,
            "margin": null,
            "display": null,
            "left": null
          }
        },
        "4842ccd243664ff9abab863951269703": {
          "model_module": "@jupyter-widgets/controls",
          "model_name": "HTMLModel",
          "state": {
            "_view_name": "HTMLView",
            "style": "IPY_MODEL_39429580386d4aca8cbdeeb40b435142",
            "_dom_classes": [],
            "description": "",
            "_model_name": "HTMLModel",
            "placeholder": "​",
            "_view_module": "@jupyter-widgets/controls",
            "_model_module_version": "1.5.0",
            "value": "100%",
            "_view_count": null,
            "_view_module_version": "1.5.0",
            "description_tooltip": null,
            "_model_module": "@jupyter-widgets/controls",
            "layout": "IPY_MODEL_8571533039914af691bd932dcf3c6a7d"
          }
        },
        "4b75afcaeced4c6c9ecd25f7271e5e39": {
          "model_module": "@jupyter-widgets/controls",
          "model_name": "FloatProgressModel",
          "state": {
            "_view_name": "ProgressView",
            "style": "IPY_MODEL_a0dd28f3fbf04f0384b9c7e6e0add6d8",
            "_dom_classes": [],
            "description": "",
            "_model_name": "FloatProgressModel",
            "bar_style": "success",
            "max": 5,
            "_view_module": "@jupyter-widgets/controls",
            "_model_module_version": "1.5.0",
            "value": 5,
            "_view_count": null,
            "_view_module_version": "1.5.0",
            "orientation": "horizontal",
            "min": 0,
            "description_tooltip": null,
            "_model_module": "@jupyter-widgets/controls",
            "layout": "IPY_MODEL_89b4238c9fad4d62a2e222e495817a8c"
          }
        },
        "dfcb84d74ed04ee6b43eaf0146ee1497": {
          "model_module": "@jupyter-widgets/controls",
          "model_name": "HTMLModel",
          "state": {
            "_view_name": "HTMLView",
            "style": "IPY_MODEL_48d17eeece55463088fa554a6d94dd69",
            "_dom_classes": [],
            "description": "",
            "_model_name": "HTMLModel",
            "placeholder": "​",
            "_view_module": "@jupyter-widgets/controls",
            "_model_module_version": "1.5.0",
            "value": " 5/5 [00:05&lt;00:00,  1.35s/it]",
            "_view_count": null,
            "_view_module_version": "1.5.0",
            "description_tooltip": null,
            "_model_module": "@jupyter-widgets/controls",
            "layout": "IPY_MODEL_1f055c9a7332489a996b8a85aa91d52a"
          }
        },
        "39429580386d4aca8cbdeeb40b435142": {
          "model_module": "@jupyter-widgets/controls",
          "model_name": "DescriptionStyleModel",
          "state": {
            "_view_name": "StyleView",
            "_model_name": "DescriptionStyleModel",
            "description_width": "",
            "_view_module": "@jupyter-widgets/base",
            "_model_module_version": "1.5.0",
            "_view_count": null,
            "_view_module_version": "1.2.0",
            "_model_module": "@jupyter-widgets/controls"
          }
        },
        "8571533039914af691bd932dcf3c6a7d": {
          "model_module": "@jupyter-widgets/base",
          "model_name": "LayoutModel",
          "state": {
            "_view_name": "LayoutView",
            "grid_template_rows": null,
            "right": null,
            "justify_content": null,
            "_view_module": "@jupyter-widgets/base",
            "overflow": null,
            "_model_module_version": "1.2.0",
            "_view_count": null,
            "flex_flow": null,
            "width": null,
            "min_width": null,
            "border": null,
            "align_items": null,
            "bottom": null,
            "_model_module": "@jupyter-widgets/base",
            "top": null,
            "grid_column": null,
            "overflow_y": null,
            "overflow_x": null,
            "grid_auto_flow": null,
            "grid_area": null,
            "grid_template_columns": null,
            "flex": null,
            "_model_name": "LayoutModel",
            "justify_items": null,
            "grid_row": null,
            "max_height": null,
            "align_content": null,
            "visibility": null,
            "align_self": null,
            "height": null,
            "min_height": null,
            "padding": null,
            "grid_auto_rows": null,
            "grid_gap": null,
            "max_width": null,
            "order": null,
            "_view_module_version": "1.2.0",
            "grid_template_areas": null,
            "object_position": null,
            "object_fit": null,
            "grid_auto_columns": null,
            "margin": null,
            "display": null,
            "left": null
          }
        },
        "a0dd28f3fbf04f0384b9c7e6e0add6d8": {
          "model_module": "@jupyter-widgets/controls",
          "model_name": "ProgressStyleModel",
          "state": {
            "_view_name": "StyleView",
            "_model_name": "ProgressStyleModel",
            "description_width": "",
            "_view_module": "@jupyter-widgets/base",
            "_model_module_version": "1.5.0",
            "_view_count": null,
            "_view_module_version": "1.2.0",
            "bar_color": null,
            "_model_module": "@jupyter-widgets/controls"
          }
        },
        "89b4238c9fad4d62a2e222e495817a8c": {
          "model_module": "@jupyter-widgets/base",
          "model_name": "LayoutModel",
          "state": {
            "_view_name": "LayoutView",
            "grid_template_rows": null,
            "right": null,
            "justify_content": null,
            "_view_module": "@jupyter-widgets/base",
            "overflow": null,
            "_model_module_version": "1.2.0",
            "_view_count": null,
            "flex_flow": null,
            "width": null,
            "min_width": null,
            "border": null,
            "align_items": null,
            "bottom": null,
            "_model_module": "@jupyter-widgets/base",
            "top": null,
            "grid_column": null,
            "overflow_y": null,
            "overflow_x": null,
            "grid_auto_flow": null,
            "grid_area": null,
            "grid_template_columns": null,
            "flex": null,
            "_model_name": "LayoutModel",
            "justify_items": null,
            "grid_row": null,
            "max_height": null,
            "align_content": null,
            "visibility": null,
            "align_self": null,
            "height": null,
            "min_height": null,
            "padding": null,
            "grid_auto_rows": null,
            "grid_gap": null,
            "max_width": null,
            "order": null,
            "_view_module_version": "1.2.0",
            "grid_template_areas": null,
            "object_position": null,
            "object_fit": null,
            "grid_auto_columns": null,
            "margin": null,
            "display": null,
            "left": null
          }
        },
        "48d17eeece55463088fa554a6d94dd69": {
          "model_module": "@jupyter-widgets/controls",
          "model_name": "DescriptionStyleModel",
          "state": {
            "_view_name": "StyleView",
            "_model_name": "DescriptionStyleModel",
            "description_width": "",
            "_view_module": "@jupyter-widgets/base",
            "_model_module_version": "1.5.0",
            "_view_count": null,
            "_view_module_version": "1.2.0",
            "_model_module": "@jupyter-widgets/controls"
          }
        },
        "1f055c9a7332489a996b8a85aa91d52a": {
          "model_module": "@jupyter-widgets/base",
          "model_name": "LayoutModel",
          "state": {
            "_view_name": "LayoutView",
            "grid_template_rows": null,
            "right": null,
            "justify_content": null,
            "_view_module": "@jupyter-widgets/base",
            "overflow": null,
            "_model_module_version": "1.2.0",
            "_view_count": null,
            "flex_flow": null,
            "width": null,
            "min_width": null,
            "border": null,
            "align_items": null,
            "bottom": null,
            "_model_module": "@jupyter-widgets/base",
            "top": null,
            "grid_column": null,
            "overflow_y": null,
            "overflow_x": null,
            "grid_auto_flow": null,
            "grid_area": null,
            "grid_template_columns": null,
            "flex": null,
            "_model_name": "LayoutModel",
            "justify_items": null,
            "grid_row": null,
            "max_height": null,
            "align_content": null,
            "visibility": null,
            "align_self": null,
            "height": null,
            "min_height": null,
            "padding": null,
            "grid_auto_rows": null,
            "grid_gap": null,
            "max_width": null,
            "order": null,
            "_view_module_version": "1.2.0",
            "grid_template_areas": null,
            "object_position": null,
            "object_fit": null,
            "grid_auto_columns": null,
            "margin": null,
            "display": null,
            "left": null
          }
        }
      }
    },
    "accelerator": "GPU"
  },
  "cells": [
    {
      "cell_type": "markdown",
      "metadata": {
        "id": "view-in-github",
        "colab_type": "text"
      },
      "source": [
        "<a href=\"https://colab.research.google.com/github/AdrianKopperud/automatedfeatureengineering/blob/main/Manual_Engineering_Master_Thesis.ipynb\" target=\"_parent\"><img src=\"https://colab.research.google.com/assets/colab-badge.svg\" alt=\"Open In Colab\"/></a>"
      ]
    },
    {
      "cell_type": "code",
      "metadata": {
        "id": "TShXPzqr1Fhe"
      },
      "source": [
        "!pip install -U pandas-profiling"
      ],
      "execution_count": null,
      "outputs": []
    },
    {
      "cell_type": "markdown",
      "metadata": {
        "id": "PgotgEBf1g1W"
      },
      "source": [
        "### Import functions"
      ]
    },
    {
      "cell_type": "code",
      "metadata": {
        "id": "q_6k5fIhFndT"
      },
      "source": [
        "# Import\n",
        "from sklearn import preprocessing\n",
        "import pandas as pd\n",
        "import numpy as np\n",
        "import matplotlib.pyplot as plt\n",
        "import os\n",
        "import seaborn as sns\n",
        "import datetime as dt\n",
        "import datetime\n",
        "from sklearn.metrics import roc_auc_score\n",
        "from sklearn.model_selection import TimeSeriesSplit\n",
        "from sklearn.metrics import make_scorer\n",
        "from sklearn.metrics import accuracy_score\n",
        "from sklearn.metrics import precision_score\n",
        "from sklearn.metrics import recall_score\n",
        "from sklearn.ensemble import RandomForestClassifier\n",
        "from sklearn.metrics import f1_score\n",
        "from sklearn.preprocessing import StandardScaler\n",
        "from imblearn.over_sampling import SMOTE, ADASYN\n",
        "from sklearn.decomposition import PCA\n",
        "from sklearn.model_selection import KFold, TimeSeriesSplit\n",
        "from time import time\n",
        "from sklearn.preprocessing import MinMaxScaler\n",
        "from sklearn.preprocessing import LabelEncoder\n",
        "from sklearn.preprocessing import OneHotEncoder\n",
        "from sklearn.model_selection import KFold, StratifiedKFold\n",
        "from sklearn.metrics import roc_auc_score, make_scorer\n",
        "from sklearn.tree import DecisionTreeClassifier\n",
        "import gc\n",
        "import re\n",
        "import xgboost as xgb\n",
        "from sklearn.metrics import accuracy_score\n",
        "from xgboost import XGBClassifier\n",
        "from collections import Counter\n",
        "from sklearn.metrics import classification_report, confusion_matrix\n",
        "from sklearn.datasets import make_classification\n",
        "from sklearn.linear_model import LogisticRegression\n",
        "from sklearn.model_selection import train_test_split\n",
        "from sklearn.metrics import roc_curve\n",
        "from matplotlib import pyplot\n",
        "from google.colab import drive\n",
        "import math\n",
        "import warnings\n",
        "warnings.filterwarnings('ignore')\n",
        "pd.set_option('display.max_columns', 3000)\n",
        "pd.set_option('display.max_rows', 3000)"
      ],
      "execution_count": null,
      "outputs": []
    },
    {
      "cell_type": "code",
      "metadata": {
        "id": "v_fZ0Re-FndU"
      },
      "source": [
        "\n",
        "# Function to calculate Precision and Recall\n",
        "\n",
        "def calc_precision_recall(y_true, y_pred):\n",
        "    \n",
        "    # Convert predictions to series with index matching y_true\n",
        "    y_pred = pd.Series(y_pred, index=y_true.index)\n",
        "    \n",
        "    # Instantiate counters\n",
        "    TP = 0\n",
        "    FP = 0\n",
        "    FN = 0\n",
        "\n",
        "    # Determine whether each prediction is TP, FP, TN, or FN\n",
        "    for i in y_true.index: \n",
        "        if y_true[i]==y_pred[i]==1:\n",
        "           TP += 1\n",
        "        if y_pred[i]==1 and y_true[i]!=y_pred[i]:\n",
        "           FP += 1\n",
        "        if y_pred[i]==0 and test_y[i]!=y_pred[i]:\n",
        "           FN += 1\n",
        "    \n",
        "    # Calculate true positive rate and false positive rate\n",
        "    # Use try-except statements to avoid problem of dividing by 0\n",
        "    try:\n",
        "        precision = TP / (TP + FP)\n",
        "    except:\n",
        "        precision = 1\n",
        "    \n",
        "    try:\n",
        "        recall = TP / (TP + FN)\n",
        "    except:\n",
        "        recall = 1\n",
        "\n",
        "    return precision, recall\n",
        "\n",
        "# Test function\n",
        "\n",
        "from sklearn import metrics\n",
        "def buildROC(target_test,test_preds):\n",
        "    fpr, tpr, threshold = metrics.roc_curve(target_test, test_preds)\n",
        "    roc_auc = metrics.auc(fpr, tpr)\n",
        "    plt.title('Receiver Operating Characteristic')\n",
        "    plt.plot(fpr, tpr, 'b', label = 'AUC = %0.2f' % roc_auc)\n",
        "    plt.legend(loc = 'lower right')\n",
        "    plt.plot([0, 1], [0, 1],'r--')\n",
        "    plt.ylabel('True Positive Rate')\n",
        "    plt.xlabel('False Positive Rate')\n",
        "    plt.gcf().savefig('roc.png')\n",
        "\n",
        "def identify_zero_importance_features(train, train_labels, iterations = 2):\n",
        "    \"\"\"\n",
        "    Identify zero importance features in a training dataset based on the \n",
        "    feature importances from a gradient boosting model. \n",
        "    \n",
        "    Parameters\n",
        "    --------\n",
        "    train : dataframe\n",
        "        Training features\n",
        "        \n",
        "    train_labels : np.array\n",
        "        Labels for training data\n",
        "        \n",
        "    iterations : integer, default = 2\n",
        "        Number of cross validation splits to use for determining feature importances\n",
        "    \"\"\"\n",
        "    \n",
        "    # Initialize an empty array to hold feature importances\n",
        "    feature_importances = np.zeros(train.shape[1])\n",
        "\n",
        "    # Create the model with several hyperparameters\n",
        "    model = xgb.XGBClassifier(num_boost_round=100, n_estimators = 240, tree_method='gpu_hist', )\n",
        "    \n",
        "    # Fit the model multiple times to avoid overfitting\n",
        "    for i in range(iterations):\n",
        "\n",
        "        # Split into training and validation set\n",
        "        train_features, valid_features, train_y, valid_y = train_test_split(train, train_labels, test_size = 0.25, random_state = i)\n",
        "\n",
        "        # Train using early stopping\n",
        "        model.fit(train_features, train_y, early_stopping_rounds=100, eval_set = [(valid_features, valid_y)], \n",
        "                  eval_metric = 'auc', verbose = 200)\n",
        "\n",
        "        # Record the feature importances\n",
        "        feature_importances += model.feature_importances_ / iterations\n",
        "    \n",
        "    feature_importances = pd.DataFrame({'feature': list(train.columns), 'importance': feature_importances}).sort_values('importance', ascending = False)\n",
        "    \n",
        "    # Find the features with zero importance\n",
        "    zero_features = list(feature_importances[feature_importances['importance'] == 0.0]['feature'])\n",
        "    print('\\nThere are %d features with 0.0 importance' % len(zero_features))\n",
        "    \n",
        "    return zero_features, feature_importances\n",
        "\n",
        "def plot_feature_importances(df, threshold = 0.9):\n",
        "    \"\"\"\n",
        "    Plots 15 most important features and the cumulative importance of features.\n",
        "    Prints the number of features needed to reach threshold cumulative importance.\n",
        "    \n",
        "    Parameters\n",
        "    --------\n",
        "    df : dataframe\n",
        "        Dataframe of feature importances. Columns must be feature and importance\n",
        "    threshold : float, default = 0.9\n",
        "        Threshold for prining information about cumulative importances\n",
        "        \n",
        "    Return\n",
        "    --------\n",
        "    df : dataframe\n",
        "        Dataframe ordered by feature importances with a normalized column (sums to 1)\n",
        "        and a cumulative importance column\n",
        "    \n",
        "    \"\"\"\n",
        "    \n",
        "    plt.rcParams['font.size'] = 18\n",
        "    \n",
        "    # Sort features according to importance\n",
        "    df = df.sort_values('importance', ascending = False).reset_index()\n",
        "    \n",
        "    # Normalize the feature importances to add up to one\n",
        "    df['importance_normalized'] = df['importance'] / df['importance'].sum()\n",
        "    df['cumulative_importance'] = np.cumsum(df['importance_normalized'])\n",
        "\n",
        "    # Make a horizontal bar chart of feature importances\n",
        "    plt.figure(figsize = (10, 6))\n",
        "    ax = plt.subplot()\n",
        "    \n",
        "    # Need to reverse the index to plot most important on top\n",
        "    ax.barh(list(reversed(list(df.index[:15]))), \n",
        "            df['importance_normalized'].head(15), \n",
        "            align = 'center', edgecolor = 'k')\n",
        "    \n",
        "    # Set the yticks and labels\n",
        "    ax.set_yticks(list(reversed(list(df.index[:15]))))\n",
        "    ax.set_yticklabels(df['feature'].head(15))\n",
        "    \n",
        "    # Plot labeling\n",
        "    plt.xlabel('Normalized Importance'); plt.title('Feature Importances')\n",
        "    plt.show()\n",
        "    \n",
        "    # Cumulative importance plot\n",
        "    plt.figure(figsize = (8, 6))\n",
        "    plt.plot(list(range(len(df))), df['cumulative_importance'], 'r-')\n",
        "    plt.xlabel('Number of Features'); plt.ylabel('Cumulative Importance'); \n",
        "    plt.title('Cumulative Feature Importance');\n",
        "    plt.show();\n",
        "    \n",
        "    importance_index = np.min(np.where(df['cumulative_importance'] > threshold))\n",
        "    print('%d features required for %0.2f of cumulative importance' % (importance_index + 1, threshold))\n",
        "    \n",
        "    return df\n",
        "\n",
        "\n",
        "def check_missing(df):\n",
        "    null_val = df.isnull().sum()\n",
        "    percent = 100 * df.isnull().sum()/len(df)\n",
        "    missing_table = pd.concat([null_val, percent], axis=1)\n",
        "    col = missing_table.rename(columns = {0 : 'Num', 1 : 'Rate'})\n",
        "    return col\n",
        "\n",
        "def plot_missing_pct(df, features, feature_name):\n",
        "    '''this function draw bar plot of missing value percentage '''\n",
        "    plt.figure(figsize=(16,6))\n",
        "    ax = plt.subplot(111)\n",
        "    \n",
        "    ax.bar(features, df[features].isnull().mean())\n",
        "    ax.set_ylim(0,1)\n",
        "    ax.set_xlabel(feature_name)\n",
        "    ax.set_ylabel('% missing data')\n",
        "    \n",
        "    ax.xaxis.set_tick_params(width=0)\n",
        "    ax.yaxis.set_tick_params(width=2, length=12)\n",
        "    \n",
        "    plt.title('Percentage of missing values of {}'.format(feature_name))\n",
        "    plt.show()\n",
        "\n",
        "def correlation_heatmap(train):\n",
        "    correlations = train.corr()\n",
        "\n",
        "    fig, ax = plt.subplots(figsize=(24,24))\n",
        "    sns.heatmap(correlations, vmax=1.0, center=0, fmt='.2f',\n",
        "                square=True, linewidths=.5, annot=True, cbar_kws={\"shrink\": .70})\n",
        "    plt.show();\n",
        "\n",
        "## Function to reduce the DF size\n",
        "def memory_reducer(df, verbose=True):\n",
        "    numerics = ['int16', 'int32', 'int64', 'float16', 'float32', 'float64']\n",
        "    start_mem = df.memory_usage().sum() / 1024**2    \n",
        "    for col in df.columns:\n",
        "        col_type = df[col].dtypes\n",
        "        if col_type in numerics:\n",
        "            c_min = df[col].min()\n",
        "            c_max = df[col].max()\n",
        "            if str(col_type)[:3] == 'int':\n",
        "                if c_min > np.iinfo(np.int8).min and c_max < np.iinfo(np.int8).max:\n",
        "                    df[col] = df[col].astype(np.int8)\n",
        "                elif c_min > np.iinfo(np.int16).min and c_max < np.iinfo(np.int16).max:\n",
        "                    df[col] = df[col].astype(np.int16)\n",
        "                elif c_min > np.iinfo(np.int32).min and c_max < np.iinfo(np.int32).max:\n",
        "                    df[col] = df[col].astype(np.int32)\n",
        "                elif c_min > np.iinfo(np.int64).min and c_max < np.iinfo(np.int64).max:\n",
        "                    df[col] = df[col].astype(np.int64)  \n",
        "            else:\n",
        "                if c_min > np.finfo(np.float16).min and c_max < np.finfo(np.float16).max:\n",
        "                    df[col] = df[col].astype(np.float16)\n",
        "                elif c_min > np.finfo(np.float32).min and c_max < np.finfo(np.float32).max:\n",
        "                    df[col] = df[col].astype(np.float32)\n",
        "                else:\n",
        "                    df[col] = df[col].astype(np.float64)    \n",
        "    end_mem = df.memory_usage().sum() / 1024**2\n",
        "    if verbose: print('Mem. usage decreased to {:5.2f} Mb ({:.1f}% reduction)'.format(end_mem, 100 * (start_mem - end_mem) / start_mem))\n",
        "    \n",
        "def conf_matrix(y_test, y_predicted):\n",
        "  cm = confusion_matrix(y_test, y_predicted)\n",
        "  plt.figure(figsize=(15,10))\n",
        "  plt.clf()\n",
        "  plt.imshow(cm, interpolation='nearest', cmap=plt.cm.Wistia)\n",
        "  classNames = ['Negative','Positive']\n",
        "  plt.title('Confusion Matrix')\n",
        "  plt.ylabel('True label')\n",
        "  plt.xlabel('Predicted label')\n",
        "  tick_marks = np.arange(len(classNames))\n",
        "  plt.xticks(tick_marks, classNames, rotation=45)\n",
        "  plt.yticks(tick_marks, classNames)\n",
        "  s = [['TN','FP'], ['FN', 'TP']]\n",
        "  \n",
        "  for i in range(2):\n",
        "      for j in range(2):\n",
        "          plt.text(j,i, str(s[i][j])+\" = \"+str(cm[i][j]))\n",
        "  plt.show()"
      ],
      "execution_count": null,
      "outputs": []
    },
    {
      "cell_type": "markdown",
      "metadata": {
        "id": "Hl2x00lbKQxy"
      },
      "source": [
        "### 1 Data"
      ]
    },
    {
      "cell_type": "code",
      "metadata": {
        "colab": {
          "base_uri": "https://localhost:8080/"
        },
        "id": "-8rUwozb91_T",
        "outputId": "88f329da-2b26-4952-f4c9-b20a975b7f4a"
      },
      "source": [
        "from google.colab import drive\n",
        "drive.mount('/content/drive')"
      ],
      "execution_count": null,
      "outputs": [
        {
          "output_type": "stream",
          "text": [
            "Mounted at /content/drive\n"
          ],
          "name": "stdout"
        }
      ]
    },
    {
      "cell_type": "code",
      "metadata": {
        "id": "UiS7lZXaFndg"
      },
      "source": [
        "# IMPORT DATA\n",
        "id = pd.read_csv(\"/content/drive/MyDrive/Thesis/Data/ID.csv\")\n",
        "tran = pd.read_csv(\"/content/drive/MyDrive/Thesis/Data/Transaction.csv\")\n",
        "\n",
        "# Remove vesta features V_xxxx\n",
        "tran = tran.loc[:,~tran.columns.str.startswith('V')]\n",
        "\n",
        "# Merge the classes \n",
        "df = pd.merge(tran, id, how=\"outer\", on=[\"TransactionID\"])\n",
        "\n",
        "del tran\n",
        "del id"
      ],
      "execution_count": null,
      "outputs": []
    },
    {
      "cell_type": "markdown",
      "metadata": {
        "id": "ryVpUr44Fndh"
      },
      "source": [
        "### 2 Pre-processing"
      ]
    },
    {
      "cell_type": "markdown",
      "metadata": {
        "id": "CFZbXJCOFndi"
      },
      "source": [
        "Create categories for each e-mail provider and cluster e-mail within the company provider. As such we could reduce the number of categories from 60 to a few. __Furthermore did I split up the .com, .us and so on into suffix, not sure if that may be future engineering since the data in the categorical variable are split into two different new variables.__"
      ]
    },
    {
      "cell_type": "markdown",
      "metadata": {
        "id": "02pFvFf5lzY2"
      },
      "source": [
        "#### 2.1 Catagorical features"
      ]
    },
    {
      "cell_type": "markdown",
      "metadata": {
        "id": "-iMrJqM8lzY3"
      },
      "source": [
        "##### 2.1.1 P_emaildomain and R_emaildomain"
      ]
    },
    {
      "cell_type": "code",
      "metadata": {
        "id": "S-goEYExlzY3"
      },
      "source": [
        "# email features: P_emaildomain, R_emaildomain\n",
        "# email map\n",
        "emails = {'gmail': 'google', 'att.net': 'att', 'twc.com': 'spectrum', \n",
        "          'scranton.edu': 'other', 'optonline.net': 'other', 'hotmail.co.uk': 'microsoft',\n",
        "          'comcast.net': 'other', 'yahoo.com.mx': 'yahoo', 'yahoo.fr': 'yahoo',\n",
        "          'yahoo.es': 'yahoo', 'charter.net': 'spectrum', 'live.com': 'microsoft', \n",
        "          'aim.com': 'aol', 'hotmail.de': 'microsoft', 'centurylink.net': 'centurylink',\n",
        "          'gmail.com': 'google', 'me.com': 'apple', 'earthlink.net': 'other', 'gmx.de': 'other',\n",
        "          'web.de': 'other', 'cfl.rr.com': 'other', 'hotmail.com': 'microsoft', \n",
        "          'protonmail.com': 'other', 'hotmail.fr': 'microsoft', 'windstream.net': 'other', \n",
        "          'outlook.es': 'microsoft', 'yahoo.co.jp': 'yahoo', 'yahoo.de': 'yahoo',\n",
        "          'servicios-ta.com': 'other', 'netzero.net': 'other', 'suddenlink.net': 'other',\n",
        "          'roadrunner.com': 'other', 'sc.rr.com': 'other', 'live.fr': 'microsoft',\n",
        "          'verizon.net': 'yahoo', 'msn.com': 'microsoft', 'q.com': 'centurylink', \n",
        "          'prodigy.net.mx': 'att', 'frontier.com': 'yahoo', 'anonymous.com': 'other', \n",
        "          'rocketmail.com': 'yahoo', 'sbcglobal.net': 'att', 'frontiernet.net': 'yahoo', \n",
        "          'ymail.com': 'yahoo', 'outlook.com': 'microsoft', 'mail.com': 'other', \n",
        "          'bellsouth.net': 'other', 'embarqmail.com': 'centurylink', 'cableone.net': 'other', \n",
        "          'hotmail.es': 'microsoft', 'mac.com': 'apple', 'yahoo.co.uk': 'yahoo', 'netzero.com': 'other', \n",
        "          'yahoo.com': 'yahoo', 'live.com.mx': 'microsoft', 'ptd.net': 'other', 'cox.net': 'other',\n",
        "          'aol.com': 'aol', 'juno.com': 'other', 'icloud.com': 'apple'}\n",
        "\n",
        "us_emails = ['gmail', 'net', 'edu']\n",
        "\n",
        "# fill na\n",
        "df.loc[:, ['P_emaildomain', 'R_emaildomain']] = df[['P_emaildomain', 'R_emaildomain']].fillna('None')\n",
        "\n",
        "# clean email domains\n",
        "df = df.assign(P_emaildomain_bin = df['P_emaildomain'].map(emails),\n",
        "          P_emaildomain_suffix = df['P_emaildomain'].map(lambda x: str(x).split('.')[-1]).map(lambda x: 'us' if str(x) in us_emails else x),\n",
        "          R_emaildomain_bin = df['R_emaildomain'].map(emails),\n",
        "          R_emaildomain_suffix = df['R_emaildomain'].map(lambda x: str(x).split('.')[-1]).map(lambda x: 'us' if str(x) in us_emails else x),\n",
        "        )\n",
        "df.loc[:, ['P_emaildomain_bin', 'R_emaildomain_bin']] = df[['P_emaildomain_bin', 'R_emaildomain_bin']].fillna('None')\n",
        "\n",
        "df.drop(['P_emaildomain', 'R_emaildomain'], axis=1, inplace=True)"
      ],
      "execution_count": null,
      "outputs": []
    },
    {
      "cell_type": "markdown",
      "metadata": {
        "id": "e9YyoL15lzY4"
      },
      "source": [
        "##### 2.1.2 Device features, DeviceInfo and DeviceType"
      ]
    },
    {
      "cell_type": "markdown",
      "metadata": {
        "id": "9eKmFlOFlzY4"
      },
      "source": [
        "For DeviceType, DeviceInfo and other id_xx variables with device info regarding screen size, phone producer and browser, did I cluster the different brands of same name into one brand. This reduces the number of categories. Furthermore, was the NAN observations filled with None. "
      ]
    },
    {
      "cell_type": "code",
      "metadata": {
        "id": "zQxXxkTclzY5"
      },
      "source": [
        "# deveice features: DeviceInfo, DeviceType\n",
        "# device map\n",
        "devices = {'SM': 'Samsung', 'SAMSUNG': 'Samsung', 'GT-': 'Samsung', 'Moto G': 'Motorola',\n",
        "           'Moto': 'Motorola', 'moto': 'Motorola', 'LG-': 'LG', 'VS\\d{3}': 'LG', 'LG\\w{2}\\d{3}': 'LG', 'rv': 'RV', 'HUAWEI': 'Huawei',\n",
        "           'ALE-':'Huawei', '-L':'Huawei', 'hi6210sft': 'Huawei', 'CHC-U03': 'Huawei', 'Blade': 'ZTE', 'Z\\d{3}': 'ZTE', 'BLADE': 'ZTE', 'ZTE':'ZTE', \n",
        "           'Linux': 'Linux', 'XT': 'Sony', 'F\\d{4}': 'Sony', 'E\\d{4}': 'Sony', 'G\\d{4}': 'Sony', 'HTC': 'HTC', 'ASUS': 'Asus',\n",
        "           'Pixel': 'Pixel', 'Lenovo': 'Lenovo', 'Windows': 'Windows', 'Redmi': 'Redmi', 'Ilium': 'Ilium', 'ILIUM': 'Ilium',\n",
        "           'Hisense': 'Hisense', 'KF': 'Amazon', 'Android': 'Android', '\\d{4}A': 'Alcatel', '\\d{4}W': 'Alcatel', '\\d{4}M': 'Alcatel', \n",
        "           'Alcatel': 'Alcatel', 'ALCATEL':'Alcatel', '\\d{4}G': 'Mozilla', 'M4': 'M4', 'TA-': 'Nokia', 'NOKIA': 'Nokia', 'Nexus':'Nexus', 'BLU':'BLU'}\n",
        "\n",
        "# devices_list = df.loc[:,'device_name'].value_counts().where(lambda x : x>80).dropna().index.values\n",
        "\n",
        "devices_list = ['None', 'Windows', 'iOS Device', 'MacOS', 'Samsung', 'Trident', 'RV',\n",
        "               'Motorola', 'LG', 'Huawei', 'Sony', 'ZTE', 'HTC', 'Alcatel', 'Lenovo',\n",
        "               'Ilium', 'Pixel', 'Hisense', 'Amazon', 'Mozilla', 'M4', 'Redmi',\n",
        "               'Nokia', 'Linux', 'Nexus', 'Android']\n",
        "\n",
        "# clean device name\n",
        "df.loc[:,'DeviceName'] = df['DeviceInfo'].str.split('/').str[0].fillna('None')\n",
        "for k,v in devices.items():\n",
        "    df.loc[df['DeviceName'].str.contains(k, na=False), 'DeviceName'] = v\n",
        "df.loc[~df['DeviceName'].isin(devices_list), 'DeviceName'] = 'Others'\n",
        "\n",
        "# remove DeviceInfo\n",
        "df.drop(['DeviceInfo'], axis=1, inplace=True)\n",
        "\n",
        "# DeviceType - fillna\n",
        "df.loc[:,'DeviceType'] = df['DeviceType'].fillna('None')"
      ],
      "execution_count": null,
      "outputs": []
    },
    {
      "cell_type": "markdown",
      "metadata": {
        "id": "NlfjUS-ylzY5"
      },
      "source": [
        "##### 2.1.3 Other categorical features, address and card"
      ]
    },
    {
      "cell_type": "markdown",
      "metadata": {
        "id": "AmFTPtLZlzY5"
      },
      "source": [
        "Further I converted address and card variables from float to categorical/object as they were specified by VESTA in (https://www.kaggle.com/c/ieee-fraud-detection/discussion/101203) to be categorical. Hence, should not be treated as numerical values as they have another meaning. Further was NAN values filled with NONE to remove the missing values and use a common new category for all missing values to keep the pattern in the data. "
      ]
    },
    {
      "cell_type": "code",
      "metadata": {
        "id": "-LGZpon6A7au"
      },
      "source": [
        "# other categorical features (address, card, M features)\n",
        "addr_features = df.columns[df.columns.str.contains('addr')].values.tolist()\n",
        "card_features = df.columns[df.columns.str.contains('card')].values.tolist()\n",
        "m_features = df.columns[df.columns.str.contains('M\\d+')].values.tolist()\n",
        "\n",
        "# int to float\n",
        "features_to_int = df[addr_features+card_features].dtypes.where(lambda x: x == 'float64').dropna().index\n",
        "df.loc[:, features_to_int] = df.loc[:, features_to_int].astype('Int64')\n",
        "\n",
        "# int to str\n",
        "df.loc[:, addr_features+card_features] = df.loc[:, addr_features+card_features].astype(str)\n",
        "\n",
        "# fill na\n",
        "df.loc[:, addr_features+card_features+m_features] = df[addr_features+card_features+m_features].fillna('None')\n",
        "\n",
        "# clean card type\n",
        "df['card6'] = df['card6'].map(lambda x: 'None' if x not in ['debit', 'credit', 'None'] else x)"
      ],
      "execution_count": null,
      "outputs": []
    },
    {
      "cell_type": "code",
      "metadata": {
        "id": "tsr8-IOSlzY6"
      },
      "source": [
        ""
      ],
      "execution_count": null,
      "outputs": []
    },
    {
      "cell_type": "markdown",
      "metadata": {
        "id": "xkdU8Gj5lzY6"
      },
      "source": [
        "##### 2.1.4 ID_features"
      ]
    },
    {
      "cell_type": "markdown",
      "metadata": {
        "id": "sCihu2dWlzY6"
      },
      "source": [
        "Clean the categorical ID_xx variables that goes from ID_12 until ID_38 + \"DeviceInfo\" and \"DeviceType\". We convert the categorical ID_xx from float to object/category as the numbers in the variables which are categorical (specified by VESTA) do not have the same numeric meaning as true numeric float variables.__Furthermore, do we split the id_01 - id_11 into its own category which we will treat accordingly in the numerical cleaning part for id_xx features!__"
      ]
    },
    {
      "cell_type": "code",
      "metadata": {
        "id": "BqRg-MWllzY7"
      },
      "source": [
        "id_features = df.columns[df.columns.str.contains('id_\\d+')]\n",
        "cat_id_features = ['id_'+str(x).zfill(2) for x in range(12, 38+1)]\n",
        "num_id_features = ['id_'+str(x).zfill(2) for x in range(1, 12)]"
      ],
      "execution_count": null,
      "outputs": []
    },
    {
      "cell_type": "code",
      "metadata": {
        "id": "IkpzP3UdFndm"
      },
      "source": [
        "# missing value check\n",
        "num_check_df = pd.DataFrame({'Missing Percentage': np.round(df[num_id_features].isnull().mean()*100), \n",
        "              'Zero Percentage': np.round((df[num_id_features]==0).mean()*100),\n",
        "              'Total Percentage': np.round((df[num_id_features].isnull()|(df[num_id_features]==0)).mean()*100)})\\\n",
        "            .sort_values('Total Percentage', ascending=False)\n",
        "    \n",
        "cat_check_df = pd.DataFrame({'Missing Percentage': np.round(df[cat_id_features].isnull().mean()*100),\n",
        "                             'Nunique': df[cat_id_features].nunique()})\\\n",
        "            .sort_values('Missing Percentage', ascending=False)\n",
        "    \n",
        "# drop missing + zero values >= 99%\n",
        "num_id_features_todrop = num_check_df[num_check_df['Total Percentage'] >= 99].index.values.tolist()\n",
        "num_id_features_tokeep = num_check_df[num_check_df['Total Percentage'] < 99].index.values.tolist()\n",
        "df.drop(num_id_features_todrop, axis=1, inplace=True)\n",
        "\n",
        "cat_id_features_todrop = cat_check_df[cat_check_df['Missing Percentage'] >= 99].index.values.tolist()\n",
        "cat_id_features_tokeep = cat_check_df[cat_check_df['Missing Percentage'] < 99].index.values.tolist()\n",
        "df.drop(cat_id_features_todrop, axis=1, inplace=True)"
      ],
      "execution_count": null,
      "outputs": []
    },
    {
      "cell_type": "code",
      "metadata": {
        "colab": {
          "base_uri": "https://localhost:8080/"
        },
        "id": "kABTA2-AFndn",
        "outputId": "33f11575-1323-46e4-8510-51aeb6115ddf"
      },
      "source": [
        "# int to float\n",
        "cat_id_features_to_int = df[cat_id_features_tokeep].dtypes.where(lambda x: x == 'float64').dropna().index\n",
        "df.loc[:, cat_id_features_to_int] = df.loc[:, cat_id_features_to_int].astype('Int64')\n",
        "\n",
        "# int to str\n",
        "df.loc[:, cat_id_features_to_int] = df.loc[:, cat_id_features_to_int].astype(str)\n",
        "\n",
        "# fill na with None\n",
        "df[cat_id_features_tokeep] = df[cat_id_features_tokeep].fillna('None')\n",
        "\n",
        "# id - system\n",
        "df['sys_id_30'] = df['id_30'].str.split(' ').str[0]\n",
        "sys_list = ['Windows', 'iOS', 'Mac', 'Android', 'Linux', 'None']\n",
        "df['sys_id_30'] = np.where(df['sys_id_30'].isin(sys_list), df['sys_id_30'], 'None')\n",
        "\n",
        "# id - browser\n",
        "browsers = {'safari': 'safari', 'chrome': 'chrome', 'samsung': 'samsung', 'Samsung': 'samsung', 'edge': 'edge', \n",
        " 'firefox': 'firefox', 'ie':'ie', 'google':'google', 'other':'others', 'None':'None'}\n",
        "browsers_list = ['chrome','safari','ie','firefox','edge','samsung','None']\n",
        "for k,v in browsers.items():\n",
        "    df.loc[df['id_31'].str.contains(k, na=False), 'browser_id_31'] = v\n",
        "df.loc[~df['browser_id_31'].isin(browsers_list), 'browser_id_31'] = 'others'\n",
        "\n",
        "# id - screen\n",
        "df.loc[df['id_33']=='0x0', 'id_33'] = 'None'\n",
        "screen_height = df.loc[df['id_33']!='None', 'id_33'].str.split('x').str[1].astype(int)\n",
        "bins = [0, 900, 1500, np.inf]\n",
        "screen_height_cate = pd.cut(screen_height, bins, labels=['s', 'm', 'l'])\n",
        "screen_width = df.loc[df['id_33']!='None', 'id_33'].str.split('x').str[0].astype(int)\n",
        "bins = [0, 1200, 2000, np.inf]\n",
        "screen_width_cate = pd.cut(screen_width, bins, labels=['s', 'm', 'l'])\n",
        "\n",
        "screen = screen_width_cate.astype(str) + 'x' + screen_height_cate.astype(str)\n",
        "df.loc[df['id_33']!='None', 'screen_id_33'] = screen\n",
        "df.loc[df['id_33']=='None', 'screen_id_33'] = 'None'\n",
        "\n",
        "# drop id 30, 31, 33\n",
        "df.drop(['id_30','id_31','id_33'], axis=1, inplace=True)\n",
        "cat_id_features_tokeep.remove('id_30')\n",
        "cat_id_features_tokeep.remove('id_31')\n",
        "cat_id_features_tokeep.remove('id_33')\n",
        "\n",
        "# Append categorical to list\n",
        "cat_id_features_tokeep.extend(['sys_id_30', 'browser_id_31', 'screen_id_33'])\n",
        "\n",
        "gc.collect()"
      ],
      "execution_count": null,
      "outputs": [
        {
          "output_type": "execute_result",
          "data": {
            "text/plain": [
              "30"
            ]
          },
          "metadata": {
            "tags": []
          },
          "execution_count": 13
        }
      ]
    },
    {
      "cell_type": "markdown",
      "metadata": {
        "id": "EwAHdwYw4RrP"
      },
      "source": [
        "##### 2.1.5 Label encoder"
      ]
    },
    {
      "cell_type": "code",
      "metadata": {
        "id": "rVvCUMIf4Rz2"
      },
      "source": [
        "# Label Encoding\n",
        "category = []\n",
        "for f in df.drop('isFraud', axis=1).columns:\n",
        "    if df[f].dtype=='object': \n",
        "        lbl = preprocessing.LabelEncoder()\n",
        "        category.append(f)\n",
        "        lbl.fit(list(df[f].values))\n",
        "        df[f] = lbl.transform(list(df[f].values))"
      ],
      "execution_count": null,
      "outputs": []
    },
    {
      "cell_type": "markdown",
      "metadata": {
        "id": "M8rwi-vrFndn"
      },
      "source": [
        "#### 2.2 Numerical features"
      ]
    },
    {
      "cell_type": "markdown",
      "metadata": {
        "id": "_2UyWwdnFndo"
      },
      "source": [
        "##### 2.2.1 Transaction features"
      ]
    },
    {
      "cell_type": "code",
      "metadata": {
        "colab": {
          "base_uri": "https://localhost:8080/"
        },
        "id": "UGO0cAlZFndo",
        "outputId": "16577172-b04c-462e-ebb2-c9d5e552cddf"
      },
      "source": [
        "# Vizualize outliers thorugh boxplot\n",
        "print(df.boxplot('TransactionAmt'))"
      ],
      "execution_count": null,
      "outputs": [
        {
          "output_type": "stream",
          "text": [
            "AxesSubplot(0.125,0.125;0.775x0.755)\n"
          ],
          "name": "stdout"
        },
        {
          "output_type": "display_data",
          "data": {
            "image/png": "[encoded data removed]",
            "text/plain": [
              "<Figure size 432x288 with 1 Axes>"
            ]
          },
          "metadata": {
            "tags": [],
            "needs_background": "light"
          }
        }
      ]
    },
    {
      "cell_type": "code",
      "metadata": {
        "id": "MzDMjZhSFndq"
      },
      "source": [
        "df.drop(df.loc[df['TransactionAmt']>15000].index, inplace=True)"
      ],
      "execution_count": null,
      "outputs": []
    },
    {
      "cell_type": "markdown",
      "metadata": {
        "id": "CN_9rRZCFndq"
      },
      "source": [
        "##### 2.2.2 dist features"
      ]
    },
    {
      "cell_type": "code",
      "metadata": {
        "id": "sy7Fqg4gFndq"
      },
      "source": [
        "# Dist features\n",
        "pd.DataFrame(np.round(df[['dist1', 'dist2']].isnull().mean()*100), columns = ['Missing Percentage'])\n",
        "\n",
        "# drop dist 2\n",
        "df.drop(['dist2'], axis=1, inplace=True)"
      ],
      "execution_count": null,
      "outputs": []
    },
    {
      "cell_type": "markdown",
      "metadata": {
        "id": "uZt0-Au6aEFz"
      },
      "source": [
        "##### 2.2.3 Remove TransactionID\n",
        "\n"
      ]
    },
    {
      "cell_type": "code",
      "metadata": {
        "id": "UwE_imzpaFlR"
      },
      "source": [
        "df.drop(\"TransactionID\", axis=1, inplace=True)"
      ],
      "execution_count": null,
      "outputs": []
    },
    {
      "cell_type": "markdown",
      "metadata": {
        "id": "ffIGFJ1978Jd"
      },
      "source": [
        "##### 2.2.4 Impute numeric NAN"
      ]
    },
    {
      "cell_type": "code",
      "metadata": {
        "colab": {
          "base_uri": "https://localhost:8080/"
        },
        "id": "NjieN0aEdhjt",
        "outputId": "62027231-8457-4cfe-ae1f-7e220e9fa672"
      },
      "source": [
        "df.info()"
      ],
      "execution_count": null,
      "outputs": [
        {
          "output_type": "stream",
          "text": [
            "<class 'pandas.core.frame.DataFrame'>\n",
            "Int64Index: 590538 entries, 0 to 590539\n",
            "Data columns (total 82 columns):\n",
            " #   Column                Non-Null Count   Dtype  \n",
            "---  ------                --------------   -----  \n",
            " 0   isFraud               590538 non-null  int64  \n",
            " 1   TransactionDT         590538 non-null  int64  \n",
            " 2   TransactionAmt        590538 non-null  float64\n",
            " 3   ProductCD             590538 non-null  int64  \n",
            " 4   card1                 590538 non-null  int64  \n",
            " 5   card2                 590538 non-null  int64  \n",
            " 6   card3                 590538 non-null  int64  \n",
            " 7   card4                 590538 non-null  int64  \n",
            " 8   card5                 590538 non-null  int64  \n",
            " 9   card6                 590538 non-null  int64  \n",
            " 10  addr1                 590538 non-null  int64  \n",
            " 11  addr2                 590538 non-null  int64  \n",
            " 12  dist1                 238267 non-null  float64\n",
            " 13  C1                    590538 non-null  float64\n",
            " 14  C2                    590538 non-null  float64\n",
            " 15  C3                    590538 non-null  float64\n",
            " 16  C4                    590538 non-null  float64\n",
            " 17  C5                    590538 non-null  float64\n",
            " 18  C6                    590538 non-null  float64\n",
            " 19  C7                    590538 non-null  float64\n",
            " 20  C8                    590538 non-null  float64\n",
            " 21  C9                    590538 non-null  float64\n",
            " 22  C10                   590538 non-null  float64\n",
            " 23  C11                   590538 non-null  float64\n",
            " 24  C12                   590538 non-null  float64\n",
            " 25  C13                   590538 non-null  float64\n",
            " 26  C14                   590538 non-null  float64\n",
            " 27  D1                    589269 non-null  float64\n",
            " 28  D2                    309743 non-null  float64\n",
            " 29  D3                    327660 non-null  float64\n",
            " 30  D4                    421616 non-null  float64\n",
            " 31  D5                    280697 non-null  float64\n",
            " 32  D6                    73187 non-null   float64\n",
            " 33  D7                    38917 non-null   float64\n",
            " 34  D8                    74926 non-null   float64\n",
            " 35  D9                    74926 non-null   float64\n",
            " 36  D10                   514516 non-null  float64\n",
            " 37  D11                   311251 non-null  float64\n",
            " 38  D12                   64717 non-null   float64\n",
            " 39  D13                   61952 non-null   float64\n",
            " 40  D14                   62187 non-null   float64\n",
            " 41  D15                   501425 non-null  float64\n",
            " 42  M1                    590538 non-null  int64  \n",
            " 43  M2                    590538 non-null  int64  \n",
            " 44  M3                    590538 non-null  int64  \n",
            " 45  M4                    590538 non-null  int64  \n",
            " 46  M5                    590538 non-null  int64  \n",
            " 47  M6                    590538 non-null  int64  \n",
            " 48  M7                    590538 non-null  int64  \n",
            " 49  M8                    590538 non-null  int64  \n",
            " 50  M9                    590538 non-null  int64  \n",
            " 51  id_01                 144233 non-null  float64\n",
            " 52  id_02                 140872 non-null  float64\n",
            " 53  id_05                 136865 non-null  float64\n",
            " 54  id_06                 136865 non-null  float64\n",
            " 55  id_11                 140978 non-null  float64\n",
            " 56  id_12                 590538 non-null  int64  \n",
            " 57  id_13                 590538 non-null  int64  \n",
            " 58  id_14                 590538 non-null  int64  \n",
            " 59  id_15                 590538 non-null  int64  \n",
            " 60  id_16                 590538 non-null  int64  \n",
            " 61  id_17                 590538 non-null  int64  \n",
            " 62  id_18                 590538 non-null  int64  \n",
            " 63  id_19                 590538 non-null  int64  \n",
            " 64  id_20                 590538 non-null  int64  \n",
            " 65  id_28                 590538 non-null  int64  \n",
            " 66  id_29                 590538 non-null  int64  \n",
            " 67  id_32                 590538 non-null  int64  \n",
            " 68  id_34                 590538 non-null  int64  \n",
            " 69  id_35                 590538 non-null  int64  \n",
            " 70  id_36                 590538 non-null  int64  \n",
            " 71  id_37                 590538 non-null  int64  \n",
            " 72  id_38                 590538 non-null  int64  \n",
            " 73  DeviceType            590538 non-null  int64  \n",
            " 74  P_emaildomain_bin     590538 non-null  int64  \n",
            " 75  P_emaildomain_suffix  590538 non-null  int64  \n",
            " 76  R_emaildomain_bin     590538 non-null  int64  \n",
            " 77  R_emaildomain_suffix  590538 non-null  int64  \n",
            " 78  DeviceName            590538 non-null  int64  \n",
            " 79  sys_id_30             590538 non-null  int64  \n",
            " 80  browser_id_31         590538 non-null  int64  \n",
            " 81  screen_id_33          590538 non-null  int64  \n",
            "dtypes: float64(36), int64(46)\n",
            "memory usage: 374.0 MB\n"
          ],
          "name": "stdout"
        }
      ]
    },
    {
      "cell_type": "code",
      "metadata": {
        "id": "mCnZ56XJ79dK"
      },
      "source": [
        "df = df.fillna(-999)"
      ],
      "execution_count": null,
      "outputs": []
    },
    {
      "cell_type": "markdown",
      "metadata": {
        "id": "YMQa2VYwR55u"
      },
      "source": [
        "#### Adding Date/ hour/ day/ week/ month (New features)"
      ]
    },
    {
      "cell_type": "code",
      "metadata": {
        "id": "v_KtgSDgR5Rs"
      },
      "source": [
        "# Engineer date and time variabels from timedelta\n",
        "START_DATE = '2017-12-01'\n",
        "startdate = dt.datetime.strptime(START_DATE, \"%Y-%m-%d\")\n",
        "df[\"Transaction_Date\"] = df['TransactionDT'].apply(lambda x: (startdate + dt.timedelta(seconds=x)))\n",
        "df['Transaction_Weekdays'] = df['Transaction_Date'].dt.dayofweek\n",
        "df['Transaction_Hours'] = df['Transaction_Date'].dt.hour\n",
        "df['Transaction_Days'] = df['Transaction_Date'].dt.day\n",
        "df['Transaction_Months'] = df['Transaction_Date'].dt.month"
      ],
      "execution_count": null,
      "outputs": []
    },
    {
      "cell_type": "markdown",
      "metadata": {
        "id": "8v5I3eErE7bb"
      },
      "source": [
        "#### 2.3 Split Train/Test\n",
        "\n",
        "\n",
        "\n"
      ]
    },
    {
      "cell_type": "code",
      "metadata": {
        "id": "jxs59bw7fZzE"
      },
      "source": [
        "# Isolate target variable\n",
        "y = df.pop('isFraud')\n",
        "X = df.copy(deep=True)"
      ],
      "execution_count": null,
      "outputs": []
    },
    {
      "cell_type": "code",
      "metadata": {
        "id": "8zacqnt6gdYv"
      },
      "source": [
        "# train/test = 80/20\n",
        "\n",
        "train_length = 472432\n",
        "test_length = 590540\n",
        "\n",
        "train_X, train_y = X.iloc[:train_length], y.iloc[:train_length]\n",
        "test_X, test_y = X.iloc[train_length:test_length], y.iloc[train_length:test_length]\n",
        "\n",
        "train_X, train_y = train_X.reset_index(drop=True), train_y.reset_index(drop=True)\n",
        "test_X, test_y = test_X.reset_index(drop=True), test_y.reset_index(drop=True)"
      ],
      "execution_count": null,
      "outputs": []
    },
    {
      "cell_type": "markdown",
      "metadata": {
        "id": "-JhAsudexMNd"
      },
      "source": [
        "#### 2.4 Handmade features"
      ]
    },
    {
      "cell_type": "markdown",
      "metadata": {
        "id": "GMKg4uH3zSU1"
      },
      "source": [
        "##### 2.4.1 High risk/ low risk transactions (New feature)"
      ]
    },
    {
      "cell_type": "code",
      "metadata": {
        "id": "6rlF8gb9Nm7l"
      },
      "source": [
        "# transform transaction hours to categorical based on higest risk of fraud\n",
        "train_X['TransactionHours_risk'] = np.where(train_X['Transaction_Hours'].isin([5,6,7,8,9]), 1, 0)\n",
        "test_X['TransactionHours_risk'] = np.where(test_X['Transaction_Hours'].isin([5,6,7,8,9]), 1, 0)\n",
        "\n",
        "# Remove not useful features\n",
        "train_X.drop(\"Transaction_Date\", axis=1, inplace=True)\n",
        "test_X.drop(\"Transaction_Date\", axis=1, inplace=True)"
      ],
      "execution_count": null,
      "outputs": []
    },
    {
      "cell_type": "markdown",
      "metadata": {
        "id": "T_e4drxczcv9"
      },
      "source": [
        "##### 2.4.2 Log transaction amount (New feature)"
      ]
    },
    {
      "cell_type": "code",
      "metadata": {
        "id": "6D8tD8TQNm7k"
      },
      "source": [
        "# Log of transaction amount\n",
        "train_X.loc[:, 'TransactionAmt_log'] = np.log(train_X['TransactionAmt'])\n",
        "test_X.loc[:, 'TransactionAmt_log'] = np.log(test_X['TransactionAmt'])"
      ],
      "execution_count": null,
      "outputs": []
    },
    {
      "cell_type": "markdown",
      "metadata": {
        "id": "EyLoCqEFHFw5"
      },
      "source": [
        "##### 2.4.3 Decimal part of transaction amount (New feature)"
      ]
    },
    {
      "cell_type": "code",
      "metadata": {
        "id": "POY2quPIHIDw"
      },
      "source": [
        "# New feature - decimal part of the transaction amount.\n",
        "train_X['TransactionAmt_decimal'] = ((train_X['TransactionAmt'] - train_X['TransactionAmt'].astype(int)) * 1000).astype(int)\n",
        "test_X['TransactionAmt_decimal'] = ((test_X['TransactionAmt'] - test_X['TransactionAmt'].astype(int)) * 1000).astype(int)"
      ],
      "execution_count": null,
      "outputs": []
    },
    {
      "cell_type": "markdown",
      "metadata": {
        "id": "I1DDMVrUenKg"
      },
      "source": [
        "##### 2.4.4 Aggregation (New feature)\n"
      ]
    },
    {
      "cell_type": "code",
      "metadata": {
        "id": "W56gSSA3lIqK"
      },
      "source": [
        "from tqdm import tqdm_notebook"
      ],
      "execution_count": null,
      "outputs": []
    },
    {
      "cell_type": "code",
      "metadata": {
        "id": "v66Nz7DwlUnq"
      },
      "source": [
        "def create_new_columns(key, aggs):\n",
        "    return [key + '_' + k + '_' + agg for k in aggs.keys() for agg in aggs[k]]"
      ],
      "execution_count": null,
      "outputs": []
    },
    {
      "cell_type": "code",
      "metadata": {
        "colab": {
          "base_uri": "https://localhost:8080/"
        },
        "id": "duk-11obljjx",
        "outputId": "3a97b068-a41b-4f6a-a995-7a6ec7b2fb65"
      },
      "source": [
        "aggs = {}\n",
        "for col in ['TransactionAmt']:\n",
        "    aggs[col] = ['mean', 'median', 'var', 'skew', 'min', 'max']\n",
        "aggs"
      ],
      "execution_count": null,
      "outputs": [
        {
          "output_type": "execute_result",
          "data": {
            "text/plain": [
              "{'TransactionAmt': ['mean', 'median', 'var', 'skew', 'min', 'max']}"
            ]
          },
          "metadata": {
            "tags": []
          },
          "execution_count": 29
        }
      ]
    },
    {
      "cell_type": "code",
      "metadata": {
        "colab": {
          "base_uri": "https://localhost:8080/",
          "height": 49,
          "referenced_widgets": [
            "927ac54b51d2494dbcc8431907a85f86",
            "43f4019cbc2b47ed8b2d5c086d54d9b3",
            "4842ccd243664ff9abab863951269703",
            "4b75afcaeced4c6c9ecd25f7271e5e39",
            "dfcb84d74ed04ee6b43eaf0146ee1497",
            "39429580386d4aca8cbdeeb40b435142",
            "8571533039914af691bd932dcf3c6a7d",
            "a0dd28f3fbf04f0384b9c7e6e0add6d8",
            "89b4238c9fad4d62a2e222e495817a8c",
            "48d17eeece55463088fa554a6d94dd69",
            "1f055c9a7332489a996b8a85aa91d52a"
          ]
        },
        "id": "yg-x66oGwH18",
        "outputId": "0520fa10-fbac-4fb6-8420-00d901a36930"
      },
      "source": [
        "df_temp = pd.concat([train_X, test_X])\n",
        "for key in tqdm_notebook(['card1','card2','card3','card5', 'TransactionAmt']):\n",
        "    new_columns = create_new_columns(key, aggs)\n",
        "    df_grouped = df_temp.groupby(key).agg(aggs)\n",
        "    df_grouped.columns = new_columns\n",
        "    df_grouped.reset_index(drop=False,inplace=True)\n",
        "    train_X = train_X.merge(df_grouped,on=key,how='left')\n",
        "    test_X = test_X.merge(df_grouped,on=key,how='left')"
      ],
      "execution_count": null,
      "outputs": [
        {
          "output_type": "display_data",
          "data": {
            "application/vnd.jupyter.widget-view+json": {
              "model_id": "927ac54b51d2494dbcc8431907a85f86",
              "version_minor": 0,
              "version_major": 2
            },
            "text/plain": [
              "  0%|          | 0/5 [00:00<?, ?it/s]"
            ]
          },
          "metadata": {
            "tags": []
          }
        }
      ]
    },
    {
      "cell_type": "code",
      "metadata": {
        "colab": {
          "base_uri": "https://localhost:8080/"
        },
        "id": "V-6C1wN1yRrY",
        "outputId": "61b779d6-298b-4b25-9943-40a54ed2e6bf"
      },
      "source": [
        "# Fill NAN from aggregation, where 1/N-1 turn out to be NAN, therefor they are filled with 0. \n",
        "# Source for help: https://stackoverflow.com/questions/57842316/pandas-calculate-variance-from-aggregation\n",
        "\n",
        "train_X = train_X.fillna(0)\n",
        "test_X = test_X.fillna(0)\n",
        "\n",
        "gc.collect()"
      ],
      "execution_count": null,
      "outputs": [
        {
          "output_type": "execute_result",
          "data": {
            "text/plain": [
              "2627"
            ]
          },
          "metadata": {
            "tags": []
          },
          "execution_count": 31
        }
      ]
    },
    {
      "cell_type": "markdown",
      "metadata": {
        "id": "MJQyNR3VK5S6"
      },
      "source": [
        "##### 2.4.5 Count encoding for the card  features (New features)"
      ]
    },
    {
      "cell_type": "code",
      "metadata": {
        "id": "xds_LpVDKDsn"
      },
      "source": [
        "train_X['card1_count_full'] = train_X['card1'].map(pd.concat([train_X['card1'], test_X['card1']], ignore_index=True).value_counts(dropna=False))\n",
        "test_X['card1_count_full'] = test_X['card1'].map(pd.concat([train_X['card1'], test_X['card1']], ignore_index=True).value_counts(dropna=False))\n",
        "\n",
        "train_X['card2_count_full'] = train_X['card2'].map(pd.concat([train_X['card2'], test_X['card2']], ignore_index=True).value_counts(dropna=False))\n",
        "test_X['card2_count_full'] = test_X['card2'].map(pd.concat([train_X['card2'], test_X['card2']], ignore_index=True).value_counts(dropna=False))\n",
        "\n",
        "train_X['card3_count_full'] = train_X['card3'].map(pd.concat([train_X['card3'], test_X['card3']], ignore_index=True).value_counts(dropna=False))\n",
        "test_X['card3_count_full'] = test_X['card3'].map(pd.concat([train_X['card3'], test_X['card3']], ignore_index=True).value_counts(dropna=False))\n",
        "\n",
        "train_X['card4_count_full'] = train_X['card4'].map(pd.concat([train_X['card4'], test_X['card4']], ignore_index=True).value_counts(dropna=False))\n",
        "test_X['card4_count_full'] = test_X['card4'].map(pd.concat([train_X['card4'], test_X['card4']], ignore_index=True).value_counts(dropna=False))\n",
        "\n",
        "train_X['card5_count_full'] = train_X['card5'].map(pd.concat([train_X['card5'], test_X['card5']], ignore_index=True).value_counts(dropna=False))\n",
        "test_X['card5_count_full'] = test_X['card5'].map(pd.concat([train_X['card5'], test_X['card5']], ignore_index=True).value_counts(dropna=False))\n",
        "\n",
        "train_X['card6_count_full'] = train_X['card6'].map(pd.concat([train_X['card6'], test_X['card6']], ignore_index=True).value_counts(dropna=False))\n",
        "test_X['card6_count_full'] = test_X['card6'].map(pd.concat([train_X['card6'], test_X['card6']], ignore_index=True).value_counts(dropna=False))"
      ],
      "execution_count": null,
      "outputs": []
    },
    {
      "cell_type": "markdown",
      "metadata": {
        "id": "3c6vuVzuoloX"
      },
      "source": [
        "### 3 Model\n"
      ]
    },
    {
      "cell_type": "markdown",
      "metadata": {
        "id": "n2i-rmTCwV1r"
      },
      "source": [
        "#### ** PICKEL **"
      ]
    },
    {
      "cell_type": "code",
      "metadata": {
        "id": "HWk9mQokLC9H"
      },
      "source": [
        "# CLEAN DATA FOR MODELING\n",
        "train_X = pd.read_pickle('/content/drive/MyDrive/Thesis/dataset/train_X_manual.pkl')\n",
        "test_X = pd.read_pickle('/content/drive/MyDrive/Thesis/dataset/test_X_manual.pkl')\n",
        "train_y = pd.read_pickle('/content/drive/MyDrive/Thesis/dataset/train_y_manual.pkl')\n",
        "test_y = pd.read_pickle('/content/drive/MyDrive/Thesis/dataset/test_y_manual.pkl')"
      ],
      "execution_count": null,
      "outputs": []
    },
    {
      "cell_type": "markdown",
      "metadata": {
        "id": "f2gCMc6gxRvk"
      },
      "source": [
        "#### 3.1 SMOTE"
      ]
    },
    {
      "cell_type": "code",
      "metadata": {
        "colab": {
          "base_uri": "https://localhost:8080/"
        },
        "id": "kGqk985SxR3i",
        "outputId": "10a8df0f-3343-4d01-8433-6a57fedbec57"
      },
      "source": [
        "from imblearn.over_sampling import SMOTE\n",
        "\n",
        "print(\"Before OverSampling, counts of label '1': {}\".format(sum(train_y==1)))\n",
        "print(\"Before OverSampling, counts of label '0': {} \\n\".format(sum(train_y==0)))\n",
        "\n",
        "sm = SMOTE(random_state=42, sampling_strategy = 1)\n",
        "X_train_new, y_train_new = sm.fit_sample(train_X, train_y)\n",
        "\n",
        "X = pd.DataFrame(X_train_new)\n",
        "X.columns = train_X.columns\n",
        "y = pd.DataFrame(y_train_new)\n",
        "\n",
        "print('After OverSampling, the shape of X_train_new: {}'.format(X.shape))\n",
        "print('After OverSampling, the shape of y_train_new: {} \\n'.format(y.shape))"
      ],
      "execution_count": null,
      "outputs": [
        {
          "output_type": "stream",
          "text": [
            "Before OverSampling, counts of label '1': 16600\n",
            "Before OverSampling, counts of label '0': 455832 \n",
            "\n",
            "After OverSampling, the shape of X_train_new: (911664, 124)\n",
            "After OverSampling, the shape of y_train_new: (911664, 1) \n",
            "\n"
          ],
          "name": "stdout"
        }
      ]
    },
    {
      "cell_type": "code",
      "metadata": {
        "colab": {
          "base_uri": "https://localhost:8080/",
          "height": 299
        },
        "id": "y5Urb9r2zri5",
        "outputId": "dec8ce89-bbbf-4560-b329-4d9f7258e4d2"
      },
      "source": [
        "x=y.value_counts().values\n",
        "sns.barplot([0,1],x)\n",
        "plt.title('Target variable count')"
      ],
      "execution_count": null,
      "outputs": [
        {
          "output_type": "execute_result",
          "data": {
            "text/plain": [
              "Text(0.5, 1.0, 'Target variable count')"
            ]
          },
          "metadata": {
            "tags": []
          },
          "execution_count": 32
        },
        {
          "output_type": "display_data",
          "data": {
            "image/png": "[encoded data removed]",
            "text/plain": [
              "<Figure size 432x288 with 1 Axes>"
            ]
          },
          "metadata": {
            "tags": [],
            "needs_background": "light"
          }
        }
      ]
    },
    {
      "cell_type": "markdown",
      "metadata": {
        "id": "MbTY2fM77mHI"
      },
      "source": [
        "#### 3.2 XGB"
      ]
    },
    {
      "cell_type": "code",
      "metadata": {
        "id": "SdOPvXVkOKFO"
      },
      "source": [
        "# Tuned most important parameters for XGB based on baseline dataset\n",
        "best_params = {\n",
        " 'n_estimators': 350,\n",
        " 'colsample_bytree': 0.5776,\n",
        " 'gamma': 0.1284,\n",
        " 'learning_rate': 0.159,\n",
        " 'max_depth': 17,\n",
        " 'min_child_weight': 0.9205}"
      ],
      "execution_count": null,
      "outputs": []
    },
    {
      "cell_type": "code",
      "metadata": {
        "colab": {
          "base_uri": "https://localhost:8080/",
          "height": 419
        },
        "id": "rc9_Zb8wMb6e",
        "outputId": "d1061ff6-2f8d-4e87-8f3e-da409fdb520e"
      },
      "source": [
        "# XGB with Early stopping\n",
        "\n",
        "xgb = XGBClassifier(**best_params, tree_method='gpu_hist', reg_alpha=0.5)\n",
        "\n",
        "evaluation_set = [(test_X, test_y)]\n",
        "\n",
        "xgb.fit(X, y, early_stopping_rounds=200, eval_metric=\"auc\", eval_set=evaluation_set, verbose=100)\n",
        "\n",
        "# Predict on test data\n",
        "y_pred = xgb.predict(test_X)\n",
        "\n",
        "# Confusion matrix\n",
        "from sklearn.metrics import confusion_matrix\n",
        "cm = confusion_matrix(test_y, y_pred)\n",
        "\n",
        "# visualize confusion matrix with seaborn heatmap\n",
        "\n",
        "cm_matrix = pd.DataFrame(data=cm, columns=['Actual Negative:0','Actual Positive:1'], \n",
        "                                 index=['Predict Negative:0', 'Predict Positive:1'])\n",
        "\n",
        "sns.heatmap(cm_matrix, annot=True, fmt='d', cmap='Blues').set(title='Confusion Matrix')"
      ],
      "execution_count": null,
      "outputs": [
        {
          "output_type": "stream",
          "text": [
            "[0]\tvalidation_0-auc:0.815075\n",
            "Will train until validation_0-auc hasn't improved in 200 rounds.\n",
            "[100]\tvalidation_0-auc:0.923671\n",
            "[200]\tvalidation_0-auc:0.925344\n",
            "[300]\tvalidation_0-auc:0.925283\n",
            "[349]\tvalidation_0-auc:0.924998\n"
          ],
          "name": "stdout"
        },
        {
          "output_type": "execute_result",
          "data": {
            "text/plain": [
              "[Text(0.5, 1.0, 'Confusion Matrix')]"
            ]
          },
          "metadata": {
            "tags": []
          },
          "execution_count": 8
        },
        {
          "output_type": "display_data",
          "data": {
            "image/png": "[encoded data removed]",
            "text/plain": [
              "<Figure size 432x288 with 2 Axes>"
            ]
          },
          "metadata": {
            "tags": [],
            "needs_background": "light"
          }
        }
      ]
    },
    {
      "cell_type": "code",
      "metadata": {
        "id": "FReWN8TwHXqW"
      },
      "source": [
        "# create the predicted class\n",
        "y_pred = xgb.fit(X, y).predict_proba(test_X)[:,1]"
      ],
      "execution_count": null,
      "outputs": []
    },
    {
      "cell_type": "code",
      "metadata": {
        "colab": {
          "base_uri": "https://localhost:8080/"
        },
        "id": "qKAcLly8Q_cE",
        "outputId": "6328cb13-3594-4ef0-9656-f5400e813745"
      },
      "source": [
        "# Matthews Correlation Coefficient\n",
        "from sklearn.metrics import matthews_corrcoef\n",
        "matthews_corrcoef(test_y, y_pred) "
      ],
      "execution_count": null,
      "outputs": [
        {
          "output_type": "execute_result",
          "data": {
            "text/plain": [
              "0.5727965423725737"
            ]
          },
          "metadata": {
            "tags": []
          },
          "execution_count": 11
        }
      ]
    },
    {
      "cell_type": "code",
      "metadata": {
        "colab": {
          "base_uri": "https://localhost:8080/"
        },
        "id": "UUfPtUmCJ8Jt",
        "outputId": "88f3a5dd-c92b-4e00-ad00-0131582de3dc"
      },
      "source": [
        "# Change in FP and TP comared to baseline\n",
        "DeltaFP = (364 - 2387)\n",
        "DeltaTP = (1677 - 1842)\n",
        "print(\"Delta change in FP:\", DeltaFP)\n",
        "print(\"Delta change in TP:\", DeltaTP)"
      ],
      "execution_count": null,
      "outputs": [
        {
          "output_type": "stream",
          "text": [
            "Delta change in FP: -2023\n",
            "Delta change in TP: -165\n"
          ],
          "name": "stdout"
        }
      ]
    },
    {
      "cell_type": "code",
      "metadata": {
        "colab": {
          "base_uri": "https://localhost:8080/"
        },
        "id": "-g1fu25uhjjk",
        "outputId": "07f7d28f-e201-427e-ea5d-79f5d83f0d09"
      },
      "source": [
        "FPR = (364/(113679+364))*100\n",
        "TPR = (1677/(2386+1677))*100\n",
        "print('True positive rate:', TPR),\n",
        "print('False positive rate:', FPR)\n"
      ],
      "execution_count": null,
      "outputs": [
        {
          "output_type": "stream",
          "text": [
            "True positive rate: 41.27492000984494\n",
            "False positive rate: 0.3191778539673632\n"
          ],
          "name": "stdout"
        }
      ]
    },
    {
      "cell_type": "code",
      "metadata": {
        "colab": {
          "base_uri": "https://localhost:8080/"
        },
        "id": "0RKRKIvmW6iw",
        "outputId": "e5d60644-4da7-4308-cf6f-0d762b03efea"
      },
      "source": [
        "# Calculate the AUC\n",
        "roc_auc_score(test_y, y_pred)"
      ],
      "execution_count": null,
      "outputs": [
        {
          "output_type": "execute_result",
          "data": {
            "text/plain": [
              "0.9223327054491834"
            ]
          },
          "metadata": {
            "tags": []
          },
          "execution_count": 66
        }
      ]
    },
    {
      "cell_type": "code",
      "metadata": {
        "colab": {
          "base_uri": "https://localhost:8080/"
        },
        "id": "95ckJJv_YQMi",
        "outputId": "ad0b0be1-f456-46ed-a176-783882b245f4"
      },
      "source": [
        "# Calculate the partial AUC (pAUC) \n",
        "roc_auc_score(test_y, y_pred, max_fpr= 0.0035)"
      ],
      "execution_count": null,
      "outputs": [
        {
          "output_type": "execute_result",
          "data": {
            "text/plain": [
              "0.6568320445233518"
            ]
          },
          "metadata": {
            "tags": []
          },
          "execution_count": 67
        }
      ]
    },
    {
      "cell_type": "code",
      "metadata": {
        "colab": {
          "base_uri": "https://localhost:8080/",
          "height": 295
        },
        "id": "3EnZgo1WICte",
        "outputId": "77954941-6191-4234-fc80-05cbb866491a"
      },
      "source": [
        "# Build the ROC curve\n",
        "buildROC(test_y, y_pred)"
      ],
      "execution_count": null,
      "outputs": [
        {
          "output_type": "display_data",
          "data": {
            "image/png": "[encoded data removed]",
            "text/plain": [
              "<Figure size 432x288 with 1 Axes>"
            ]
          },
          "metadata": {
            "tags": [],
            "needs_background": "light"
          }
        }
      ]
    },
    {
      "cell_type": "code",
      "metadata": {
        "colab": {
          "base_uri": "https://localhost:8080/",
          "height": 388
        },
        "id": "3zsW-q_K6AsK",
        "outputId": "76ee884d-dbca-4e3b-ae85-80e0d6d72a7f"
      },
      "source": [
        "# XGB\n",
        "\n",
        "# Containers for true positive / false positive rates\n",
        "xgb_precision_scores = []\n",
        "xgb_recall_scores = []\n",
        "\n",
        "xgb= XGBClassifier(**best_params, tree_method='gpu_hist')\n",
        "\n",
        "y_test_probs = xgb.fit(X, y).predict_proba(test_X)[:,1]\n",
        "\n",
        "# Define probability thresholds to use, between 0 and 1\n",
        "probability_thresholds = np.linspace(0,1,num=100)\n",
        "\n",
        "# Find true positive / false positive rate for each threshold\n",
        "for p in probability_thresholds:\n",
        "    \n",
        "    y_test_preds = []\n",
        "    \n",
        "    for prob in y_test_probs:\n",
        "        if prob > p:\n",
        "            y_test_preds.append(1)\n",
        "        else:\n",
        "            y_test_preds.append(0)\n",
        "            \n",
        "    precision, recall = calc_precision_recall(test_y, y_test_preds)\n",
        "        \n",
        "    xgb_precision_scores.append(precision)\n",
        "    xgb_recall_scores.append(recall)\n",
        "\n",
        "# Plot precision-recall curve\n",
        "\n",
        "fig, ax = plt.subplots(figsize=(6,6))\n",
        "ax.plot(xgb_recall_scores, xgb_precision_scores, label='XGBoost')\n",
        "baseline = len(test_y[test_y==1]) / len(test_y)\n",
        "ax.plot([0, 1], [baseline, baseline], linestyle='--', label='Baseline')\n",
        "ax.set_xlabel('Recall')\n",
        "ax.set_ylabel('Precision')\n",
        "ax.legend(loc=1, title= \"Model\");"
      ],
      "execution_count": null,
      "outputs": [
        {
          "output_type": "display_data",
          "data": {
            "image/png": "[encoded data removed]",
            "text/plain": [
              "<Figure size 432x432 with 1 Axes>"
            ]
          },
          "metadata": {
            "tags": [],
            "needs_background": "light"
          }
        }
      ]
    },
    {
      "cell_type": "markdown",
      "metadata": {
        "id": "QpJe_e5Uwum6"
      },
      "source": [
        "##### Features importance"
      ]
    },
    {
      "cell_type": "code",
      "metadata": {
        "id": "tHQXJlN6MiqP"
      },
      "source": [
        "# Weight importance\n",
        "feature_importance = xgb.get_booster().get_score(importance_type= \"weight\")\n",
        "feature_importance_weight = pd.DataFrame(list(feature_importance.items()))\n",
        "feature_importance_weight.columns = ['Feature', 'Importance']"
      ],
      "execution_count": null,
      "outputs": []
    },
    {
      "cell_type": "code",
      "metadata": {
        "id": "iAAs0rV8Lqmw"
      },
      "source": [
        "import seaborn as sns\n",
        "from matplotlib import pyplot as plt\n",
        "def display_importances(feature_importance_df_):\n",
        "    cols = feature_importance_df_[[\"Feature\", \"Importance\"]].groupby(\"Feature\").mean().sort_values(by=\"Importance\", ascending=False)[:10].index\n",
        "    best_features = feature_importance_df_[[\"Feature\", \"Importance\"]].groupby(\"Feature\").mean().sort_values(by=\"Importance\", ascending=False)[:10]\n",
        "    best_features.reset_index(inplace=True)\n",
        "    print(best_features.dtypes)\n",
        "    plt.figure(figsize=(9, 5))\n",
        "    sns.barplot(x=\"Importance\", y=\"Feature\", data=best_features)\n",
        "    plt.title('XGBoost top 10 features')\n",
        "    plt.tight_layout()"
      ],
      "execution_count": null,
      "outputs": []
    },
    {
      "cell_type": "code",
      "metadata": {
        "colab": {
          "base_uri": "https://localhost:8080/",
          "height": 421
        },
        "id": "-8bNTderO0C4",
        "outputId": "6aeff301-5d97-49b2-fda7-7e0b3fda2e67"
      },
      "source": [
        "display_importances(feature_importance_weight)"
      ],
      "execution_count": null,
      "outputs": [
        {
          "output_type": "stream",
          "text": [
            "Feature       object\n",
            "Importance     int64\n",
            "dtype: object\n"
          ],
          "name": "stdout"
        },
        {
          "output_type": "display_data",
          "data": {
            "image/png": "[encoded data removed]",
            "text/plain": [
              "<Figure size 648x360 with 1 Axes>"
            ]
          },
          "metadata": {
            "tags": [],
            "needs_background": "light"
          }
        }
      ]
    }
  ]
}