{
  "nbformat": 4,
  "nbformat_minor": 0,
  "metadata": {
    "celltoolbar": "Edit Metadata",
    "colab": {
      "name": "Feature Tool  Dataset - Master Thesis",
      "provenance": [],
      "collapsed_sections": [
        "02pFvFf5lzY2",
        "-iMrJqM8lzY3",
        "M8rwi-vrFndn",
        "9ZmfhFq_MS7h",
        "8v5I3eErE7bb",
        "_x8YI5erJH_l"
      ],
      "toc_visible": true,
      "machine_shape": "hm",
      "include_colab_link": true
    },
    "kernelspec": {
      "display_name": "Python 3",
      "language": "python",
      "name": "python3"
    },
    "language_info": {
      "codemirror_mode": {
        "name": "ipython",
        "version": 3
      },
      "file_extension": ".py",
      "mimetype": "text/x-python",
      "name": "python",
      "nbconvert_exporter": "python",
      "pygments_lexer": "ipython3",
      "version": "3.7.6"
    },
    "accelerator": "GPU"
  },
  "cells": [
    {
      "cell_type": "markdown",
      "metadata": {
        "id": "view-in-github",
        "colab_type": "text"
      },
      "source": [
        "<a href=\"https://colab.research.google.com/github/AdrianKopperud/automatedfeatureengineering/blob/main/Feature_Tool_Master_Thesis.ipynb\" target=\"_parent\"><img src=\"https://colab.research.google.com/assets/colab-badge.svg\" alt=\"Open In Colab\"/></a>"
      ]
    },
    {
      "cell_type": "code",
      "metadata": {
        "id": "TShXPzqr1Fhe"
      },
      "source": [
        "!pip install -U pandas-profiling\n",
        "!pip install featuretools"
      ],
      "execution_count": null,
      "outputs": []
    },
    {
      "cell_type": "markdown",
      "metadata": {
        "id": "PgotgEBf1g1W"
      },
      "source": [
        "### Import functions"
      ]
    },
    {
      "cell_type": "code",
      "metadata": {
        "id": "q_6k5fIhFndT"
      },
      "source": [
        "# Import\n",
        "from sklearn import preprocessing\n",
        "import pandas as pd\n",
        "import numpy as np\n",
        "import matplotlib.pyplot as plt\n",
        "import os\n",
        "import seaborn as sns\n",
        "import datetime as dt\n",
        "import datetime\n",
        "#import autonormalize as an\n",
        "from sklearn.model_selection import TimeSeriesSplit\n",
        "from sklearn.metrics import make_scorer\n",
        "from sklearn.metrics import accuracy_score\n",
        "from sklearn.metrics import precision_score\n",
        "from sklearn.metrics import recall_score\n",
        "from sklearn.metrics import roc_auc_score\n",
        "from sklearn.metrics import f1_score\n",
        "from sklearn.preprocessing import StandardScaler\n",
        "from imblearn.over_sampling import SMOTE, ADASYN\n",
        "from sklearn.decomposition import PCA\n",
        "from sklearn.preprocessing import MinMaxScaler\n",
        "from sklearn.preprocessing import LabelEncoder\n",
        "from sklearn.preprocessing import OneHotEncoder\n",
        "from sklearn.model_selection import KFold, StratifiedKFold\n",
        "from sklearn.metrics import roc_auc_score, make_scorer\n",
        "from sklearn.tree import DecisionTreeClassifier\n",
        "import featuretools.variable_types as vtypes\n",
        "import featuretools as ft\n",
        "import gc\n",
        "import re\n",
        "from xgboost import XGBClassifier\n",
        "import xgboost as xgb\n",
        "from sklearn.metrics import accuracy_score\n",
        "from xgboost import XGBClassifier\n",
        "from collections import Counter\n",
        "from sklearn.metrics import classification_report, confusion_matrix\n",
        "from sklearn.datasets import make_classification\n",
        "from sklearn.linear_model import LogisticRegression\n",
        "from sklearn.model_selection import train_test_split\n",
        "from sklearn.metrics import roc_curve\n",
        "from matplotlib import pyplot\n",
        "from google.colab import drive\n",
        "import math\n",
        "import warnings\n",
        "warnings.filterwarnings('ignore')\n",
        "pd.set_option('display.max_columns', 3000)\n",
        "pd.set_option('display.max_rows', 3000)"
      ],
      "execution_count": null,
      "outputs": []
    },
    {
      "cell_type": "code",
      "metadata": {
        "id": "v_fZ0Re-FndU"
      },
      "source": [
        "# Function to calculate Precision and Recall\n",
        "\n",
        "def calc_precision_recall(y_true, y_pred):\n",
        "    \n",
        "    # Convert predictions to series with index matching y_true\n",
        "    y_pred = pd.Series(y_pred, index=y_true.index)\n",
        "    \n",
        "    # Instantiate counters\n",
        "    TP = 0\n",
        "    FP = 0\n",
        "    FN = 0\n",
        "\n",
        "    # Determine whether each prediction is TP, FP, TN, or FN\n",
        "    for i in y_true.index: \n",
        "        if y_true[i]==y_pred[i]==1:\n",
        "           TP += 1\n",
        "        if y_pred[i]==1 and y_true[i]!=y_pred[i]:\n",
        "           FP += 1\n",
        "        if y_pred[i]==0 and test_y[i]!=y_pred[i]:\n",
        "           FN += 1\n",
        "    \n",
        "    # Calculate true positive rate and false positive rate\n",
        "    # Use try-except statements to avoid problem of dividing by 0\n",
        "    try:\n",
        "        precision = TP / (TP + FP)\n",
        "    except:\n",
        "        precision = 1\n",
        "    \n",
        "    try:\n",
        "        recall = TP / (TP + FN)\n",
        "    except:\n",
        "        recall = 1\n",
        "\n",
        "    return precision, recall\n",
        "\n",
        "\n",
        "from sklearn import metrics\n",
        "def buildROC(target_test,test_preds):\n",
        "    fpr, tpr, threshold = metrics.roc_curve(target_test, test_preds)\n",
        "    roc_auc = metrics.auc(fpr, tpr)\n",
        "    plt.title('Receiver Operating Characteristic')\n",
        "    plt.plot(fpr, tpr, 'b', label = 'AUC = %0.2f' % roc_auc)\n",
        "    plt.legend(loc = 'lower right')\n",
        "    plt.plot([0, 1], [0, 1],'r--')\n",
        "    plt.ylabel('True Positive Rate')\n",
        "    plt.xlabel('False Positive Rate')\n",
        "    plt.gcf().savefig('roc.png')\n",
        "\n",
        "def identify_zero_importance_features(train, train_labels, iterations = 2):\n",
        "    \"\"\"\n",
        "    Identify zero importance features in a training dataset based on the \n",
        "    feature importances from a gradient boosting model. \n",
        "    \n",
        "    Parameters\n",
        "    --------\n",
        "    train : dataframe\n",
        "        Training features\n",
        "        \n",
        "    train_labels : np.array\n",
        "        Labels for training data\n",
        "        \n",
        "    iterations : integer, default = 2\n",
        "        Number of cross validation splits to use for determining feature importances\n",
        "    \"\"\"\n",
        "    \n",
        "    # Initialize an empty array to hold feature importances\n",
        "    feature_importances = np.zeros(train.shape[1])\n",
        "\n",
        "    # Create the model with several hyperparameters\n",
        "    model = XGBClassifier(num_boost_round=100, n_estimators = 240, tree_method='gpu_hist', )\n",
        "    \n",
        "    # Fit the model multiple times to avoid overfitting\n",
        "    for i in range(iterations):\n",
        "\n",
        "        # Split into training and validation set\n",
        "        train_features, valid_features, train_y, valid_y = train_test_split(train, train_labels, test_size = 0.25, random_state = i)\n",
        "\n",
        "        # Train using early stopping\n",
        "        model.fit(train_features, train_y, early_stopping_rounds=100, eval_set = [(valid_features, valid_y)], \n",
        "                  eval_metric = 'auc', verbose = 200)\n",
        "\n",
        "        # Record the feature importances\n",
        "        feature_importances += model.feature_importances_ / iterations\n",
        "    \n",
        "    feature_importances = pd.DataFrame({'feature': list(train.columns), 'importance': feature_importances}).sort_values('importance', ascending = False)\n",
        "    \n",
        "    # Find the features with zero importance\n",
        "    zero_features = list(feature_importances[feature_importances['importance'] == 0.0]['feature'])\n",
        "    print('\\nThere are %d features with 0.0 importance' % len(zero_features))\n",
        "    \n",
        "    return zero_features, feature_importances\n",
        "\n",
        "def plot_feature_importances(df, threshold = 0.9):\n",
        "    \"\"\"\n",
        "    Plots 15 most important features and the cumulative importance of features.\n",
        "    Prints the number of features needed to reach threshold cumulative importance.\n",
        "    \n",
        "    Parameters\n",
        "    --------\n",
        "    df : dataframe\n",
        "        Dataframe of feature importances. Columns must be feature and importance\n",
        "    threshold : float, default = 0.9\n",
        "        Threshold for prining information about cumulative importances\n",
        "        \n",
        "    Return\n",
        "    --------\n",
        "    df : dataframe\n",
        "        Dataframe ordered by feature importances with a normalized column (sums to 1)\n",
        "        and a cumulative importance column\n",
        "    \n",
        "    \"\"\"\n",
        "    \n",
        "    plt.rcParams['font.size'] = 18\n",
        "    \n",
        "    # Sort features according to importance\n",
        "    df = df.sort_values('importance', ascending = False).reset_index()\n",
        "    \n",
        "    # Normalize the feature importances to add up to one\n",
        "    df['importance_normalized'] = df['importance'] / df['importance'].sum()\n",
        "    df['cumulative_importance'] = np.cumsum(df['importance_normalized'])\n",
        "\n",
        "    # Make a horizontal bar chart of feature importances\n",
        "    plt.figure(figsize = (10, 6))\n",
        "    ax = plt.subplot()\n",
        "    \n",
        "    # Need to reverse the index to plot most important on top\n",
        "    ax.barh(list(reversed(list(df.index[:15]))), \n",
        "            df['importance_normalized'].head(15), \n",
        "            align = 'center', edgecolor = 'k')\n",
        "    \n",
        "    # Set the yticks and labels\n",
        "    ax.set_yticks(list(reversed(list(df.index[:15]))))\n",
        "    ax.set_yticklabels(df['feature'].head(15))\n",
        "    \n",
        "    # Plot labeling\n",
        "    plt.xlabel('Normalized Importance'); plt.title('Feature Importances')\n",
        "    plt.show()\n",
        "    \n",
        "    # Cumulative importance plot\n",
        "    plt.figure(figsize = (8, 6))\n",
        "    plt.plot(list(range(len(df))), df['cumulative_importance'], 'r-')\n",
        "    plt.xlabel('Number of Features'); plt.ylabel('Cumulative Importance'); \n",
        "    plt.title('Cumulative Feature Importance');\n",
        "    plt.show();\n",
        "    \n",
        "    importance_index = np.min(np.where(df['cumulative_importance'] > threshold))\n",
        "    print('%d features required for %0.2f of cumulative importance' % (importance_index + 1, threshold))\n",
        "    \n",
        "    return df\n",
        "\n",
        "def check_missing(df):\n",
        "    null_val = df.isnull().sum()\n",
        "    percent = 100 * df.isnull().sum()/len(df)\n",
        "    missing_table = pd.concat([null_val, percent], axis=1)\n",
        "    col = missing_table.rename(columns = {0 : 'Num', 1 : 'Rate'})\n",
        "    return col\n",
        "\n",
        "def plot_missing_pct(df, features, feature_name):\n",
        "    '''this function draw bar plot of missing value percentage '''\n",
        "    plt.figure(figsize=(16,6))\n",
        "    ax = plt.subplot(111)\n",
        "    \n",
        "    ax.bar(features, df[features].isnull().mean())\n",
        "    ax.set_ylim(0,1)\n",
        "    ax.set_xlabel(feature_name)\n",
        "    ax.set_ylabel('% missing data')\n",
        "    \n",
        "    ax.xaxis.set_tick_params(width=0)\n",
        "    ax.yaxis.set_tick_params(width=2, length=12)\n",
        "    \n",
        "    plt.title('Percentage of missing values of {}'.format(feature_name))\n",
        "    plt.show()\n",
        "    \n",
        "def pca_transform(df, features, explained_var_ratio = 0.95, prefix = 'PCA_'):\n",
        "    '''this function conducts pca transformation to reduce dimension'''\n",
        "    # drop na cols where missing value % > 0.9\n",
        "    filtered_features = df[features].isnull().mean().where(lambda x: x<0.9).dropna().index.values\n",
        "    \n",
        "    # fill na\n",
        "    df.loc[:, filtered_features] = df[filtered_features].fillna(-1)\n",
        "    \n",
        "    # scale\n",
        "    scaler = MinMaxScaler()\n",
        "    scaledArr = scaler.fit_transform(df[filtered_features])\n",
        "    scaledDF = pd.DataFrame(scaledArr, index=df.index, columns= filtered_features)\n",
        "    \n",
        "    # PCA\n",
        "    pca = PCA(explained_var_ratio, random_state = 0)\n",
        "    principalComponents = pca.fit_transform(scaledDF)\n",
        "    principalDF = pd.DataFrame(principalComponents, columns = [prefix+str(x) for x in range(1, principalComponents.shape[1]+1)])\n",
        "    \n",
        "    df.drop(features, axis=1, inplace=True)\n",
        "    df = pd.concat([df, principalDF], axis=1)\n",
        "    \n",
        "    return df, scaler, pca\n",
        "\n",
        "def scree_plot(pca):\n",
        "    '''this function creates a scree plot associated with the principal components.'''\n",
        "    num_components = len(pca.explained_variance_ratio_)\n",
        "    ind = np.arange(num_components)\n",
        "    vals = pca.explained_variance_ratio_\n",
        " \n",
        "    plt.figure(figsize=(16, 6))\n",
        "    ax = plt.subplot(111)\n",
        "    cumvals = np.cumsum(vals)\n",
        "    ax.bar(ind, vals)\n",
        "    ax.plot(ind, cumvals)\n",
        " \n",
        "    ax.xaxis.set_tick_params(width=0)\n",
        "    ax.yaxis.set_tick_params(width=2, length=12)\n",
        " \n",
        "    ax.set_xlabel(\"Principal Component\")\n",
        "    ax.set_ylabel(\"Variance Explained (%)\")\n",
        "    plt.title('Explained Variance Per Principal Component')\n",
        "    plt.show()\n",
        "    \n",
        "    cumvals = np.cumsum(pca.explained_variance_ratio_)\n",
        "    print(\"Number of Main PCA components that explained at least 95% variance : {}\".format(np.where(cumvals >= 0.95)[0][0]+1))\n",
        "\n",
        "def correlation_heatmap(train):\n",
        "    correlations = train.corr()\n",
        "\n",
        "    fig, ax = plt.subplots(figsize=(24,24))\n",
        "    sns.heatmap(correlations, vmax=1.0, center=0, fmt='.2f',\n",
        "                square=True, linewidths=.5, annot=True, cbar_kws={\"shrink\": .70})\n",
        "    plt.show();\n",
        "\n",
        "## Function to reduce the DF size\n",
        "def memory_reducer(df, verbose=True):\n",
        "    numerics = ['int16', 'int32', 'int64', 'float16', 'float32', 'float64']\n",
        "    start_mem = df.memory_usage().sum() / 1024**2    \n",
        "    for col in df.columns:\n",
        "        col_type = df[col].dtypes\n",
        "        if col_type in numerics:\n",
        "            c_min = df[col].min()\n",
        "            c_max = df[col].max()\n",
        "            if str(col_type)[:3] == 'int':\n",
        "                if c_min > np.iinfo(np.int8).min and c_max < np.iinfo(np.int8).max:\n",
        "                    df[col] = df[col].astype(np.int8)\n",
        "                elif c_min > np.iinfo(np.int16).min and c_max < np.iinfo(np.int16).max:\n",
        "                    df[col] = df[col].astype(np.int16)\n",
        "                elif c_min > np.iinfo(np.int32).min and c_max < np.iinfo(np.int32).max:\n",
        "                    df[col] = df[col].astype(np.int32)\n",
        "                elif c_min > np.iinfo(np.int64).min and c_max < np.iinfo(np.int64).max:\n",
        "                    df[col] = df[col].astype(np.int64)  \n",
        "            else:\n",
        "                if c_min > np.finfo(np.float16).min and c_max < np.finfo(np.float16).max:\n",
        "                    df[col] = df[col].astype(np.float16)\n",
        "                elif c_min > np.finfo(np.float32).min and c_max < np.finfo(np.float32).max:\n",
        "                    df[col] = df[col].astype(np.float32)\n",
        "                else:\n",
        "                    df[col] = df[col].astype(np.float64)    \n",
        "    end_mem = df.memory_usage().sum() / 1024**2\n",
        "    if verbose: print('Mem. usage decreased to {:5.2f} Mb ({:.1f}% reduction)'.format(end_mem, 100 * (start_mem - end_mem) / start_mem))\n",
        "    \n",
        "def conf_matrix(y_test, y_predicted):\n",
        "  cm = confusion_matrix(y_test, y_predicted)\n",
        "  plt.figure(figsize=(15,10))\n",
        "  plt.clf()\n",
        "  plt.imshow(cm, interpolation='nearest', cmap=plt.cm.Wistia)\n",
        "  classNames = ['Negative','Positive']\n",
        "  plt.title('Confusion Matrix')\n",
        "  plt.ylabel('True label')\n",
        "  plt.xlabel('Predicted label')\n",
        "  tick_marks = np.arange(len(classNames))\n",
        "  plt.xticks(tick_marks, classNames, rotation=45)\n",
        "  plt.yticks(tick_marks, classNames)\n",
        "  s = [['TN','FP'], ['FN', 'TP']]\n",
        "  \n",
        "  for i in range(2):\n",
        "      for j in range(2):\n",
        "          plt.text(j,i, str(s[i][j])+\" = \"+str(cm[i][j]))\n",
        "  plt.show()"
      ],
      "execution_count": null,
      "outputs": []
    },
    {
      "cell_type": "markdown",
      "metadata": {
        "id": "Hl2x00lbKQxy"
      },
      "source": [
        "### 1 Data"
      ]
    },
    {
      "cell_type": "code",
      "metadata": {
        "id": "txC_gC4_YczW",
        "colab": {
          "base_uri": "https://localhost:8080/"
        },
        "outputId": "71688b61-e92c-4bda-f5ff-b192d37e63f1"
      },
      "source": [
        "from google.colab import drive\n",
        "drive.mount('/content/drive')\n"
      ],
      "execution_count": null,
      "outputs": [
        {
          "output_type": "stream",
          "text": [
            "Mounted at /content/drive\n"
          ],
          "name": "stdout"
        }
      ]
    },
    {
      "cell_type": "code",
      "metadata": {
        "id": "UiS7lZXaFndg"
      },
      "source": [
        "# import data\n",
        "\n",
        "id = pd.read_csv(\"/content/drive/MyDrive/Thesis/Data/ID.csv\")\n",
        "tran = pd.read_csv(\"/content/drive/MyDrive/Thesis/Data/Transaction.csv\")\n",
        "\n",
        "# Remove vesta features V_xxxx\n",
        "tran = tran.loc[:,~tran.columns.str.startswith('V')]\n",
        "\n",
        "# Merge the classes into shared df dataframe\n",
        "df = pd.merge(tran, id, how=\"outer\", on=[\"TransactionID\"])\n",
        "\n",
        "del tran\n",
        "del id"
      ],
      "execution_count": null,
      "outputs": []
    },
    {
      "cell_type": "markdown",
      "metadata": {
        "id": "ryVpUr44Fndh"
      },
      "source": [
        "### 2 Pre-processing"
      ]
    },
    {
      "cell_type": "markdown",
      "metadata": {
        "id": "CFZbXJCOFndi"
      },
      "source": [
        "Create categories for each e-mail provider and cluster e-mail within the company provider. As such we could reduce the number of categories from 60 to a few. __Furthermore did I split up the .com, .us and so on into suffix, not sure if that may be future engineering since the data in the categorical variable are split into two different new variables.__"
      ]
    },
    {
      "cell_type": "markdown",
      "metadata": {
        "id": "02pFvFf5lzY2"
      },
      "source": [
        "#### 2.1 Catagorical features"
      ]
    },
    {
      "cell_type": "markdown",
      "metadata": {
        "id": "-iMrJqM8lzY3"
      },
      "source": [
        "##### 2.1.1 P_emaildomain and R_emaildomain"
      ]
    },
    {
      "cell_type": "code",
      "metadata": {
        "id": "S-goEYExlzY3"
      },
      "source": [
        "# email features: P_emaildomain, R_emaildomain\n",
        "# email map\n",
        "emails = {'gmail': 'google', 'att.net': 'att', 'twc.com': 'spectrum', \n",
        "          'scranton.edu': 'other', 'optonline.net': 'other', 'hotmail.co.uk': 'microsoft',\n",
        "          'comcast.net': 'other', 'yahoo.com.mx': 'yahoo', 'yahoo.fr': 'yahoo',\n",
        "          'yahoo.es': 'yahoo', 'charter.net': 'spectrum', 'live.com': 'microsoft', \n",
        "          'aim.com': 'aol', 'hotmail.de': 'microsoft', 'centurylink.net': 'centurylink',\n",
        "          'gmail.com': 'google', 'me.com': 'apple', 'earthlink.net': 'other', 'gmx.de': 'other',\n",
        "          'web.de': 'other', 'cfl.rr.com': 'other', 'hotmail.com': 'microsoft', \n",
        "          'protonmail.com': 'other', 'hotmail.fr': 'microsoft', 'windstream.net': 'other', \n",
        "          'outlook.es': 'microsoft', 'yahoo.co.jp': 'yahoo', 'yahoo.de': 'yahoo',\n",
        "          'servicios-ta.com': 'other', 'netzero.net': 'other', 'suddenlink.net': 'other',\n",
        "          'roadrunner.com': 'other', 'sc.rr.com': 'other', 'live.fr': 'microsoft',\n",
        "          'verizon.net': 'yahoo', 'msn.com': 'microsoft', 'q.com': 'centurylink', \n",
        "          'prodigy.net.mx': 'att', 'frontier.com': 'yahoo', 'anonymous.com': 'other', \n",
        "          'rocketmail.com': 'yahoo', 'sbcglobal.net': 'att', 'frontiernet.net': 'yahoo', \n",
        "          'ymail.com': 'yahoo', 'outlook.com': 'microsoft', 'mail.com': 'other', \n",
        "          'bellsouth.net': 'other', 'embarqmail.com': 'centurylink', 'cableone.net': 'other', \n",
        "          'hotmail.es': 'microsoft', 'mac.com': 'apple', 'yahoo.co.uk': 'yahoo', 'netzero.com': 'other', \n",
        "          'yahoo.com': 'yahoo', 'live.com.mx': 'microsoft', 'ptd.net': 'other', 'cox.net': 'other',\n",
        "          'aol.com': 'aol', 'juno.com': 'other', 'icloud.com': 'apple'}\n",
        "\n",
        "us_emails = ['gmail', 'net', 'edu']\n",
        "\n",
        "# fill na\n",
        "df.loc[:, ['P_emaildomain', 'R_emaildomain']] = df[['P_emaildomain', 'R_emaildomain']].fillna('None')\n",
        "\n",
        "# clean email domains\n",
        "df = df.assign(P_emaildomain_bin = df['P_emaildomain'].map(emails),\n",
        "          P_emaildomain_suffix = df['P_emaildomain'].map(lambda x: str(x).split('.')[-1]).map(lambda x: 'us' if str(x) in us_emails else x),\n",
        "          R_emaildomain_bin = df['R_emaildomain'].map(emails),\n",
        "          R_emaildomain_suffix = df['R_emaildomain'].map(lambda x: str(x).split('.')[-1]).map(lambda x: 'us' if str(x) in us_emails else x),\n",
        "        )\n",
        "\n",
        "df.loc[:, ['P_emaildomain_bin', 'R_emaildomain_bin']] = df[['P_emaildomain_bin', 'R_emaildomain_bin']].fillna('None')\n",
        "\n",
        "df.drop(['P_emaildomain', 'R_emaildomain'], axis=1, inplace=True)"
      ],
      "execution_count": null,
      "outputs": []
    },
    {
      "cell_type": "markdown",
      "metadata": {
        "id": "e9YyoL15lzY4"
      },
      "source": [
        "##### 2.1.2 Device features, DeviceInfo and DeviceType"
      ]
    },
    {
      "cell_type": "markdown",
      "metadata": {
        "id": "9eKmFlOFlzY4"
      },
      "source": [
        "For DeviceType, DeviceInfo and other id_xx variables with device info regarding screen size, phone producer and browser, did I cluster the different brands of same name into one brand. This reduces the number of categories. Furthermore, was the NAN observations filled with None. "
      ]
    },
    {
      "cell_type": "code",
      "metadata": {
        "id": "zQxXxkTclzY5"
      },
      "source": [
        "# deveice features: DeviceInfo, DeviceType\n",
        "# device map\n",
        "devices = {'SM': 'Samsung', 'SAMSUNG': 'Samsung', 'GT-': 'Samsung', 'Moto G': 'Motorola',\n",
        "           'Moto': 'Motorola', 'moto': 'Motorola', 'LG-': 'LG', 'VS\\d{3}': 'LG', 'LG\\w{2}\\d{3}': 'LG', 'rv': 'RV', 'HUAWEI': 'Huawei',\n",
        "           'ALE-':'Huawei', '-L':'Huawei', 'hi6210sft': 'Huawei', 'CHC-U03': 'Huawei', 'Blade': 'ZTE', 'Z\\d{3}': 'ZTE', 'BLADE': 'ZTE', 'ZTE':'ZTE', \n",
        "           'Linux': 'Linux', 'XT': 'Sony', 'F\\d{4}': 'Sony', 'E\\d{4}': 'Sony', 'G\\d{4}': 'Sony', 'HTC': 'HTC', 'ASUS': 'Asus',\n",
        "           'Pixel': 'Pixel', 'Lenovo': 'Lenovo', 'Windows': 'Windows', 'Redmi': 'Redmi', 'Ilium': 'Ilium', 'ILIUM': 'Ilium',\n",
        "           'Hisense': 'Hisense', 'KF': 'Amazon', 'Android': 'Android', '\\d{4}A': 'Alcatel', '\\d{4}W': 'Alcatel', '\\d{4}M': 'Alcatel', \n",
        "           'Alcatel': 'Alcatel', 'ALCATEL':'Alcatel', '\\d{4}G': 'Mozilla', 'M4': 'M4', 'TA-': 'Nokia', 'NOKIA': 'Nokia', 'Nexus':'Nexus', 'BLU':'BLU'}\n",
        "\n",
        "# devices_list = df.loc[:,'device_name'].value_counts().where(lambda x : x>80).dropna().index.values\n",
        "\n",
        "devices_list = ['None', 'Windows', 'iOS Device', 'MacOS', 'Samsung', 'Trident', 'RV',\n",
        "               'Motorola', 'LG', 'Huawei', 'Sony', 'ZTE', 'HTC', 'Alcatel', 'Lenovo',\n",
        "               'Ilium', 'Pixel', 'Hisense', 'Amazon', 'Mozilla', 'M4', 'Redmi',\n",
        "               'Nokia', 'Linux', 'Nexus', 'Android']\n",
        "\n",
        "# clean device name\n",
        "df.loc[:,'DeviceName'] = df['DeviceInfo'].str.split('/').str[0].fillna('None')\n",
        "for k,v in devices.items():\n",
        "    df.loc[df['DeviceName'].str.contains(k, na=False), 'DeviceName'] = v\n",
        "df.loc[~df['DeviceName'].isin(devices_list), 'DeviceName'] = 'Others'\n",
        "\n",
        "# remove DeviceInfo\n",
        "df.drop(['DeviceInfo'], axis=1, inplace=True)\n",
        "\n",
        "# DeviceType - fillna\n",
        "df.loc[:,'DeviceType'] = df['DeviceType'].fillna('None')"
      ],
      "execution_count": null,
      "outputs": []
    },
    {
      "cell_type": "markdown",
      "metadata": {
        "id": "NlfjUS-ylzY5"
      },
      "source": [
        "##### 2.1.3 Other categorical features, address and card"
      ]
    },
    {
      "cell_type": "markdown",
      "metadata": {
        "id": "AmFTPtLZlzY5"
      },
      "source": [
        "Further I converted address and card variables from float to categorical/object as they were specified by VESTA in (https://www.kaggle.com/c/ieee-fraud-detection/discussion/101203) to be categorical. Hence, should not be treated as numerical values as they have another meaning. Further was NAN values filled with NONE to remove the missing values and use a common new category for all missing values to keep the pattern in the data. "
      ]
    },
    {
      "cell_type": "code",
      "metadata": {
        "id": "-LGZpon6A7au"
      },
      "source": [
        "# other categorical features (address, card, M features)\n",
        "addr_features = df.columns[df.columns.str.contains('addr')].values.tolist()\n",
        "card_features = df.columns[df.columns.str.contains('card')].values.tolist()\n",
        "m_features = df.columns[df.columns.str.contains('M\\d+')].values.tolist()\n",
        "\n",
        "# int to float\n",
        "features_to_int = df[addr_features+card_features].dtypes.where(lambda x: x == 'float64').dropna().index\n",
        "df.loc[:, features_to_int] = df.loc[:, features_to_int].astype('Int64')\n",
        "\n",
        "# int to str\n",
        "df.loc[:, addr_features+card_features] = df.loc[:, addr_features+card_features].astype(str)\n",
        "\n",
        "# fill na\n",
        "df.loc[:, addr_features+card_features+m_features] = df[addr_features+card_features+m_features].fillna('None')\n",
        "\n",
        "# clean card type\n",
        "df['card6'] = df['card6'].map(lambda x: 'None' if x not in ['debit', 'credit', 'None'] else x)"
      ],
      "execution_count": null,
      "outputs": []
    },
    {
      "cell_type": "code",
      "metadata": {
        "id": "tsr8-IOSlzY6"
      },
      "source": [
        ""
      ],
      "execution_count": null,
      "outputs": []
    },
    {
      "cell_type": "markdown",
      "metadata": {
        "id": "xkdU8Gj5lzY6"
      },
      "source": [
        "##### 2.1.4 ID_features"
      ]
    },
    {
      "cell_type": "markdown",
      "metadata": {
        "id": "sCihu2dWlzY6"
      },
      "source": [
        "Clean the categorical ID_xx variables that goes from ID_12 until ID_38 + \"DeviceInfo\" and \"DeviceType\". We convert the categorical ID_xx from float to object/category as the numbers in the variables which are categorical (specified by VESTA) do not have the same numeric meaning as true numeric float variables.__Furthermore, do we split the id_01 - id_11 into its own category which we will treat accordingly in the numerical cleaning part for id_xx features!__"
      ]
    },
    {
      "cell_type": "code",
      "metadata": {
        "id": "BqRg-MWllzY7"
      },
      "source": [
        "id_features = df.columns[df.columns.str.contains('id_\\d+')]\n",
        "cat_id_features = ['id_'+str(x).zfill(2) for x in range(12, 38+1)]\n",
        "num_id_features = ['id_'+str(x).zfill(2) for x in range(1, 12)]"
      ],
      "execution_count": null,
      "outputs": []
    },
    {
      "cell_type": "code",
      "metadata": {
        "id": "IkpzP3UdFndm"
      },
      "source": [
        "# missing value check\n",
        "num_check_df = pd.DataFrame({'Missing Percentage': np.round(df[num_id_features].isnull().mean()*100), \n",
        "              'Zero Percentage': np.round((df[num_id_features]==0).mean()*100),\n",
        "              'Total Percentage': np.round((df[num_id_features].isnull()|(df[num_id_features]==0)).mean()*100)})\\\n",
        "            .sort_values('Total Percentage', ascending=False)\n",
        "    \n",
        "cat_check_df = pd.DataFrame({'Missing Percentage': np.round(df[cat_id_features].isnull().mean()*100),\n",
        "                             'Nunique': df[cat_id_features].nunique()})\\\n",
        "            .sort_values('Missing Percentage', ascending=False)\n",
        "    \n",
        "# drop missing + zero values >= 99%\n",
        "num_id_features_todrop = num_check_df[num_check_df['Total Percentage'] >= 99].index.values.tolist()\n",
        "num_id_features_tokeep = num_check_df[num_check_df['Total Percentage'] < 99].index.values.tolist()\n",
        "df.drop(num_id_features_todrop, axis=1, inplace=True)\n",
        "\n",
        "cat_id_features_todrop = cat_check_df[cat_check_df['Missing Percentage'] >= 99].index.values.tolist()\n",
        "cat_id_features_tokeep = cat_check_df[cat_check_df['Missing Percentage'] < 99].index.values.tolist()\n",
        "df.drop(cat_id_features_todrop, axis=1, inplace=True)"
      ],
      "execution_count": null,
      "outputs": []
    },
    {
      "cell_type": "code",
      "metadata": {
        "id": "kABTA2-AFndn",
        "colab": {
          "base_uri": "https://localhost:8080/"
        },
        "outputId": "c53541a7-230d-4476-98e1-b5338c705751"
      },
      "source": [
        "# int to float\n",
        "cat_id_features_to_int = df[cat_id_features_tokeep].dtypes.where(lambda x: x == 'float64').dropna().index\n",
        "df.loc[:, cat_id_features_to_int] = df.loc[:, cat_id_features_to_int].astype('Int64')\n",
        "\n",
        "# int to str\n",
        "df.loc[:, cat_id_features_to_int] = df.loc[:, cat_id_features_to_int].astype(str)\n",
        "\n",
        "# fill na with None\n",
        "df[cat_id_features_tokeep] = df[cat_id_features_tokeep].fillna('None')\n",
        "\n",
        "# id - system\n",
        "df['sys_id_30'] = df['id_30'].str.split(' ').str[0]\n",
        "sys_list = ['Windows', 'iOS', 'Mac', 'Android', 'Linux', 'None']\n",
        "df['sys_id_30'] = np.where(df['sys_id_30'].isin(sys_list), df['sys_id_30'], 'None')\n",
        "\n",
        "# id - browser\n",
        "browsers = {'safari': 'safari', 'chrome': 'chrome', 'samsung': 'samsung', 'Samsung': 'samsung', 'edge': 'edge', \n",
        " 'firefox': 'firefox', 'ie':'ie', 'google':'google', 'other':'others', 'None':'None'}\n",
        "browsers_list = ['chrome','safari','ie','firefox','edge','samsung','None']\n",
        "for k,v in browsers.items():\n",
        "    df.loc[df['id_31'].str.contains(k, na=False), 'browser_id_31'] = v\n",
        "df.loc[~df['browser_id_31'].isin(browsers_list), 'browser_id_31'] = 'others'\n",
        "\n",
        "# id - screen\n",
        "df.loc[df['id_33']=='0x0', 'id_33'] = 'None'\n",
        "screen_height = df.loc[df['id_33']!='None', 'id_33'].str.split('x').str[1].astype(int)\n",
        "bins = [0, 900, 1500, np.inf]\n",
        "screen_height_cate = pd.cut(screen_height, bins, labels=['s', 'm', 'l'])\n",
        "screen_width = df.loc[df['id_33']!='None', 'id_33'].str.split('x').str[0].astype(int)\n",
        "bins = [0, 1200, 2000, np.inf]\n",
        "screen_width_cate = pd.cut(screen_width, bins, labels=['s', 'm', 'l'])\n",
        "\n",
        "screen = screen_width_cate.astype(str) + 'x' + screen_height_cate.astype(str)\n",
        "df.loc[df['id_33']!='None', 'screen_id_33'] = screen\n",
        "df.loc[df['id_33']=='None', 'screen_id_33'] = 'None'\n",
        "\n",
        "# drop id 30, 31, 33\n",
        "df.drop(['id_30','id_31','id_33'], axis=1, inplace=True)\n",
        "cat_id_features_tokeep.remove('id_30')\n",
        "cat_id_features_tokeep.remove('id_31')\n",
        "cat_id_features_tokeep.remove('id_33')\n",
        "\n",
        "# Append categorical to list\n",
        "cat_id_features_tokeep.extend(['sys_id_30', 'browser_id_31', 'screen_id_33'])\n",
        "\n",
        "gc.collect()"
      ],
      "execution_count": null,
      "outputs": [
        {
          "output_type": "execute_result",
          "data": {
            "text/plain": [
              "20"
            ]
          },
          "metadata": {
            "tags": []
          },
          "execution_count": 11
        }
      ]
    },
    {
      "cell_type": "markdown",
      "metadata": {
        "id": "EwAHdwYw4RrP"
      },
      "source": [
        "##### 2.1.5 Label encoder"
      ]
    },
    {
      "cell_type": "code",
      "metadata": {
        "id": "rVvCUMIf4Rz2"
      },
      "source": [
        "# Label Encoding\n",
        "category = []\n",
        "for f in df.drop('isFraud', axis=1).columns:\n",
        "    if df[f].dtype=='object': \n",
        "        lbl = preprocessing.LabelEncoder()\n",
        "        category.append(f)\n",
        "        lbl.fit(list(df[f].values))\n",
        "        df[f] = lbl.transform(list(df[f].values))"
      ],
      "execution_count": null,
      "outputs": []
    },
    {
      "cell_type": "markdown",
      "metadata": {
        "id": "M8rwi-vrFndn"
      },
      "source": [
        "#### 2.2 Numerical features"
      ]
    },
    {
      "cell_type": "markdown",
      "metadata": {
        "id": "_2UyWwdnFndo"
      },
      "source": [
        "##### 2.2.1 Transaction features"
      ]
    },
    {
      "cell_type": "code",
      "metadata": {
        "colab": {
          "base_uri": "https://localhost:8080/"
        },
        "id": "UGO0cAlZFndo",
        "outputId": "3dd63c2d-ab0f-494c-a47d-67525e9b9be1"
      },
      "source": [
        "# Vizualize outliers thorugh boxplot\n",
        "print(df.boxplot('TransactionAmt'))"
      ],
      "execution_count": null,
      "outputs": [
        {
          "output_type": "stream",
          "text": [
            "AxesSubplot(0.125,0.125;0.775x0.755)\n"
          ],
          "name": "stdout"
        },
        {
          "output_type": "display_data",
          "data": {
            "image/png": "[encoded data removed]",
            "text/plain": [
              "<Figure size 432x288 with 1 Axes>"
            ]
          },
          "metadata": {
            "tags": [],
            "needs_background": "light"
          }
        }
      ]
    },
    {
      "cell_type": "code",
      "metadata": {
        "id": "MzDMjZhSFndq"
      },
      "source": [
        "df.drop(df.loc[df['TransactionAmt']>15000].index, inplace=True)"
      ],
      "execution_count": null,
      "outputs": []
    },
    {
      "cell_type": "markdown",
      "metadata": {
        "id": "CN_9rRZCFndq"
      },
      "source": [
        "##### 2.2.2 dist features"
      ]
    },
    {
      "cell_type": "code",
      "metadata": {
        "id": "sy7Fqg4gFndq"
      },
      "source": [
        "# Dist features\n",
        "pd.DataFrame(np.round(df[['dist1', 'dist2']].isnull().mean()*100), columns = ['Missing Percentage'])\n",
        "\n",
        "# drop dist 2\n",
        "df.drop(['dist2'], axis=1, inplace=True)"
      ],
      "execution_count": null,
      "outputs": []
    },
    {
      "cell_type": "markdown",
      "metadata": {
        "id": "ffIGFJ1978Jd"
      },
      "source": [
        "##### 2.2.4 Impute numeric NAN"
      ]
    },
    {
      "cell_type": "code",
      "metadata": {
        "id": "mCnZ56XJ79dK"
      },
      "source": [
        "df = df.fillna(-999)"
      ],
      "execution_count": null,
      "outputs": []
    },
    {
      "cell_type": "markdown",
      "metadata": {
        "id": "9ZmfhFq_MS7h"
      },
      "source": [
        "##### 2.2.3 Adding start date of TransactionDT"
      ]
    },
    {
      "cell_type": "code",
      "metadata": {
        "id": "aVu6mz_2MTyP"
      },
      "source": [
        "START_DATE = '2017-12-01'\n",
        "startdate = dt.datetime.strptime(START_DATE, '%Y-%m-%d')\n",
        "\n",
        "df['TransactionDT'] = df['TransactionDT'].apply(lambda x: (startdate + dt.timedelta(seconds = x)))"
      ],
      "execution_count": null,
      "outputs": []
    },
    {
      "cell_type": "code",
      "metadata": {
        "colab": {
          "base_uri": "https://localhost:8080/"
        },
        "id": "HbyL4TR4Y3FE",
        "outputId": "6e812b4a-ae0e-48db-d3aa-82a4922efe0d"
      },
      "source": [
        "memory_reducer(df)"
      ],
      "execution_count": null,
      "outputs": [
        {
          "output_type": "stream",
          "text": [
            "Mem. usage decreased to 81.10 Mb (78.6% reduction)\n"
          ],
          "name": "stdout"
        }
      ]
    },
    {
      "cell_type": "markdown",
      "metadata": {
        "id": "8v5I3eErE7bb"
      },
      "source": [
        "#### 2.3.0 Split Train/Test\n",
        "\n",
        "\n",
        "\n"
      ]
    },
    {
      "cell_type": "code",
      "metadata": {
        "id": "jxs59bw7fZzE"
      },
      "source": [
        "# Isolate target variable\n",
        "y = df.pop('isFraud')\n",
        "X = df.copy(deep=True)"
      ],
      "execution_count": null,
      "outputs": []
    },
    {
      "cell_type": "code",
      "metadata": {
        "id": "8zacqnt6gdYv"
      },
      "source": [
        "# Test = 70%, Validation = 14%, Test = 16%\n",
        "# Split is done by 3 different time sequences. \n",
        "\n",
        "train_length = 472432\n",
        "test_length = 590540\n",
        "\n",
        "train_X, train_y = X.iloc[:train_length], y.iloc[:train_length]\n",
        "test_X, test_y = X.iloc[train_length:test_length], y.iloc[train_length:test_length]\n",
        "\n",
        "train_X, train_y = train_X.reset_index(drop=True), train_y.reset_index(drop=True)\n",
        "test_X, test_y = test_X.reset_index(drop=True), test_y.reset_index(drop=True)"
      ],
      "execution_count": null,
      "outputs": []
    },
    {
      "cell_type": "code",
      "metadata": {
        "id": "zMm2dWa40iG9",
        "colab": {
          "base_uri": "https://localhost:8080/"
        },
        "outputId": "6ef8312b-1ea8-41d3-b907-dfbb6c517c01"
      },
      "source": [
        "memory_reducer(train_X)\n",
        "memory_reducer(test_X)"
      ],
      "execution_count": null,
      "outputs": [
        {
          "output_type": "stream",
          "text": [
            "Mem. usage decreased to 60.82 Mb (0.0% reduction)\n",
            "Mem. usage decreased to 15.21 Mb (0.0% reduction)\n"
          ],
          "name": "stdout"
        }
      ]
    },
    {
      "cell_type": "markdown",
      "metadata": {
        "id": "edZbDO6wXjeO"
      },
      "source": [
        "#### 2.4 Feature Tool"
      ]
    },
    {
      "cell_type": "markdown",
      "metadata": {
        "id": "_x8YI5erJH_l"
      },
      "source": [
        "##### 2.4.1 Specify dtype"
      ]
    },
    {
      "cell_type": "code",
      "metadata": {
        "id": "xXPdlgVgjT19"
      },
      "source": [
        "### Add right categorical dtype for variabels in feature tool ###\n",
        "\n",
        "# Specify main table\n",
        "\n",
        "variable_type_transaction = {'TransactionID': vtypes.Categorical,\n",
        "      'addr1': vtypes.Categorical,\n",
        "      'addr2': vtypes.Categorical,\n",
        "      'ProductCD': vtypes.Categorical,\n",
        "      'P_emaildomain_bin': vtypes.Categorical,\n",
        "      'R_emaildomain_bin': vtypes.Categorical,\n",
        "      'P_emaildomain_suffix': vtypes.Categorical,\n",
        "      'R_emaildomain_suffix': vtypes.Categorical,\n",
        "      'TransactionDT': vtypes.DatetimeTimeIndex,\n",
        "      'id_12': vtypes.Categorical,\n",
        "      'id_13': vtypes.Categorical,\n",
        "      'id_14': vtypes.Categorical,\n",
        "      'id_15': vtypes.Categorical,\n",
        "      'id_16': vtypes.Categorical,\n",
        "      'id_17': vtypes.Categorical,\n",
        "      'id_18': vtypes.Categorical,\n",
        "      'id_19': vtypes.Categorical,\n",
        "      'id_20': vtypes.Categorical,\n",
        "      'id_28': vtypes.Categorical,\n",
        "      'id_29': vtypes.Categorical,\n",
        "      'id_32': vtypes.Categorical,\n",
        "      'id_34': vtypes.Categorical,\n",
        "      'id_35': vtypes.Categorical,\n",
        "      'id_36': vtypes.Categorical,\n",
        "      'id_37': vtypes.Categorical,\n",
        "      'id_38': vtypes.Categorical,\n",
        "      'DeviceType': vtypes.Categorical,\n",
        "      'DeviceName': vtypes.Categorical,\n",
        "      'sys_id_30': vtypes.Categorical,\n",
        "      'browser_id_31': vtypes.Categorical,\n",
        "      'screen_id_33': vtypes.Categorical,\n",
        "      'M1': vtypes.Categorical,\n",
        "      'M2': vtypes.Categorical,\n",
        "      'M3': vtypes.Categorical,\n",
        "      'M4': vtypes.Categorical,\n",
        "      'M5': vtypes.Categorical,\n",
        "      'M6': vtypes.Categorical,\n",
        "      'M7': vtypes.Categorical,\n",
        "      'M8': vtypes.Categorical,\n",
        "      'M9': vtypes.Categorical,\n",
        "      'card1': vtypes.Categorical,                \n",
        "      'card2': vtypes.Categorical,\n",
        "      'card3': vtypes.Categorical,\n",
        "      'card4': vtypes.Categorical,\n",
        "      'card5': vtypes.Categorical,\n",
        "      'card6': vtypes.Categorical}\n",
        "\n",
        "variable_type_amount = {'TransactionID': vtypes.Categorical}              \n",
        "\n",
        "                             \n",
        "\n"
      ],
      "execution_count": null,
      "outputs": []
    },
    {
      "cell_type": "markdown",
      "metadata": {
        "id": "k2ogrohU4gzO"
      },
      "source": [
        "##### 2.4.2 DFS - Automated feature engineering"
      ]
    },
    {
      "cell_type": "code",
      "metadata": {
        "id": "IlbbtXDezYjO"
      },
      "source": [
        "# Check available transformation operators\n",
        "primitives = ft.list_primitives()\n",
        "primitives[primitives['type'] == 'transform'].head(100)"
      ],
      "execution_count": null,
      "outputs": []
    },
    {
      "cell_type": "code",
      "metadata": {
        "id": "Hk2xHtTH-E9G"
      },
      "source": [
        "# Check available aggregation operators\n",
        "primitives = ft.list_primitives()\n",
        "primitives[primitives['type'] == 'aggregation'].head(100)"
      ],
      "execution_count": null,
      "outputs": []
    },
    {
      "cell_type": "markdown",
      "metadata": {
        "id": "QjAQ88nB4lsx"
      },
      "source": [
        "###### FT - Train"
      ]
    },
    {
      "cell_type": "code",
      "metadata": {
        "id": "a9sy5VL83Hff",
        "colab": {
          "base_uri": "https://localhost:8080/"
        },
        "outputId": "15f3c85f-9ab1-48d6-dde3-f75beb209978"
      },
      "source": [
        "#### Specify feature tool ####\n",
        "\n",
        "# Creat main entityset transaction and creat a new table for card only for aggregation purposes\n",
        "es = ft.EntitySet(id = 'Fraud')\n",
        "es.entity_from_dataframe(entity_id = 'Transaction_table', dataframe = train_X, index = 'TransactionID')\n",
        "\n",
        "# Specify dtype for transaction_table\n",
        "es.entity_from_dataframe(entity_id = 'Transaction_table', dataframe = train_X, index = 'TransactionID', variable_types=variable_type_transaction, time_index = 'TransactionDT')\n",
        "\n",
        "# Specify amount table for aggregation of the TransactionAmt\n",
        "amount_df = train_X[[\"TransactionID\", \"TransactionAmt\"]]\n",
        "es = es.entity_from_dataframe(entity_id=\"amount_table\",\n",
        "                              dataframe=amount_df,\n",
        "                              index=\"index\")\n",
        "\n",
        "# Specify dtype for amount_table\n",
        "es.entity_from_dataframe(entity_id = 'amount_table', dataframe = amount_df, index = 'index', variable_types=variable_type_amount)\n",
        "\n",
        "# create relationship between transaction table and card table\n",
        "r_transaction_amount = ft.Relationship(es['Transaction_table']['TransactionID'],\n",
        "                                    es['amount_table']['TransactionID'])\n",
        "\n",
        "# Add the relationship to the entity set\n",
        "es = es.add_relationship(r_transaction_amount)\n",
        "\n",
        "# Specify the where feature\n",
        "es.add_interesting_values()\n",
        "\n",
        "es"
      ],
      "execution_count": null,
      "outputs": [
        {
          "output_type": "execute_result",
          "data": {
            "text/plain": [
              "Entityset: Fraud\n",
              "  Entities:\n",
              "    Transaction_table [Rows: 472432, Columns: 82]\n",
              "    amount_table [Rows: 472432, Columns: 3]\n",
              "  Relationships:\n",
              "    amount_table.TransactionID -> Transaction_table.TransactionID"
            ]
          },
          "metadata": {
            "tags": []
          },
          "execution_count": 25
        }
      ]
    },
    {
      "cell_type": "code",
      "metadata": {
        "id": "xFvk_x0TzxlN",
        "colab": {
          "base_uri": "https://localhost:8080/"
        },
        "outputId": "43fa20f9-0b97-4fae-f7a3-4fb88eb703e2"
      },
      "source": [
        "#### Check number of feature that will be created ####\n",
        "\n",
        "# Specify primitives from featuretools\n",
        "default_trans_primitives =  ['divide_numeric', \"time_since_previous\", \"week\", \"is_weekend\", \"time_since\", \"month\", \"diff\", \"day\", \"hour\", \"multiply_numeric\", ]\n",
        "default_agg_primitives = ['max', 'min', 'median', 'mean']\n",
        "\n",
        "# DFS with specified primitives\n",
        "feature_names = ft.dfs(entityset = es, target_entity = 'Transaction_table',\n",
        "                       agg_primitives = default_agg_primitives,\n",
        "                       trans_primitives = default_trans_primitives,                                   \n",
        "                       primitive_options={(\"multiply_numeric\"): {\"include_variables\": {\"Transaction_table\": [\"TransactionAmt\", \"dist1\", \"D2\", \"D4\", \"D10\", \"C1\", \"C13\", \"C11\", \"C6\", \"C5\"]}}}, \n",
        "                       max_depth = 2, ignore_variables={'Transaction_table':['TransactionID', \"index\"]}, features_only=True)\n",
        "\n",
        "print('%d Total Features' % len(feature_names))"
      ],
      "execution_count": null,
      "outputs": [
        {
          "output_type": "stream",
          "text": [
            "1750 Total Features\n"
          ],
          "name": "stdout"
        }
      ]
    },
    {
      "cell_type": "code",
      "metadata": {
        "id": "TlBUBXyE0ij2",
        "colab": {
          "base_uri": "https://localhost:8080/"
        },
        "outputId": "d2a3d24a-7baa-47c9-949e-9de9a989305c"
      },
      "source": [
        "# Run DFS for train\n",
        "train_X, feature_names = ft.dfs(entityset = es, target_entity = 'Transaction_table',\n",
        "                       agg_primitives = default_agg_primitives,\n",
        "                       trans_primitives = default_trans_primitives,                                   \n",
        "                       where_primitives=[\"count\"],\n",
        "                       primitive_options={(\"multiply_numeric\"): {\"include_variables\": {\"Transaction_table\": [\"TransactionAmt\", \"dist1\", \"D2\", \"D4\", \"D10\", \"C1\", \"C13\", \"C11\", \"C6\", \"C5\"]}}},\n",
        "                       max_depth = 2, features_only=False, verbose = True)"
      ],
      "execution_count": null,
      "outputs": [
        {
          "output_type": "stream",
          "text": [
            "Built 1750 features\n",
            "Elapsed: 02:27 | Progress: 100%|██████████\n"
          ],
          "name": "stdout"
        }
      ]
    },
    {
      "cell_type": "markdown",
      "metadata": {
        "id": "vLU-PxUh4tkV"
      },
      "source": [
        "###### FT - Test"
      ]
    },
    {
      "cell_type": "code",
      "metadata": {
        "id": "3moSlnFX4uXO",
        "colab": {
          "base_uri": "https://localhost:8080/"
        },
        "outputId": "2a7d0066-0325-454a-c1be-284e68057c3d"
      },
      "source": [
        "#### Specify feature tool ####\n",
        "\n",
        "# Creat main entityset transaction and creat a new table for card only for aggregation purposes\n",
        "es = ft.EntitySet(id = 'Fraud')\n",
        "es.entity_from_dataframe(entity_id = 'Transaction_table', dataframe = test_X, index = 'TransactionID')\n",
        "\n",
        "# Specify dtype for transaction_table\n",
        "es.entity_from_dataframe(entity_id = 'Transaction_table', dataframe = test_X, index = 'TransactionID', variable_types=variable_type_transaction, time_index = 'TransactionDT')\n",
        "\n",
        "# Specify amount table for aggregation of the TransactionAmt\n",
        "amount_df = test_X[[\"TransactionID\", \"TransactionAmt\"]]\n",
        "es = es.entity_from_dataframe(entity_id=\"amount_table\",\n",
        "                              dataframe=amount_df,\n",
        "                              index=\"index\")\n",
        "\n",
        "# Specify dtype for amount_table\n",
        "es.entity_from_dataframe(entity_id = 'amount_table', dataframe = amount_df, index = 'index', variable_types=variable_type_amount)\n",
        "\n",
        "# create relationship between transaction table and card table\n",
        "r_transaction_amount = ft.Relationship(es['Transaction_table']['TransactionID'],\n",
        "                                    es['amount_table']['TransactionID'])\n",
        "\n",
        "# Add the relationship to the entity set\n",
        "es = es.add_relationship(r_transaction_amount)\n",
        "\n",
        "# Specify the where feature\n",
        "es.add_interesting_values()\n",
        "\n",
        "es"
      ],
      "execution_count": null,
      "outputs": [
        {
          "output_type": "execute_result",
          "data": {
            "text/plain": [
              "Entityset: Fraud\n",
              "  Entities:\n",
              "    Transaction_table [Rows: 118106, Columns: 82]\n",
              "    amount_table [Rows: 118106, Columns: 3]\n",
              "  Relationships:\n",
              "    amount_table.TransactionID -> Transaction_table.TransactionID"
            ]
          },
          "metadata": {
            "tags": []
          },
          "execution_count": 68
        }
      ]
    },
    {
      "cell_type": "code",
      "metadata": {
        "id": "Fetjcb4b46Lk",
        "colab": {
          "base_uri": "https://localhost:8080/"
        },
        "outputId": "5bc518f4-7ccd-4201-bfb2-cae35b7519ce"
      },
      "source": [
        "#### Check number of feature that will be created ####\n",
        "\n",
        "# Specify primitives from featuretools\n",
        "default_trans_primitives =  ['divide_numeric', \"time_since_previous\", \"week\", \"is_weekend\", \"time_since\", \"month\", \"diff\", \"day\", \"hour\", \"multiply_numeric\"]\n",
        "default_agg_primitives = ['max', 'min', 'median', 'mean']\n",
        "\n",
        "# DFS with specified primitives\n",
        "feature_names = ft.dfs(entityset = es, target_entity = 'Transaction_table',\n",
        "                       agg_primitives = default_agg_primitives,\n",
        "                       trans_primitives = default_trans_primitives,                                   \n",
        "                       primitive_options={(\"multiply_numeric\"): {\"include_variables\": {\"Transaction_table\": [\"TransactionAmt\", \"dist1\", \"D2\", \"D4\", \"D10\", \"C1\", \"C13\", \"C11\", \"C6\", \"C5\"]}}}, \n",
        "                       max_depth = 2, ignore_variables={'Transaction_table':['TransactionID', \"index\"]}, features_only=True)\n",
        "\n",
        "print('%d Total Features' % len(feature_names))"
      ],
      "execution_count": null,
      "outputs": [
        {
          "output_type": "stream",
          "text": [
            "1750 Total Features\n"
          ],
          "name": "stdout"
        }
      ]
    },
    {
      "cell_type": "code",
      "metadata": {
        "id": "5wkFOo5rJpqd",
        "colab": {
          "base_uri": "https://localhost:8080/"
        },
        "outputId": "86b2ac3e-9fde-4125-9105-20e16452ba64"
      },
      "source": [
        "# Run DFS for train\n",
        "test_X, feature_names = ft.dfs(entityset = es, target_entity = 'Transaction_table',\n",
        "                       agg_primitives = default_agg_primitives,\n",
        "                       trans_primitives = default_trans_primitives,                                   \n",
        "                       where_primitives=[\"count\"],\n",
        "                       primitive_options={(\"multiply_numeric\"): {\"include_variables\": {\"Transaction_table\": [\"TransactionAmt\", \"dist1\", \"D2\", \"D4\", \"D10\", \"C1\", \"C13\", \"C11\", \"C6\", \"C5\"]}}},\n",
        "                       max_depth = 2, features_only=False, verbose = True)\n"
      ],
      "execution_count": null,
      "outputs": [
        {
          "output_type": "stream",
          "text": [
            "Built 1750 features\n",
            "Elapsed: 00:40 | Progress: 100%|██████████\n"
          ],
          "name": "stdout"
        }
      ]
    },
    {
      "cell_type": "markdown",
      "metadata": {
        "id": "eTUA3FZaDHgv"
      },
      "source": [
        "##### 2.4.3 Cleaning of Feature tool"
      ]
    },
    {
      "cell_type": "code",
      "metadata": {
        "id": "y1yc-50zwBrQ"
      },
      "source": [
        "# Reset index and remove TransactionID\n",
        "train_X = train_X.reset_index()\n",
        "test_X = test_X.reset_index()\n",
        "\n",
        "train_X.drop(\"TransactionID\", axis=1, inplace=True)\n",
        "test_X.drop(\"TransactionID\", axis=1, inplace=True)"
      ],
      "execution_count": null,
      "outputs": []
    },
    {
      "cell_type": "code",
      "metadata": {
        "id": "WFsFqCxBpfL2"
      },
      "source": [
        "# Label encode new boolean category\n",
        "le = preprocessing.LabelEncoder()\n",
        "\n",
        "train_X['IS_WEEKEND(TransactionDT)'] = le.fit_transform(train_X['IS_WEEKEND(TransactionDT)'])\n",
        "test_X['IS_WEEKEND(TransactionDT)'] = le.fit_transform(test_X['IS_WEEKEND(TransactionDT)'])"
      ],
      "execution_count": null,
      "outputs": []
    },
    {
      "cell_type": "code",
      "metadata": {
        "id": "IhpYQoAl2_6b"
      },
      "source": [
        "# Fill NAN prodcued by feature engineering with zero\n",
        "pd.set_option('use_inf_as_na', True)\n",
        "train_X = train_X.fillna(0)\n",
        "test_X = test_X.fillna(0)"
      ],
      "execution_count": null,
      "outputs": []
    },
    {
      "cell_type": "code",
      "metadata": {
        "id": "FpuNmqCPFbJ5"
      },
      "source": [
        "# Remove columns with 1 unique value\n",
        "for col in train_X.columns:\n",
        "    if len(train_X[col].unique()) == 1:\n",
        "        train_X.drop(col,inplace=True,axis=1)\n",
        "\n",
        "for col in test_X.columns:\n",
        "    if len(test_X[col].unique()) == 1:\n",
        "        test_X.drop(col,inplace=True,axis=1)"
      ],
      "execution_count": null,
      "outputs": []
    },
    {
      "cell_type": "markdown",
      "metadata": {
        "id": "ODFBpegrAVCl"
      },
      "source": [
        "#### 2.5 Feature reduction"
      ]
    },
    {
      "cell_type": "markdown",
      "metadata": {
        "id": "oARoFVhOfbPS"
      },
      "source": [
        "###### 2.5.1 Drop highly correlated variables"
      ]
    },
    {
      "cell_type": "code",
      "metadata": {
        "id": "BFWJZ2k0cqZK"
      },
      "source": [
        "# Absolute value correlation matrix\n",
        "corr_matrix = train_X.corr().abs().round(2)\n",
        "\n",
        "# Getting the upper triangle of correlations\n",
        "upper = corr_matrix.where(np.triu(np.ones(corr_matrix.shape), k=1).astype(np.bool))\n",
        "\n",
        "# Select columns with correlations above threshold\n",
        "threshold = 0.9\n",
        "columns_todrop = [row for row in upper.index if any(upper.loc[row,:] > threshold)]\n",
        "\n",
        "train_X = train_X.drop(columns = columns_todrop)\n",
        "test_X = test_X.drop(columns = columns_todrop)"
      ],
      "execution_count": null,
      "outputs": []
    },
    {
      "cell_type": "markdown",
      "metadata": {
        "id": "EfylujVtAf46"
      },
      "source": [
        "###### 2.5.2 Remove zero importance variabels"
      ]
    },
    {
      "cell_type": "code",
      "metadata": {
        "colab": {
          "base_uri": "https://localhost:8080/"
        },
        "id": "DsJNQTEEAuyb",
        "outputId": "02d0114c-1e41-4d27-bdda-0740a4bd28ba"
      },
      "source": [
        "# Use XGBoost to locate zero important features its consistant with the model we will use \n",
        "# later to evaluate the dataset performance\n",
        "\n",
        "# Initialize an empty array to hold feature importances\n",
        "feature_importances = np.zeros(train_X.shape[1])\n",
        "\n",
        "# Create the model with several hyperparameters\n",
        "model = xgb.XGBClassifier(num_boost_round=100, n_estimators = 240, tree_method='gpu_hist', )\n",
        "\n",
        "X = train_X.copy(deep=True)\n",
        "y = train_y.copy() \n",
        "\n",
        "train_length = 354324\n",
        "test_length = 472432\n",
        "\n",
        "train_features, y_train = X.iloc[:train_length], y.iloc[:train_length]\n",
        "valid_features, y_valid = X.iloc[train_length:test_length], y.iloc[train_length:test_length]\n",
        "\n",
        "train_features, y_train = train_features.reset_index(drop=True), y_train.reset_index(drop=True)\n",
        "valid_features, y_valid = valid_features.reset_index(drop=True), y_valid.reset_index(drop=True)\n",
        "    \n",
        "# Fit model twice to avoid overfitting\n",
        "for i in range(2): \n",
        "  \n",
        "      # Train using early stopping\n",
        "      model.fit(train_features, y_train, early_stopping_rounds=100, eval_set = [(valid_features, y_valid)], eval_metric = 'auc', verbose = 200)\n",
        "    \n",
        "     # Record the feature importances\n",
        "      feature_importances += model.feature_importances_"
      ],
      "execution_count": null,
      "outputs": [
        {
          "output_type": "stream",
          "text": [
            "[0]\tvalidation_0-auc:0.754577\n",
            "Will train until validation_0-auc hasn't improved in 100 rounds.\n",
            "[200]\tvalidation_0-auc:0.898937\n",
            "[239]\tvalidation_0-auc:0.900946\n",
            "[0]\tvalidation_0-auc:0.754577\n",
            "Will train until validation_0-auc hasn't improved in 100 rounds.\n",
            "[200]\tvalidation_0-auc:0.898937\n",
            "[239]\tvalidation_0-auc:0.900946\n"
          ],
          "name": "stdout"
        }
      ]
    },
    {
      "cell_type": "code",
      "metadata": {
        "id": "mosVdXzwAwqa"
      },
      "source": [
        "# Feature importance\n",
        "feature_importances = feature_importances / 2\n",
        "feature_importances = pd.DataFrame({'feature': list(X.columns), 'importance': feature_importances}).sort_values('importance', ascending = False)"
      ],
      "execution_count": null,
      "outputs": []
    },
    {
      "cell_type": "code",
      "metadata": {
        "colab": {
          "base_uri": "https://localhost:8080/",
          "height": 221
        },
        "id": "IQ0_lXZpAyhp",
        "outputId": "9ae33b70-f5de-45a6-acef-2686baba60b7"
      },
      "source": [
        "# Find the features with zero importance\n",
        "zero_features = list(feature_importances[feature_importances['importance'] == 0.0]['feature'])\n",
        "print('There are %d features with 0.0 importance' % len(zero_features))\n",
        "feature_importances.tail()"
      ],
      "execution_count": null,
      "outputs": [
        {
          "output_type": "stream",
          "text": [
            "There are 359 features with 0.0 importance\n"
          ],
          "name": "stdout"
        },
        {
          "output_type": "execute_result",
          "data": {
            "text/html": [
              "<div>\n",
              "<style scoped>\n",
              "    .dataframe tbody tr th:only-of-type {\n",
              "        vertical-align: middle;\n",
              "    }\n",
              "\n",
              "    .dataframe tbody tr th {\n",
              "        vertical-align: top;\n",
              "    }\n",
              "\n",
              "    .dataframe thead th {\n",
              "        text-align: right;\n",
              "    }\n",
              "</style>\n",
              "<table border=\"1\" class=\"dataframe\">\n",
              "  <thead>\n",
              "    <tr style=\"text-align: right;\">\n",
              "      <th></th>\n",
              "      <th>feature</th>\n",
              "      <th>importance</th>\n",
              "    </tr>\n",
              "  </thead>\n",
              "  <tbody>\n",
              "    <tr>\n",
              "      <th>420</th>\n",
              "      <td>D7 / C7</td>\n",
              "      <td>0.0</td>\n",
              "    </tr>\n",
              "    <tr>\n",
              "      <th>419</th>\n",
              "      <td>D7 / C6</td>\n",
              "      <td>0.0</td>\n",
              "    </tr>\n",
              "    <tr>\n",
              "      <th>418</th>\n",
              "      <td>D7 / C4</td>\n",
              "      <td>0.0</td>\n",
              "    </tr>\n",
              "    <tr>\n",
              "      <th>417</th>\n",
              "      <td>D7 / C14</td>\n",
              "      <td>0.0</td>\n",
              "    </tr>\n",
              "    <tr>\n",
              "      <th>753</th>\n",
              "      <td>COUNT(amount_table WHERE Transaction_table.id_...</td>\n",
              "      <td>0.0</td>\n",
              "    </tr>\n",
              "  </tbody>\n",
              "</table>\n",
              "</div>"
            ],
            "text/plain": [
              "                                               feature  importance\n",
              "420                                            D7 / C7         0.0\n",
              "419                                            D7 / C6         0.0\n",
              "418                                            D7 / C4         0.0\n",
              "417                                           D7 / C14         0.0\n",
              "753  COUNT(amount_table WHERE Transaction_table.id_...         0.0"
            ]
          },
          "metadata": {
            "tags": []
          },
          "execution_count": 53
        }
      ]
    },
    {
      "cell_type": "code",
      "metadata": {
        "id": "CyNN88NEA7DC",
        "colab": {
          "base_uri": "https://localhost:8080/",
          "height": 852
        },
        "outputId": "6b3a1b96-4694-4e1b-8b06-c874b0726691"
      },
      "source": [
        "# Plot features to keep\n",
        "norm_feature_importances = plot_feature_importances(feature_importances)"
      ],
      "execution_count": null,
      "outputs": [
        {
          "output_type": "display_data",
          "data": {
            "image/png": "[encoded data removed]",
            "text/plain": [
              "<Figure size 720x432 with 1 Axes>"
            ]
          },
          "metadata": {
            "tags": [],
            "needs_background": "light"
          }
        },
        {
          "output_type": "display_data",
          "data": {
            "image/png": "[encoded data removed]",
            "text/plain": [
              "<Figure size 576x432 with 1 Axes>"
            ]
          },
          "metadata": {
            "tags": [],
            "needs_background": "light"
          }
        },
        {
          "output_type": "stream",
          "text": [
            "237 features required for 0.90 of cumulative importance\n"
          ],
          "name": "stdout"
        }
      ]
    },
    {
      "cell_type": "code",
      "metadata": {
        "id": "3Iv3B6yKA7g8"
      },
      "source": [
        "# Drop all zero important features\n",
        "train_X = train_X.drop(columns = zero_features)\n",
        "test_X = test_X.drop(columns = zero_features)\n",
        "\n",
        "print('Training shape: ', train_X.shape)\n",
        "print('Testing shape: ', test_X.shape)"
      ],
      "execution_count": null,
      "outputs": []
    },
    {
      "cell_type": "code",
      "metadata": {
        "id": "SDAY6Sk--_an"
      },
      "source": [
        "# Run the second important calculation to only keep the variabels wich explain 98% for the variation\n",
        "second_round_zero_features, feature_importances = identify_zero_importance_features(train_X, train_y)"
      ],
      "execution_count": null,
      "outputs": []
    },
    {
      "cell_type": "code",
      "metadata": {
        "id": "ejt9TNSp_AA9"
      },
      "source": [
        "# Plot the features to keep\n",
        "norm_feature_importances = plot_feature_importances(feature_importances, threshold = 0.98"
      ],
      "execution_count": null,
      "outputs": []
    },
    {
      "cell_type": "code",
      "metadata": {
        "id": "02nckzlG_Hfs"
      },
      "source": [
        "# Threshold for cumulative importance\n",
        "threshold = 0.98\n",
        "\n",
        "# Extract the features to keep\n",
        "features_to_keep = list(norm_feature_importances[norm_feature_importances['cumulative_importance'] < threshold]['feature'])\n",
        "\n",
        "# Create new datasets with smaller features\n",
        "train_X = train_X[features_to_keep]\n",
        "test_X = test_X[features_to_keep]"
      ],
      "execution_count": null,
      "outputs": []
    },
    {
      "cell_type": "code",
      "metadata": {
        "id": "F8aznaKN4LVm"
      },
      "source": [
        "# Reduce memory\n",
        "memory_reducer(train_X)\n",
        "memory_reducer(test_X)"
      ],
      "execution_count": null,
      "outputs": []
    },
    {
      "cell_type": "markdown",
      "metadata": {
        "id": "3c6vuVzuoloX"
      },
      "source": [
        "### 3 Model\n"
      ]
    },
    {
      "cell_type": "markdown",
      "metadata": {
        "id": "iXLmZ41A3OsP"
      },
      "source": [
        "#### ** PICKEL **"
      ]
    },
    {
      "cell_type": "code",
      "metadata": {
        "id": "9X3yIkSfKOXW"
      },
      "source": [
        "# CLEAN DATA FOR MODELLING\n",
        "train_X = pd.read_pickle('/content/drive/MyDrive/Thesis/dataset/train_X_ftool.pkl')\n",
        "test_X = pd.read_pickle('/content/drive/MyDrive/Thesis/dataset/test_X_ftool.pkl')\n",
        "train_y = pd.read_pickle('/content/drive/MyDrive/Thesis/dataset/train_y_ftool.pkl')\n",
        "test_y = pd.read_pickle('/content/drive/MyDrive/Thesis/dataset/test_y_ftool.pkl')"
      ],
      "execution_count": null,
      "outputs": []
    },
    {
      "cell_type": "code",
      "metadata": {
        "colab": {
          "base_uri": "https://localhost:8080/"
        },
        "id": "SdZQwRgpkeHr",
        "outputId": "524aa4d0-a5aa-4a19-da8c-6e4cb6abc816"
      },
      "source": [
        "memory_reducer(train_X)\n",
        "memory_reducer(test_X)"
      ],
      "execution_count": null,
      "outputs": [
        {
          "output_type": "stream",
          "text": [
            "Mem. usage decreased to 292.86 Mb (6.3% reduction)\n",
            "Mem. usage decreased to 72.09 Mb (6.4% reduction)\n"
          ],
          "name": "stdout"
        }
      ]
    },
    {
      "cell_type": "markdown",
      "metadata": {
        "id": "P7O3p1o1cIRX"
      },
      "source": [
        "#### 3.1 SMOTE"
      ]
    },
    {
      "cell_type": "code",
      "metadata": {
        "colab": {
          "base_uri": "https://localhost:8080/"
        },
        "id": "vt6wrLuwbuSB",
        "outputId": "7fadd8ba-0c9b-4df9-c751-6b26792d6546"
      },
      "source": [
        "from imblearn.over_sampling import SMOTE\n",
        "\n",
        "print(\"Before OverSampling, counts of label '1': {}\".format(sum(train_y==1)))\n",
        "print(\"Before OverSampling, counts of label '0': {} \\n\".format(sum(train_y==0)))\n",
        "\n",
        "sm = SMOTE(random_state=42, sampling_strategy = 1)\n",
        "X_train_new, y_train_new = sm.fit_sample(train_X, train_y)\n",
        "\n",
        "X = pd.DataFrame(X_train_new)\n",
        "X.columns = train_X.columns\n",
        "y = pd.DataFrame(y_train_new)\n",
        "\n",
        "print('After OverSampling, the shape of X_train_new: {}'.format(X.shape))\n",
        "print('After OverSampling, the shape of y_train_new: {} \\n'.format(y.shape))"
      ],
      "execution_count": null,
      "outputs": [
        {
          "output_type": "stream",
          "text": [
            "Before OverSampling, counts of label '1': 16600\n",
            "Before OverSampling, counts of label '0': 455832 \n",
            "\n",
            "After OverSampling, the shape of X_train_new: (911664, 306)\n",
            "After OverSampling, the shape of y_train_new: (911664, 1) \n",
            "\n"
          ],
          "name": "stdout"
        }
      ]
    },
    {
      "cell_type": "code",
      "metadata": {
        "colab": {
          "base_uri": "https://localhost:8080/",
          "height": 299
        },
        "id": "5N_9GFW935Na",
        "outputId": "6aa28146-d4ee-4b0f-994b-0ee8cde052ae"
      },
      "source": [
        "# Check class after SMOTE\n",
        "x=y.value_counts().values\n",
        "sns.barplot([0,1],x)\n",
        "plt.title('Target variable count')"
      ],
      "execution_count": null,
      "outputs": [
        {
          "output_type": "execute_result",
          "data": {
            "text/plain": [
              "Text(0.5, 1.0, 'Target variable count')"
            ]
          },
          "metadata": {
            "tags": []
          },
          "execution_count": 10
        },
        {
          "output_type": "display_data",
          "data": {
            "image/png": "[encoded data removed]",
            "text/plain": [
              "<Figure size 432x288 with 1 Axes>"
            ]
          },
          "metadata": {
            "tags": [],
            "needs_background": "light"
          }
        }
      ]
    },
    {
      "cell_type": "markdown",
      "metadata": {
        "id": "MbTY2fM77mHI"
      },
      "source": [
        "#### 3.2 XGB"
      ]
    },
    {
      "cell_type": "code",
      "metadata": {
        "id": "-TraTQ7cilx0"
      },
      "source": [
        "# Tuned most important parameters for XGB based on baseline dataset\n",
        "best_params = {\n",
        " 'n_estimators': 350,\n",
        " 'colsample_bytree': 0.5776,\n",
        " 'gamma': 0.1284,\n",
        " 'learning_rate': 0.159,\n",
        " 'max_depth': 17,\n",
        " 'min_child_weight': 0.9205}"
      ],
      "execution_count": null,
      "outputs": []
    },
    {
      "cell_type": "code",
      "metadata": {
        "id": "LMXewDXxHRKh"
      },
      "source": [
        "# XGB with Early stopping\n",
        "\n",
        "xgb = XGBClassifier(**best_params, tree_method='gpu_hist', reg_alpha=0.5)\n",
        "\n",
        "evaluation_set = [(test_X, test_y)]\n",
        "\n",
        "xgb.fit(X, y, early_stopping_rounds=200, eval_metric=\"auc\", eval_set=evaluation_set, verbose=100)\n",
        "\n",
        "# Predict on test data\n",
        "y_pred = xgb.predict(test_X)\n",
        "\n",
        "# Confusion matrix\n",
        "from sklearn.metrics import confusion_matrix\n",
        "cm = confusion_matrix(test_y, y_pred)\n",
        "\n",
        "# visualize confusion matrix with seaborn heatmap\n",
        "\n",
        "cm_matrix = pd.DataFrame(data=cm, columns=['Actual Positive:1', 'Actual Negative:0'], \n",
        "                                 index=['Predict Positive:1', 'Predict Negative:0'])\n",
        "\n",
        "sns.heatmap(cm_matrix, annot=True, fmt='d', cmap='Blues').set(title='Confusion Matrix')"
      ],
      "execution_count": null,
      "outputs": []
    },
    {
      "cell_type": "code",
      "metadata": {
        "colab": {
          "base_uri": "https://localhost:8080/"
        },
        "id": "2RwpbhxoUaIt",
        "outputId": "1a468cbe-1332-40f8-d692-a7c120d33a73"
      },
      "source": [
        "# Matthews Correlation Coefficient\n",
        "from sklearn.metrics import matthews_corrcoef\n",
        "matthews_corrcoef(test_y, y_pred) "
      ],
      "execution_count": null,
      "outputs": [
        {
          "output_type": "execute_result",
          "data": {
            "text/plain": [
              "0.5650742289709588"
            ]
          },
          "metadata": {
            "tags": []
          },
          "execution_count": 12
        }
      ]
    },
    {
      "cell_type": "code",
      "metadata": {
        "colab": {
          "base_uri": "https://localhost:8080/"
        },
        "id": "_lHaSOgkK7YG",
        "outputId": "0c62448a-26fd-42d2-a3ee-cd27f0e08a96"
      },
      "source": [
        "# Change in FP and TP comared to baseline\n",
        "DeltaFP = (374 - 2387)\n",
        "DeltaTP = (1647 - 1842)\n",
        "print(\"Delta change in FP:\", DeltaFP)\n",
        "print(\"Delta change in TP:\", DeltaTP)"
      ],
      "execution_count": null,
      "outputs": [
        {
          "output_type": "stream",
          "text": [
            "Delta change in FP: -2013\n",
            "Delta change in TP: -195\n"
          ],
          "name": "stdout"
        }
      ]
    },
    {
      "cell_type": "code",
      "metadata": {
        "colab": {
          "base_uri": "https://localhost:8080/"
        },
        "id": "2tdLb3FNXmgg",
        "outputId": "3c9a560b-118a-45c3-fe92-769dc5d13a7a"
      },
      "source": [
        "FPR = (374/(113669+374))*100\n",
        "TPR = (1647/(2416+1647))*100\n",
        "print('True positive rate:', TPR),\n",
        "print('False positive rate:', FPR)"
      ],
      "execution_count": null,
      "outputs": [
        {
          "output_type": "stream",
          "text": [
            "True positive rate: 40.536549347772585\n",
            "False positive rate: 0.32794647632910395\n"
          ],
          "name": "stdout"
        }
      ]
    },
    {
      "cell_type": "code",
      "metadata": {
        "id": "4Uri3oqbHQKF"
      },
      "source": [
        "# create the predicted class\n",
        "y_pred = xgb.fit(X, y).predict_proba(test_X)[:,1]"
      ],
      "execution_count": null,
      "outputs": []
    },
    {
      "cell_type": "code",
      "metadata": {
        "id": "W6jO7pJdGMn0",
        "colab": {
          "base_uri": "https://localhost:8080/",
          "height": 295
        },
        "outputId": "5572c86f-77ff-4a05-d3ae-42c0c071f7dc"
      },
      "source": [
        "# Build roc curve\n",
        "buildROC(test_y, y_pred)"
      ],
      "execution_count": null,
      "outputs": [
        {
          "output_type": "display_data",
          "data": {
            "image/png": "[encoded data removed]",
            "text/plain": [
              "<Figure size 432x288 with 1 Axes>"
            ]
          },
          "metadata": {
            "tags": [],
            "needs_background": "light"
          }
        }
      ]
    },
    {
      "cell_type": "markdown",
      "metadata": {
        "id": "QpJe_e5Uwum6"
      },
      "source": [
        "##### Features importance"
      ]
    },
    {
      "cell_type": "code",
      "metadata": {
        "id": "tHQXJlN6MiqP"
      },
      "source": [
        "# Weight importance\n",
        "feature_importance = xgb.get_booster().get_score(importance_type= \"weight\")\n",
        "feature_importance_weight = pd.DataFrame(list(feature_importance.items()))\n",
        "feature_importance_weight.columns = ['Feature', 'Importance']"
      ],
      "execution_count": null,
      "outputs": []
    },
    {
      "cell_type": "code",
      "metadata": {
        "id": "iAAs0rV8Lqmw"
      },
      "source": [
        "import seaborn as sns\n",
        "from matplotlib import pyplot as plt\n",
        "def display_importances(feature_importance_df_):\n",
        "    cols = feature_importance_df_[[\"Feature\", \"Importance\"]].groupby(\"Feature\").mean().sort_values(by=\"Importance\", ascending=False)[:10].index\n",
        "    best_features = feature_importance_df_[[\"Feature\", \"Importance\"]].groupby(\"Feature\").mean().sort_values(by=\"Importance\", ascending=False)[:10]\n",
        "    best_features.reset_index(inplace=True)\n",
        "    print(best_features.dtypes)\n",
        "    plt.figure(figsize=(9, 5))\n",
        "    sns.barplot(x=\"Importance\", y=\"Feature\", data=best_features)\n",
        "    plt.title('XGBoost top 10 features')\n",
        "    plt.tight_layout()"
      ],
      "execution_count": null,
      "outputs": []
    },
    {
      "cell_type": "code",
      "metadata": {
        "colab": {
          "base_uri": "https://localhost:8080/",
          "height": 421
        },
        "id": "-8bNTderO0C4",
        "outputId": "08e1eae5-7dd6-4fae-f2c7-242edf459275"
      },
      "source": [
        "display_importances(feature_importance_weight)"
      ],
      "execution_count": null,
      "outputs": [
        {
          "output_type": "stream",
          "text": [
            "Feature       object\n",
            "Importance     int64\n",
            "dtype: object\n"
          ],
          "name": "stdout"
        },
        {
          "output_type": "display_data",
          "data": {
            "image/png": "[encoded data removed]",
            "text/plain": [
              "<Figure size 648x360 with 1 Axes>"
            ]
          },
          "metadata": {
            "tags": [],
            "needs_background": "light"
          }
        }
      ]
    },
    {
      "cell_type": "markdown",
      "metadata": {
        "id": "e6qfrhyaoVoq"
      },
      "source": [
        "#### 3.3 Additional comparison calculations"
      ]
    },
    {
      "cell_type": "markdown",
      "metadata": {
        "id": "WLOP2BIIOmPm"
      },
      "source": [
        "##### Comparison ROC Curve"
      ]
    },
    {
      "cell_type": "code",
      "metadata": {
        "id": "lnm8bvv5oEZV"
      },
      "source": [
        "# CLEAN DATA FOR MODELLING (FTOOL)\n",
        "train_X = pd.read_pickle('/content/drive/MyDrive/Thesis/dataset/train_X_ftool.pkl')\n",
        "test_X = pd.read_pickle('/content/drive/MyDrive/Thesis/dataset/test_X_ftool.pkl')\n",
        "train_y = pd.read_pickle('/content/drive/MyDrive/Thesis/dataset/train_y_ftool.pkl')\n",
        "test_y = pd.read_pickle('/content/drive/MyDrive/Thesis/dataset/test_y_ftool.pkl')"
      ],
      "execution_count": null,
      "outputs": []
    },
    {
      "cell_type": "code",
      "metadata": {
        "id": "fPP3ZLRhoKvX"
      },
      "source": [
        "# CLEAN DATA FOR MODELING (BASELINE)\n",
        "train_X = pd.read_pickle('/content/drive/MyDrive/Thesis/P/X_train_baseline.pkl')\n",
        "test_X = pd.read_pickle('/content/drive/MyDrive/Thesis/P/X_test_baseline.pkl')\n",
        "train_y = pd.read_pickle('/content/drive/MyDrive/Thesis/P/y_train_baseline.pkl')\n",
        "test_y = pd.read_pickle('/content/drive/MyDrive/Thesis/P/y_test_baseline.pkl')"
      ],
      "execution_count": null,
      "outputs": []
    },
    {
      "cell_type": "code",
      "metadata": {
        "id": "KqRZRUHJoG7O"
      },
      "source": [
        "# CLEAN DATA FOR MODELING (MANUAL)\n",
        "train_X = pd.read_pickle('/content/drive/MyDrive/Thesis/dataset/train_X_manual.pkl')\n",
        "test_X = pd.read_pickle('/content/drive/MyDrive/Thesis/dataset/test_X_manual.pkl')\n",
        "train_y = pd.read_pickle('/content/drive/MyDrive/Thesis/dataset/train_y_manual.pkl')\n",
        "test_y = pd.read_pickle('/content/drive/MyDrive/Thesis/dataset/test_y_manual.pkl')"
      ],
      "execution_count": null,
      "outputs": []
    },
    {
      "cell_type": "code",
      "metadata": {
        "colab": {
          "base_uri": "https://localhost:8080/"
        },
        "id": "RRCDC_c8RtfS",
        "outputId": "0c5a5acd-1a09-429d-c797-d2cf3dd2aaef"
      },
      "source": [
        "from imblearn.over_sampling import SMOTE\n",
        "\n",
        "print(\"Before OverSampling, counts of label '1': {}\".format(sum(train_y==1)))\n",
        "print(\"Before OverSampling, counts of label '0': {} \\n\".format(sum(train_y==0)))\n",
        "\n",
        "sm = SMOTE(random_state=42, sampling_strategy = 1)\n",
        "X_train_new, y_train_new = sm.fit_sample(train_X, train_y)\n",
        "\n",
        "X = pd.DataFrame(X_train_new)\n",
        "X.columns = train_X.columns\n",
        "y = pd.DataFrame(y_train_new)\n",
        "\n",
        "print('After OverSampling, the shape of X_train_new: {}'.format(X.shape))\n",
        "print('After OverSampling, the shape of y_train_new: {} \\n'.format(y.shape))"
      ],
      "execution_count": null,
      "outputs": [
        {
          "output_type": "stream",
          "text": [
            "Before OverSampling, counts of label '1': 16600\n",
            "Before OverSampling, counts of label '0': 455832 \n",
            "\n",
            "After OverSampling, the shape of X_train_new: (911664, 124)\n",
            "After OverSampling, the shape of y_train_new: (911664, 1) \n",
            "\n"
          ],
          "name": "stdout"
        }
      ]
    },
    {
      "cell_type": "code",
      "metadata": {
        "id": "GeqaScQvQp28"
      },
      "source": [
        "# Baseline\n",
        "\n",
        "\n",
        "y_pred_prob3 = xgb.predict_proba(test_X)[:,1]\n",
        "fpr3 , tpr3, thresholds3 = roc_curve(test_y, y_pred_prob3)"
      ],
      "execution_count": null,
      "outputs": []
    },
    {
      "cell_type": "code",
      "metadata": {
        "id": "6_Rq6HWnQpr0"
      },
      "source": [
        "# Manual\n",
        "\n",
        "y_pred_prob2 = xgb.predict_proba(test_X)[:,1]\n",
        "fpr2 , tpr2, thresholds2 = roc_curve(test_y, y_pred_prob2)"
      ],
      "execution_count": null,
      "outputs": []
    },
    {
      "cell_type": "code",
      "metadata": {
        "id": "GK0gQq9zQpai"
      },
      "source": [
        "# Feature tool\n",
        "\n",
        "y_pred_prob1 = xgb.predict_proba(test_X)[:,1]\n",
        "fpr1 , tpr1, thresholds1 = roc_curve(test_y, y_pred_prob1)"
      ],
      "execution_count": null,
      "outputs": []
    },
    {
      "cell_type": "code",
      "metadata": {
        "id": "mZRix11OZzRq",
        "colab": {
          "base_uri": "https://localhost:8080/",
          "height": 295
        },
        "outputId": "377c5e4a-8b50-426f-f9d2-e2491336efb2"
      },
      "source": [
        "#ROC Curve COMPARISON\n",
        "from sklearn.metrics import roc_curve\n",
        "\n",
        "plt.plot([0,1],[0,1], 'k--')\n",
        "plt.plot(fpr1, tpr1, label= \"Automated Feature Engineering\")\n",
        "plt.plot(fpr2, tpr2, label= \"Manual Feature Engineering\")\n",
        "plt.plot(fpr3, tpr3, label= \"Baseline\")\n",
        "plt.legend()\n",
        "plt.xlabel(\"FPR\")\n",
        "plt.ylabel(\"TPR\")\n",
        "plt.title('Receiver Operating Characteristic')\n",
        "plt.show()"
      ],
      "execution_count": null,
      "outputs": [
        {
          "output_type": "display_data",
          "data": {
            "image/png": "[encoded data removed]",
            "text/plain": [
              "<Figure size 432x288 with 1 Axes>"
            ]
          },
          "metadata": {
            "tags": [],
            "needs_background": "light"
          }
        }
      ]
    }
  ]
}