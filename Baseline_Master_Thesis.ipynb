{
  "nbformat": 4,
  "nbformat_minor": 0,
  "metadata": {
    "celltoolbar": "Edit Metadata",
    "colab": {
      "name": "Baseline Dataset - Master Thesis",
      "provenance": [],
      "collapsed_sections": [
        "PgotgEBf1g1W",
        "Hl2x00lbKQxy",
        "M8rwi-vrFndn"
      ],
      "toc_visible": true,
      "machine_shape": "hm",
      "include_colab_link": true
    },
    "kernelspec": {
      "display_name": "Python 3",
      "language": "python",
      "name": "python3"
    },
    "language_info": {
      "codemirror_mode": {
        "name": "ipython",
        "version": 3
      },
      "file_extension": ".py",
      "mimetype": "text/x-python",
      "name": "python",
      "nbconvert_exporter": "python",
      "pygments_lexer": "ipython3",
      "version": "3.7.6"
    },
    "accelerator": "GPU"
  },
  "cells": [
    {
      "cell_type": "markdown",
      "metadata": {
        "id": "view-in-github",
        "colab_type": "text"
      },
      "source": [
        "<a href=\"https://colab.research.google.com/github/AdrianKopperud/automatedfeatureengineering/blob/main/Baseline_Master_Thesis.ipynb\" target=\"_parent\"><img src=\"https://colab.research.google.com/assets/colab-badge.svg\" alt=\"Open In Colab\"/></a>"
      ]
    },
    {
      "cell_type": "code",
      "metadata": {
        "id": "TShXPzqr1Fhe"
      },
      "source": [
        "!pip install -U pandas-profiling\n",
        "#!pip install bayesian-optimization"
      ],
      "execution_count": null,
      "outputs": []
    },
    {
      "cell_type": "markdown",
      "metadata": {
        "id": "PgotgEBf1g1W"
      },
      "source": [
        "### Import functions"
      ]
    },
    {
      "cell_type": "code",
      "metadata": {
        "id": "q_6k5fIhFndT"
      },
      "source": [
        "# Import\n",
        "from sklearn import preprocessing\n",
        "import pandas as pd\n",
        "import numpy as np\n",
        "import gc\n",
        "import re\n",
        "import os\n",
        "import matplotlib.pyplot as plt\n",
        "from sklearn.ensemble import RandomForestClassifier\n",
        "import seaborn as sns\n",
        "import datetime as dt\n",
        "from sklearn.model_selection import TimeSeriesSplit\n",
        "from sklearn.metrics import make_scorer\n",
        "from sklearn.metrics import accuracy_score\n",
        "from sklearn.metrics import roc_auc_score\n",
        "from sklearn.metrics import precision_score\n",
        "from sklearn.metrics import recall_score\n",
        "from sklearn.metrics import f1_score\n",
        "from imblearn.over_sampling import SMOTE\n",
        "from sklearn.preprocessing import StandardScaler\n",
        "from imblearn.over_sampling import SMOTE, ADASYN\n",
        "from sklearn.decomposition import PCA\n",
        "from sklearn.preprocessing import MinMaxScaler\n",
        "from sklearn.preprocessing import LabelEncoder\n",
        "from sklearn.preprocessing import OneHotEncoder\n",
        "from sklearn.model_selection import KFold, StratifiedKFold\n",
        "from sklearn.metrics import roc_auc_score, make_scorer\n",
        "from sklearn.tree import DecisionTreeClassifier\n",
        "import xgboost as xgb\n",
        "from sklearn.metrics import accuracy_score\n",
        "from xgboost import XGBClassifier\n",
        "from collections import Counter\n",
        "from sklearn.metrics import classification_report, confusion_matrix\n",
        "from sklearn.datasets import make_classification\n",
        "from sklearn.linear_model import LogisticRegression\n",
        "from sklearn.model_selection import train_test_split\n",
        "from sklearn.metrics import roc_curve\n",
        "from matplotlib import pyplot\n",
        "from google.colab import drive\n",
        "import warnings\n",
        "warnings.filterwarnings('ignore')\n",
        "pd.set_option('display.max_columns', 3000)\n",
        "pd.set_option('display.max_rows', 3000)"
      ],
      "execution_count": null,
      "outputs": []
    },
    {
      "cell_type": "code",
      "metadata": {
        "id": "v_fZ0Re-FndU"
      },
      "source": [
        "\n",
        "\n",
        "# Function to calculate Precision and Recall\n",
        "\n",
        "def calc_precision_recall(y_true, y_pred):\n",
        "    \n",
        "    # Convert predictions to series with index matching y_true\n",
        "    y_pred = pd.Series(y_pred, index=y_true.index)\n",
        "    \n",
        "    # Instantiate counters\n",
        "    TP = 0\n",
        "    FP = 0\n",
        "    FN = 0\n",
        "\n",
        "    # Determine whether each prediction is TP, FP, TN, or FN\n",
        "    for i in y_true.index: \n",
        "        if y_true[i]==y_pred[i]==1:\n",
        "           TP += 1\n",
        "        if y_pred[i]==1 and y_true[i]!=y_pred[i]:\n",
        "           FP += 1\n",
        "        if y_pred[i]==0 and test_y[i]!=y_pred[i]:\n",
        "           FN += 1\n",
        "    \n",
        "    # Calculate true positive rate and false positive rate\n",
        "    # Use try-except statements to avoid problem of dividing by 0\n",
        "    try:\n",
        "        precision = TP / (TP + FP)\n",
        "    except:\n",
        "        precision = 1\n",
        "    \n",
        "    try:\n",
        "        recall = TP / (TP + FN)\n",
        "    except:\n",
        "        recall = 1\n",
        "\n",
        "    return precision, recall\n",
        "\n",
        "def plot_confusion_matrix(cm,\n",
        "                          target_names,\n",
        "                          title='Confusion matrix',\n",
        "                          cmap=None,\n",
        "                          normalize=True):\n",
        "    \"\"\"\n",
        "    given a sklearn confusion matrix (cm), make a nice plot\n",
        "\n",
        "    Arguments\n",
        "    ---------\n",
        "    cm:           confusion matrix from sklearn.metrics.confusion_matrix\n",
        "\n",
        "    target_names: given classification classes such as [0, 1, 2]\n",
        "                  the class names, for example: ['high', 'medium', 'low']\n",
        "\n",
        "    title:        the text to display at the top of the matrix\n",
        "\n",
        "    cmap:         the gradient of the values displayed from matplotlib.pyplot.cm\n",
        "                  see http://matplotlib.org/examples/color/colormaps_reference.html\n",
        "                  plt.get_cmap('jet') or plt.cm.Blues\n",
        "\n",
        "    normalize:    If False, plot the raw numbers\n",
        "                  If True, plot the proportions\n",
        "\n",
        "    Usage\n",
        "    -----\n",
        "    plot_confusion_matrix(cm           = cm,                  # confusion matrix created by\n",
        "                                                              # sklearn.metrics.confusion_matrix\n",
        "                          normalize    = True,                # show proportions\n",
        "                          target_names = y_labels_vals,       # list of names of the classes\n",
        "                          title        = best_estimator_name) # title of graph\n",
        "\n",
        "    Citiation\n",
        "    ---------\n",
        "    http://scikit-learn.org/stable/auto_examples/model_selection/plot_confusion_matrix.html\n",
        "\n",
        "    \"\"\"\n",
        "    import matplotlib.pyplot as plt\n",
        "    import numpy as np\n",
        "    import itertools\n",
        "\n",
        "    accuracy = np.trace(cm) / float(np.sum(cm))\n",
        "    misclass = 1 - accuracy\n",
        "\n",
        "    if cmap is None:\n",
        "        cmap = plt.get_cmap('Blues')\n",
        "\n",
        "    plt.figure(figsize=(8, 6))\n",
        "    plt.imshow(cm, interpolation='nearest', cmap=cmap)\n",
        "    plt.title(title)\n",
        "    plt.colorbar()\n",
        "\n",
        "    if target_names is not None:\n",
        "        tick_marks = np.arange(len(target_names))\n",
        "        plt.xticks(tick_marks, target_names, rotation=45)\n",
        "        plt.yticks(tick_marks, target_names)\n",
        "\n",
        "    if normalize:\n",
        "        cm = cm.astype('float') / cm.sum(axis=1)[:, np.newaxis]\n",
        "\n",
        "\n",
        "    thresh = cm.max() / 1.5 if normalize else cm.max() / 2\n",
        "    for i, j in itertools.product(range(cm.shape[0]), range(cm.shape[1])):\n",
        "        if normalize:\n",
        "            plt.text(j, i, \"{:0.4f}\".format(cm[i, j]),\n",
        "                     horizontalalignment=\"center\",\n",
        "                     color=\"white\" if cm[i, j] > thresh else \"black\")\n",
        "        else:\n",
        "            plt.text(j, i, \"{:,}\".format(cm[i, j]),\n",
        "                     horizontalalignment=\"center\",\n",
        "                     color=\"white\" if cm[i, j] > thresh else \"black\")\n",
        "\n",
        "\n",
        "    plt.tight_layout()\n",
        "    plt.ylabel('True label')\n",
        "    plt.xlabel('Predicted label\\naccuracy={:0.4f}; misclass={:0.4f}'.format(accuracy, misclass))\n",
        "    plt.show()\n",
        "\n",
        "\n",
        "from sklearn import metrics\n",
        "def buildROC(target_test,test_preds):\n",
        "    fpr, tpr, threshold = metrics.roc_curve(target_test, test_preds)\n",
        "    roc_auc = metrics.auc(fpr, tpr)\n",
        "    plt.title('Receiver Operating Characteristic')\n",
        "    plt.plot(fpr, tpr, 'b', label = 'AUC = %0.2f' % roc_auc)\n",
        "    plt.legend(loc = 'lower right')\n",
        "    plt.plot([0, 1], [0, 1],'r--')\n",
        "    plt.ylabel('True Positive Rate')\n",
        "    plt.xlabel('False Positive Rate')\n",
        "    plt.gcf().savefig('roc.png')\n",
        "\n",
        "\n",
        "def identify_zero_importance_features(train, train_labels, iterations = 2):\n",
        "    \"\"\"\n",
        "    Identify zero importance features in a training dataset based on the \n",
        "    feature importances from a gradient boosting model. \n",
        "    \n",
        "    Parameters\n",
        "    --------\n",
        "    train : dataframe\n",
        "        Training features\n",
        "        \n",
        "    train_labels : np.array\n",
        "        Labels for training data\n",
        "        \n",
        "    iterations : integer, default = 2\n",
        "        Number of cross validation splits to use for determining feature importances\n",
        "    \"\"\"\n",
        "    \n",
        "    # Initialize an empty array to hold feature importances\n",
        "    feature_importances = np.zeros(train.shape[1])\n",
        "\n",
        "    # Create the model with several hyperparameters\n",
        "    model = xgb.XGBClassifier(num_boost_round=100, n_estimators = 240, tree_method='gpu_hist', )\n",
        "    \n",
        "    # Fit the model multiple times to avoid overfitting\n",
        "    for i in range(iterations):\n",
        "\n",
        "        # Split into training and validation set\n",
        "        train_features, valid_features, train_y, valid_y = train_test_split(train, train_labels, test_size = 0.25, random_state = i)\n",
        "\n",
        "        # Train using early stopping\n",
        "        model.fit(train_features, train_y, early_stopping_rounds=100, eval_set = [(valid_features, valid_y)], \n",
        "                  eval_metric = 'auc', verbose = 200)\n",
        "\n",
        "        # Record the feature importances\n",
        "        feature_importances += model.feature_importances_ / iterations\n",
        "    \n",
        "    feature_importances = pd.DataFrame({'feature': list(train.columns), 'importance': feature_importances}).sort_values('importance', ascending = False)\n",
        "    \n",
        "    # Find the features with zero importance\n",
        "    zero_features = list(feature_importances[feature_importances['importance'] == 0.0]['feature'])\n",
        "    print('\\nThere are %d features with 0.0 importance' % len(zero_features))\n",
        "    \n",
        "    return zero_features, feature_importances\n",
        "\n",
        "def plot_feature_importances(df, threshold = 0.9):\n",
        "    \"\"\"\n",
        "    Plots 15 most important features and the cumulative importance of features.\n",
        "    Prints the number of features needed to reach threshold cumulative importance.\n",
        "    \n",
        "    Parameters\n",
        "    --------\n",
        "    df : dataframe\n",
        "        Dataframe of feature importances. Columns must be feature and importance\n",
        "    threshold : float, default = 0.9\n",
        "        Threshold for prining information about cumulative importances\n",
        "        \n",
        "    Return\n",
        "    --------\n",
        "    df : dataframe\n",
        "        Dataframe ordered by feature importances with a normalized column (sums to 1)\n",
        "        and a cumulative importance column\n",
        "    \n",
        "    \"\"\"\n",
        "    \n",
        "    plt.rcParams['font.size'] = 18\n",
        "    \n",
        "    # Sort features according to importance\n",
        "    df = df.sort_values('importance', ascending = False).reset_index()\n",
        "    \n",
        "    # Normalize the feature importances to add up to one\n",
        "    df['importance_normalized'] = df['importance'] / df['importance'].sum()\n",
        "    df['cumulative_importance'] = np.cumsum(df['importance_normalized'])\n",
        "\n",
        "    # Make a horizontal bar chart of feature importances\n",
        "    plt.figure(figsize = (10, 6))\n",
        "    ax = plt.subplot()\n",
        "    \n",
        "    # Need to reverse the index to plot most important on top\n",
        "    ax.barh(list(reversed(list(df.index[:15]))), \n",
        "            df['importance_normalized'].head(15), \n",
        "            align = 'center', edgecolor = 'k')\n",
        "    \n",
        "    # Set the yticks and labels\n",
        "    ax.set_yticks(list(reversed(list(df.index[:15]))))\n",
        "    ax.set_yticklabels(df['feature'].head(15))\n",
        "    \n",
        "    # Plot labeling\n",
        "    plt.xlabel('Normalized Importance'); plt.title('Feature Importances')\n",
        "    plt.show()\n",
        "    \n",
        "    # Cumulative importance plot\n",
        "    plt.figure(figsize = (8, 6))\n",
        "    plt.plot(list(range(len(df))), df['cumulative_importance'], 'r-')\n",
        "    plt.xlabel('Number of Features'); plt.ylabel('Cumulative Importance'); \n",
        "    plt.title('Cumulative Feature Importance');\n",
        "    plt.show();\n",
        "    \n",
        "    importance_index = np.min(np.where(df['cumulative_importance'] > threshold))\n",
        "    print('%d features required for %0.2f of cumulative importance' % (importance_index + 1, threshold))\n",
        "    \n",
        "    return df\n",
        "\n",
        "\n",
        "def check_missing(df):\n",
        "    null_val = df.isnull().sum()\n",
        "    percent = 100 * df.isnull().sum()/len(df)\n",
        "    missing_table = pd.concat([null_val, percent], axis=1)\n",
        "    col = missing_table.rename(columns = {0 : 'Num', 1 : 'Rate'})\n",
        "    return col\n",
        "\n",
        "def plot_missing_pct(df, features, feature_name):\n",
        "    '''this function draw bar plot of missing value percentage '''\n",
        "    plt.figure(figsize=(16,6))\n",
        "    ax = plt.subplot(111)\n",
        "    \n",
        "    ax.bar(features, df[features].isnull().mean())\n",
        "    ax.set_ylim(0,1)\n",
        "    ax.set_xlabel(feature_name)\n",
        "    ax.set_ylabel('% missing data')\n",
        "    \n",
        "    ax.xaxis.set_tick_params(width=0)\n",
        "    ax.yaxis.set_tick_params(width=2, length=12)\n",
        "    \n",
        "    plt.title('Percentage of missing values of {}'.format(feature_name))\n",
        "    plt.show()\n",
        "\n",
        "def correlation_heatmap(train):\n",
        "    correlations = train.corr()\n",
        "\n",
        "    fig, ax = plt.subplots(figsize=(24,24))\n",
        "    sns.heatmap(correlations, vmax=1.0, center=0, fmt='.2f',\n",
        "                square=True, linewidths=.5, annot=True, cbar_kws={\"shrink\": .70})\n",
        "    plt.show();\n",
        "\n",
        "## Function to reduce the DF size\n",
        "def memory_reducer(df, verbose=True):\n",
        "    numerics = ['int16', 'int32', 'int64', 'float16', 'float32', 'float64']\n",
        "    start_mem = df.memory_usage().sum() / 1024**2    \n",
        "    for col in df.columns:\n",
        "        col_type = df[col].dtypes\n",
        "        if col_type in numerics:\n",
        "            c_min = df[col].min()\n",
        "            c_max = df[col].max()\n",
        "            if str(col_type)[:3] == 'int':\n",
        "                if c_min > np.iinfo(np.int8).min and c_max < np.iinfo(np.int8).max:\n",
        "                    df[col] = df[col].astype(np.int8)\n",
        "                elif c_min > np.iinfo(np.int16).min and c_max < np.iinfo(np.int16).max:\n",
        "                    df[col] = df[col].astype(np.int16)\n",
        "                elif c_min > np.iinfo(np.int32).min and c_max < np.iinfo(np.int32).max:\n",
        "                    df[col] = df[col].astype(np.int32)\n",
        "                elif c_min > np.iinfo(np.int64).min and c_max < np.iinfo(np.int64).max:\n",
        "                    df[col] = df[col].astype(np.int64)  \n",
        "            else:\n",
        "                if c_min > np.finfo(np.float16).min and c_max < np.finfo(np.float16).max:\n",
        "                    df[col] = df[col].astype(np.float16)\n",
        "                elif c_min > np.finfo(np.float32).min and c_max < np.finfo(np.float32).max:\n",
        "                    df[col] = df[col].astype(np.float32)\n",
        "                else:\n",
        "                    df[col] = df[col].astype(np.float64)    \n",
        "    end_mem = df.memory_usage().sum() / 1024**2\n",
        "    if verbose: print('Mem. usage decreased to {:5.2f} Mb ({:.1f}% reduction)'.format(end_mem, 100 * (start_mem - end_mem) / start_mem))\n",
        "    \n",
        "def conf_matrix(y_test, y_predicted):\n",
        "  cm = confusion_matrix(y_test, y_predicted)\n",
        "  plt.figure(figsize=(15,10))\n",
        "  plt.clf()\n",
        "  plt.imshow(cm, interpolation='nearest', cmap=plt.cm.Wistia)\n",
        "  classNames = ['Negative','Positive']\n",
        "  plt.title('Confusion Matrix')\n",
        "  plt.ylabel('True label')\n",
        "  plt.xlabel('Predicted label')\n",
        "  tick_marks = np.arange(len(classNames))\n",
        "  plt.xticks(tick_marks, classNames, rotation=45)\n",
        "  plt.yticks(tick_marks, classNames)\n",
        "  s = [['TN','FP'], ['FN', 'TP']]\n",
        "  \n",
        "  for i in range(2):\n",
        "      for j in range(2):\n",
        "          plt.text(j,i, str(s[i][j])+\" = \"+str(cm[i][j]))\n",
        "  plt.show()"
      ],
      "execution_count": null,
      "outputs": []
    },
    {
      "cell_type": "markdown",
      "metadata": {
        "id": "Hl2x00lbKQxy"
      },
      "source": [
        "### 1 Data"
      ]
    },
    {
      "cell_type": "code",
      "metadata": {
        "colab": {
          "base_uri": "https://localhost:8080/"
        },
        "id": "eIdaXn1cl2fl",
        "outputId": "4468bd37-f025-49bf-9c0d-403786ffc7a0"
      },
      "source": [
        "from google.colab import drive\n",
        "drive.mount('/content/drive')"
      ],
      "execution_count": null,
      "outputs": [
        {
          "output_type": "stream",
          "text": [
            "Mounted at /content/drive\n"
          ],
          "name": "stdout"
        }
      ]
    },
    {
      "cell_type": "code",
      "metadata": {
        "id": "UiS7lZXaFndg"
      },
      "source": [
        "# Import Data\n",
        "id = pd.read_csv(\"/content/drive/MyDrive/Thesis/Data/ID.csv\")\n",
        "tran = pd.read_csv(\"/content/drive/MyDrive/Thesis/Data/Transaction.csv\")\n",
        "\n",
        "# Remove vesta features V_xxxx\n",
        "tran = tran.loc[:,~tran.columns.str.startswith('V')]\n",
        "\n",
        "# Merge the classes \n",
        "df = pd.merge(tran, id, how=\"outer\", on=[\"TransactionID\"])\n",
        "\n",
        "del tran\n",
        "del id"
      ],
      "execution_count": null,
      "outputs": []
    },
    {
      "cell_type": "markdown",
      "metadata": {
        "id": "ryVpUr44Fndh"
      },
      "source": [
        "### 2 Pre-processing"
      ]
    },
    {
      "cell_type": "markdown",
      "metadata": {
        "id": "CFZbXJCOFndi"
      },
      "source": [
        "Create categories for each e-mail provider and cluster e-mail within the company provider. As such we could reduce the number of categories from 60 to a few. __Furthermore did I split up the .com, .us and so on into suffix, not sure if that may be future engineering since the data in the categorical variable are split into two different new variables.__"
      ]
    },
    {
      "cell_type": "markdown",
      "metadata": {
        "id": "02pFvFf5lzY2"
      },
      "source": [
        "#### 2.1 Catagorical features"
      ]
    },
    {
      "cell_type": "markdown",
      "metadata": {
        "id": "-iMrJqM8lzY3"
      },
      "source": [
        "##### 2.1.1 P_emaildomain and R_emaildomain"
      ]
    },
    {
      "cell_type": "code",
      "metadata": {
        "id": "S-goEYExlzY3"
      },
      "source": [
        "# fill naemail features: P_emaildomain, R_emaildomain\n",
        "# email features: P_emaildomain, R_emaildomain\n",
        "# email map\n",
        "emails = {'gmail': 'google', 'att.net': 'att', 'twc.com': 'spectrum', \n",
        "          'scranton.edu': 'other', 'optonline.net': 'other', 'hotmail.co.uk': 'microsoft',\n",
        "          'comcast.net': 'other', 'yahoo.com.mx': 'yahoo', 'yahoo.fr': 'yahoo',\n",
        "          'yahoo.es': 'yahoo', 'charter.net': 'spectrum', 'live.com': 'microsoft', \n",
        "          'aim.com': 'aol', 'hotmail.de': 'microsoft', 'centurylink.net': 'centurylink',\n",
        "          'gmail.com': 'google', 'me.com': 'apple', 'earthlink.net': 'other', 'gmx.de': 'other',\n",
        "          'web.de': 'other', 'cfl.rr.com': 'other', 'hotmail.com': 'microsoft', \n",
        "          'protonmail.com': 'other', 'hotmail.fr': 'microsoft', 'windstream.net': 'other', \n",
        "          'outlook.es': 'microsoft', 'yahoo.co.jp': 'yahoo', 'yahoo.de': 'yahoo',\n",
        "          'servicios-ta.com': 'other', 'netzero.net': 'other', 'suddenlink.net': 'other',\n",
        "          'roadrunner.com': 'other', 'sc.rr.com': 'other', 'live.fr': 'microsoft',\n",
        "          'verizon.net': 'yahoo', 'msn.com': 'microsoft', 'q.com': 'centurylink', \n",
        "          'prodigy.net.mx': 'att', 'frontier.com': 'yahoo', 'anonymous.com': 'other', \n",
        "          'rocketmail.com': 'yahoo', 'sbcglobal.net': 'att', 'frontiernet.net': 'yahoo', \n",
        "          'ymail.com': 'yahoo', 'outlook.com': 'microsoft', 'mail.com': 'other', \n",
        "          'bellsouth.net': 'other', 'embarqmail.com': 'centurylink', 'cableone.net': 'other', \n",
        "          'hotmail.es': 'microsoft', 'mac.com': 'apple', 'yahoo.co.uk': 'yahoo', 'netzero.com': 'other', \n",
        "          'yahoo.com': 'yahoo', 'live.com.mx': 'microsoft', 'ptd.net': 'other', 'cox.net': 'other',\n",
        "          'aol.com': 'aol', 'juno.com': 'other', 'icloud.com': 'apple'}\n",
        "\n",
        "us_emails = ['gmail', 'net', 'edu']\n",
        "\n",
        "# fill na\n",
        "df.loc[:, ['P_emaildomain', 'R_emaildomain']] = df[['P_emaildomain', 'R_emaildomain']].fillna('None')\n",
        "\n",
        "# clean email domains\n",
        "df = df.assign(P_emaildomain_bin = df['P_emaildomain'].map(emails),\n",
        "          P_emaildomain_suffix = df['P_emaildomain'].map(lambda x: str(x).split('.')[-1]).map(lambda x: 'us' if str(x) in us_emails else x),\n",
        "          R_emaildomain_bin = df['R_emaildomain'].map(emails),\n",
        "          R_emaildomain_suffix = df['R_emaildomain'].map(lambda x: str(x).split('.')[-1]).map(lambda x: 'us' if str(x) in us_emails else x),\n",
        "        )\n",
        "\n",
        "df.loc[:, ['P_emaildomain_bin', 'R_emaildomain_bin']] = df[['P_emaildomain_bin', 'R_emaildomain_bin']].fillna('None')\n",
        "\n",
        "\n",
        "df.drop(['P_emaildomain', 'R_emaildomain'], axis=1, inplace=True)"
      ],
      "execution_count": null,
      "outputs": []
    },
    {
      "cell_type": "markdown",
      "metadata": {
        "id": "e9YyoL15lzY4"
      },
      "source": [
        "##### 2.1.2 Device features, DeviceInfo and DeviceType"
      ]
    },
    {
      "cell_type": "markdown",
      "metadata": {
        "id": "9eKmFlOFlzY4"
      },
      "source": [
        "For DeviceType, DeviceInfo and other id_xx variables with device info regarding screen size, phone producer and browser, did I cluster the different brands of same name into one brand. This reduces the number of categories. Furthermore, was the NAN observations filled with None. "
      ]
    },
    {
      "cell_type": "code",
      "metadata": {
        "id": "zQxXxkTclzY5"
      },
      "source": [
        "# deveice features: DeviceInfo, DeviceType\n",
        "# device map\n",
        "devices = {'SM': 'Samsung', 'SAMSUNG': 'Samsung', 'GT-': 'Samsung', 'Moto G': 'Motorola',\n",
        "           'Moto': 'Motorola', 'moto': 'Motorola', 'LG-': 'LG', 'VS\\d{3}': 'LG', 'LG\\w{2}\\d{3}': 'LG', 'rv': 'RV', 'HUAWEI': 'Huawei',\n",
        "           'ALE-':'Huawei', '-L':'Huawei', 'hi6210sft': 'Huawei', 'CHC-U03': 'Huawei', 'Blade': 'ZTE', 'Z\\d{3}': 'ZTE', 'BLADE': 'ZTE', 'ZTE':'ZTE', \n",
        "           'Linux': 'Linux', 'XT': 'Sony', 'F\\d{4}': 'Sony', 'E\\d{4}': 'Sony', 'G\\d{4}': 'Sony', 'HTC': 'HTC', 'ASUS': 'Asus',\n",
        "           'Pixel': 'Pixel', 'Lenovo': 'Lenovo', 'Windows': 'Windows', 'Redmi': 'Redmi', 'Ilium': 'Ilium', 'ILIUM': 'Ilium',\n",
        "           'Hisense': 'Hisense', 'KF': 'Amazon', 'Android': 'Android', '\\d{4}A': 'Alcatel', '\\d{4}W': 'Alcatel', '\\d{4}M': 'Alcatel', \n",
        "           'Alcatel': 'Alcatel', 'ALCATEL':'Alcatel', '\\d{4}G': 'Mozilla', 'M4': 'M4', 'TA-': 'Nokia', 'NOKIA': 'Nokia', 'Nexus':'Nexus', 'BLU':'BLU'}\n",
        "\n",
        "# devices_list = df.loc[:,'device_name'].value_counts().where(lambda x : x>80).dropna().index.values\n",
        "\n",
        "devices_list = ['None', 'Windows', 'iOS Device', 'MacOS', 'Samsung', 'Trident', 'RV',\n",
        "               'Motorola', 'LG', 'Huawei', 'Sony', 'ZTE', 'HTC', 'Alcatel', 'Lenovo',\n",
        "               'Ilium', 'Pixel', 'Hisense', 'Amazon', 'Mozilla', 'M4', 'Redmi',\n",
        "               'Nokia', 'Linux', 'Nexus', 'Android']\n",
        "\n",
        "# clean device name\n",
        "df.loc[:,'DeviceName'] = df['DeviceInfo'].str.split('/').str[0].fillna('None')\n",
        "for k,v in devices.items():\n",
        "    df.loc[df['DeviceName'].str.contains(k, na=False), 'DeviceName'] = v\n",
        "df.loc[~df['DeviceName'].isin(devices_list), 'DeviceName'] = 'Others'\n",
        "\n",
        "# remove DeviceInfo\n",
        "df.drop(['DeviceInfo'], axis=1, inplace=True)\n",
        "\n",
        "# DeviceType - fillna\n",
        "df.loc[:,'DeviceType'] = df['DeviceType'].fillna('None')"
      ],
      "execution_count": null,
      "outputs": []
    },
    {
      "cell_type": "markdown",
      "metadata": {
        "id": "NlfjUS-ylzY5"
      },
      "source": [
        "##### 2.1.3 Other categorical features, address and card"
      ]
    },
    {
      "cell_type": "markdown",
      "metadata": {
        "id": "AmFTPtLZlzY5"
      },
      "source": [
        "Further I converted address and card variables from float to categorical/object as they were specified by VESTA in (https://www.kaggle.com/c/ieee-fraud-detection/discussion/101203) to be categorical. Hence, should not be treated as numerical values as they have another meaning. Further was NAN values filled with NONE to remove the missing values and use a common new category for all missing values to keep the pattern in the data. "
      ]
    },
    {
      "cell_type": "code",
      "metadata": {
        "id": "-LGZpon6A7au"
      },
      "source": [
        "# other categorical features (address, card, M features)\n",
        "addr_features = df.columns[df.columns.str.contains('addr')].values.tolist()\n",
        "card_features = df.columns[df.columns.str.contains('card')].values.tolist()\n",
        "m_features = df.columns[df.columns.str.contains('M\\d+')].values.tolist()\n",
        "\n",
        "# int to float\n",
        "features_to_int = df[addr_features+card_features].dtypes.where(lambda x: x == 'float64').dropna().index\n",
        "df.loc[:, features_to_int] = df.loc[:, features_to_int].astype('Int64')\n",
        "\n",
        "# int to str\n",
        "df.loc[:, addr_features+card_features] = df.loc[:, addr_features+card_features].astype(str)\n",
        "\n",
        "# fill na\n",
        "df.loc[:, addr_features+card_features+m_features] = df[addr_features+card_features+m_features].fillna('None')\n",
        "\n",
        "# clean card type\n",
        "df['card6'] = df['card6'].map(lambda x: 'None' if x not in ['debit', 'credit', 'None'] else x)"
      ],
      "execution_count": null,
      "outputs": []
    },
    {
      "cell_type": "markdown",
      "metadata": {
        "id": "xkdU8Gj5lzY6"
      },
      "source": [
        "##### 2.1.4 ID_features"
      ]
    },
    {
      "cell_type": "markdown",
      "metadata": {
        "id": "sCihu2dWlzY6"
      },
      "source": [
        "Clean the categorical ID_xx variables that goes from ID_12 until ID_38 + \"DeviceInfo\" and \"DeviceType\". We convert the categorical ID_xx from float to object/category as the numbers in the variables which are categorical (specified by VESTA) do not have the same numeric meaning as true numeric float variables.__Furthermore, do we split the id_01 - id_11 into its own category which we will treat accordingly in the numerical cleaning part for id_xx features!__"
      ]
    },
    {
      "cell_type": "code",
      "metadata": {
        "id": "BqRg-MWllzY7"
      },
      "source": [
        "id_features = df.columns[df.columns.str.contains('id_\\d+')]\n",
        "cat_id_features = ['id_'+str(x).zfill(2) for x in range(12, 38+1)]\n",
        "num_id_features = ['id_'+str(x).zfill(2) for x in range(1, 12)]"
      ],
      "execution_count": null,
      "outputs": []
    },
    {
      "cell_type": "code",
      "metadata": {
        "id": "IkpzP3UdFndm"
      },
      "source": [
        "# missing value check\n",
        "num_check_df = pd.DataFrame({'Missing Percentage': np.round(df[num_id_features].isnull().mean()*100), \n",
        "              'Zero Percentage': np.round((df[num_id_features]==0).mean()*100),\n",
        "              'Total Percentage': np.round((df[num_id_features].isnull()|(df[num_id_features]==0)).mean()*100)})\\\n",
        "            .sort_values('Total Percentage', ascending=False)\n",
        "    \n",
        "cat_check_df = pd.DataFrame({'Missing Percentage': np.round(df[cat_id_features].isnull().mean()*100),\n",
        "                             'Nunique': df[cat_id_features].nunique()})\\\n",
        "            .sort_values('Missing Percentage', ascending=False)\n",
        "    \n",
        "# drop missing + zero values >= 99%\n",
        "num_id_features_todrop = num_check_df[num_check_df['Total Percentage'] >= 99].index.values.tolist()\n",
        "num_id_features_tokeep = num_check_df[num_check_df['Total Percentage'] < 99].index.values.tolist()\n",
        "df.drop(num_id_features_todrop, axis=1, inplace=True)\n",
        "\n",
        "cat_id_features_todrop = cat_check_df[cat_check_df['Missing Percentage'] >= 99].index.values.tolist()\n",
        "cat_id_features_tokeep = cat_check_df[cat_check_df['Missing Percentage'] < 99].index.values.tolist()\n",
        "df.drop(cat_id_features_todrop, axis=1, inplace=True)"
      ],
      "execution_count": null,
      "outputs": []
    },
    {
      "cell_type": "code",
      "metadata": {
        "colab": {
          "base_uri": "https://localhost:8080/"
        },
        "id": "kABTA2-AFndn",
        "outputId": "f23bf05c-8558-43eb-d1ff-5ad8a358d6a6"
      },
      "source": [
        "# int to float\n",
        "cat_id_features_to_int = df[cat_id_features_tokeep].dtypes.where(lambda x: x == 'float64').dropna().index\n",
        "df.loc[:, cat_id_features_to_int] = df.loc[:, cat_id_features_to_int].astype('Int64')\n",
        "\n",
        "# int to str\n",
        "df.loc[:, cat_id_features_to_int] = df.loc[:, cat_id_features_to_int].astype(str)\n",
        "\n",
        "# fill na with None\n",
        "df[cat_id_features_tokeep] = df[cat_id_features_tokeep].fillna('None')\n",
        "\n",
        "# id - system\n",
        "df['sys_id_30'] = df['id_30'].str.split(' ').str[0]\n",
        "sys_list = ['Windows', 'iOS', 'Mac', 'Android', 'Linux', 'None']\n",
        "df['sys_id_30'] = np.where(df['sys_id_30'].isin(sys_list), df['sys_id_30'], 'None')\n",
        "\n",
        "# id - browser\n",
        "browsers = {'safari': 'safari', 'chrome': 'chrome', 'samsung': 'samsung', 'Samsung': 'samsung', 'edge': 'edge', \n",
        " 'firefox': 'firefox', 'ie':'ie', 'google':'google', 'other':'others', 'None':'None'}\n",
        "browsers_list = ['chrome','safari','ie','firefox','edge','samsung','None']\n",
        "for k,v in browsers.items():\n",
        "    df.loc[df['id_31'].str.contains(k, na=False), 'browser_id_31'] = v\n",
        "df.loc[~df['browser_id_31'].isin(browsers_list), 'browser_id_31'] = 'others'\n",
        "\n",
        "# id - screen\n",
        "df.loc[df['id_33']=='0x0', 'id_33'] = 'None'\n",
        "screen_height = df.loc[df['id_33']!='None', 'id_33'].str.split('x').str[1].astype(int)\n",
        "bins = [0, 900, 1500, np.inf]\n",
        "screen_height_cate = pd.cut(screen_height, bins, labels=['s', 'm', 'l'])\n",
        "screen_width = df.loc[df['id_33']!='None', 'id_33'].str.split('x').str[0].astype(int)\n",
        "bins = [0, 1200, 2000, np.inf]\n",
        "screen_width_cate = pd.cut(screen_width, bins, labels=['s', 'm', 'l'])\n",
        "\n",
        "screen = screen_width_cate.astype(str) + 'x' + screen_height_cate.astype(str)\n",
        "df.loc[df['id_33']!='None', 'screen_id_33'] = screen\n",
        "df.loc[df['id_33']=='None', 'screen_id_33'] = 'None'\n",
        "\n",
        "# drop id 30, 31, 33\n",
        "df.drop(['id_30','id_31','id_33'], axis=1, inplace=True)\n",
        "cat_id_features_tokeep.remove('id_30')\n",
        "cat_id_features_tokeep.remove('id_31')\n",
        "cat_id_features_tokeep.remove('id_33')\n",
        "\n",
        "# Append categorical to list\n",
        "cat_id_features_tokeep.extend(['sys_id_30', 'browser_id_31', 'screen_id_33'])\n",
        "\n",
        "gc.collect()"
      ],
      "execution_count": null,
      "outputs": [
        {
          "output_type": "execute_result",
          "data": {
            "text/plain": [
              "20"
            ]
          },
          "metadata": {
            "tags": []
          },
          "execution_count": 11
        }
      ]
    },
    {
      "cell_type": "markdown",
      "metadata": {
        "id": "EwAHdwYw4RrP"
      },
      "source": [
        "##### 2.1.5 Label encoder"
      ]
    },
    {
      "cell_type": "code",
      "metadata": {
        "id": "rVvCUMIf4Rz2"
      },
      "source": [
        "# Label Encoding\n",
        "category = []\n",
        "for f in df.drop('isFraud', axis=1).columns:\n",
        "    if df[f].dtype=='object': \n",
        "        lbl = preprocessing.LabelEncoder()\n",
        "        category.append(f)\n",
        "        lbl.fit(list(df[f].values))\n",
        "        df[f] = lbl.transform(list(df[f].values))"
      ],
      "execution_count": null,
      "outputs": []
    },
    {
      "cell_type": "markdown",
      "metadata": {
        "id": "M8rwi-vrFndn"
      },
      "source": [
        "#### 2.2 Numerical features"
      ]
    },
    {
      "cell_type": "markdown",
      "metadata": {
        "id": "_2UyWwdnFndo"
      },
      "source": [
        "##### 2.2.1 Transaction features"
      ]
    },
    {
      "cell_type": "code",
      "metadata": {
        "colab": {
          "base_uri": "https://localhost:8080/"
        },
        "id": "UGO0cAlZFndo",
        "outputId": "187a817f-5e4e-48f8-b05f-557be51ace86"
      },
      "source": [
        "# Vizualize outliers thorugh boxplot\n",
        "print(df.boxplot('TransactionAmt'))"
      ],
      "execution_count": null,
      "outputs": [
        {
          "output_type": "stream",
          "text": [
            "AxesSubplot(0.125,0.125;0.775x0.755)\n"
          ],
          "name": "stdout"
        },
        {
          "output_type": "display_data",
          "data": {
            "image/png": "[encoded data removed]",
            "text/plain": [
              "<Figure size 432x288 with 1 Axes>"
            ]
          },
          "metadata": {
            "tags": [],
            "needs_background": "light"
          }
        }
      ]
    },
    {
      "cell_type": "code",
      "metadata": {
        "id": "MzDMjZhSFndq"
      },
      "source": [
        "df.drop(df.loc[df['TransactionAmt']>15000].index, inplace=True)"
      ],
      "execution_count": null,
      "outputs": []
    },
    {
      "cell_type": "markdown",
      "metadata": {
        "id": "CN_9rRZCFndq"
      },
      "source": [
        "##### 2.2.2 dist features"
      ]
    },
    {
      "cell_type": "code",
      "metadata": {
        "id": "sy7Fqg4gFndq"
      },
      "source": [
        "# Dist features\n",
        "pd.DataFrame(np.round(df[['dist1', 'dist2']].isnull().mean()*100), columns = ['Missing Percentage'])\n",
        "\n",
        "# drop dist 2\n",
        "df.drop(['dist2'], axis=1, inplace=True)"
      ],
      "execution_count": null,
      "outputs": []
    },
    {
      "cell_type": "markdown",
      "metadata": {
        "id": "uZt0-Au6aEFz"
      },
      "source": [
        "##### 2.2.3 Remove TransactionID\n",
        "\n"
      ]
    },
    {
      "cell_type": "code",
      "metadata": {
        "id": "UwE_imzpaFlR"
      },
      "source": [
        "df.drop(\"TransactionID\", axis=1, inplace=True)"
      ],
      "execution_count": null,
      "outputs": []
    },
    {
      "cell_type": "markdown",
      "metadata": {
        "id": "ffIGFJ1978Jd"
      },
      "source": [
        "##### 2.2.4 Impute numeric NAN"
      ]
    },
    {
      "cell_type": "code",
      "metadata": {
        "id": "mCnZ56XJ79dK"
      },
      "source": [
        "df = df.fillna(-999)"
      ],
      "execution_count": null,
      "outputs": []
    },
    {
      "cell_type": "markdown",
      "metadata": {
        "id": "8v5I3eErE7bb"
      },
      "source": [
        "#### 2.3 Split Train/Test & Validation\n",
        "\n",
        "\n",
        "\n"
      ]
    },
    {
      "cell_type": "code",
      "metadata": {
        "id": "jxs59bw7fZzE"
      },
      "source": [
        "# Isolate target variable\n",
        "y = df.pop('isFraud')\n",
        "X = df.copy(deep=True)"
      ],
      "execution_count": null,
      "outputs": []
    },
    {
      "cell_type": "code",
      "metadata": {
        "id": "8zacqnt6gdYv"
      },
      "source": [
        "# Test = 70%, Validation = 14%, Test = 16%\n",
        "# Split is done by 3 different time sequences. \n",
        "\n",
        "train_length = 472432\n",
        "test_length = 590540\n",
        "\n",
        "train_X, train_y = X.iloc[:train_length], y.iloc[:train_length]\n",
        "test_X, test_y = X.iloc[train_length:test_length], y.iloc[train_length:test_length]\n",
        "\n",
        "train_X, train_y = train_X.reset_index(drop=True), train_y.reset_index(drop=True)\n",
        "test_X, test_y = test_X.reset_index(drop=True), test_y.reset_index(drop=True)"
      ],
      "execution_count": null,
      "outputs": []
    },
    {
      "cell_type": "code",
      "metadata": {
        "colab": {
          "base_uri": "https://localhost:8080/"
        },
        "id": "uMIdgi7Dwdpq",
        "outputId": "3f2344c5-54af-45b2-c681-b8c3844db2b2"
      },
      "source": [
        "# Reduce memory\n",
        "memory_reducer(train_X)\n",
        "memory_reducer(test_X)"
      ],
      "execution_count": null,
      "outputs": [
        {
          "output_type": "stream",
          "text": [
            "Mem. usage decreased to 57.22 Mb (80.4% reduction)\n",
            "Mem. usage decreased to 14.30 Mb (80.4% reduction)\n"
          ],
          "name": "stdout"
        }
      ]
    },
    {
      "cell_type": "markdown",
      "metadata": {
        "id": "3c6vuVzuoloX"
      },
      "source": [
        "### 3 Model\n"
      ]
    },
    {
      "cell_type": "markdown",
      "metadata": {
        "id": "r216m5UvwJ_M"
      },
      "source": [
        "#### ** PICKEL **"
      ]
    },
    {
      "cell_type": "code",
      "metadata": {
        "id": "fqHEL2jUhE8S"
      },
      "source": [
        "# CLEAN DATA FOR MODELING\n",
        "train_X = pd.read_pickle('/content/drive/MyDrive/Thesis/P/X_train_baseline.pkl')\n",
        "test_X = pd.read_pickle('/content/drive/MyDrive/Thesis/P/X_test_baseline.pkl')\n",
        "train_y = pd.read_pickle('/content/drive/MyDrive/Thesis/P/y_train_baseline.pkl')\n",
        "test_y = pd.read_pickle('/content/drive/MyDrive/Thesis/P/y_test_baseline.pkl')"
      ],
      "execution_count": null,
      "outputs": []
    },
    {
      "cell_type": "markdown",
      "metadata": {
        "id": "kcFMYRwAhuRD"
      },
      "source": [
        "#### 3.1 Cross validation with AUC\n",
        "\n",
        "\n",
        "\n"
      ]
    },
    {
      "cell_type": "markdown",
      "metadata": {
        "id": "nhRKWSEYa6y4"
      },
      "source": [
        "##### XGBoost"
      ]
    },
    {
      "cell_type": "code",
      "metadata": {
        "colab": {
          "base_uri": "https://localhost:8080/",
          "height": 295
        },
        "id": "aEdT1BuKJDhA",
        "outputId": "c3f29347-1a32-4aee-e399-41d937016a1e"
      },
      "source": [
        "#XGB\n",
        "import matplotlib.pylab as plt\n",
        "from scipy import interp\n",
        "from sklearn.ensemble import RandomForestClassifier\n",
        "from sklearn.metrics import roc_curve,auc\n",
        "from sklearn.model_selection import StratifiedKFold\n",
        "import matplotlib.patches as patches\n",
        "import numpy as np # linear algebra\n",
        "import pandas as pd # data processing, CSV file I/O (e.g. pd.read_csv)\n",
        "\n",
        "x = train_X.copy()\n",
        "y = train_y.copy()\n",
        "\n",
        "random_state = np.random.RandomState(0)\n",
        "clf = XGBClassifier(tree_method='gpu_hist')\n",
        "cv = TimeSeriesSplit(n_splits=10)\n",
        "\n",
        "tprs = []\n",
        "aucs = []\n",
        "mean_fpr = np.linspace(0,1,100)\n",
        "i = 1\n",
        "for train,test in cv.split(x,y):\n",
        "    prediction = clf.fit(x.iloc[train],y.iloc[train]).predict_proba(x.iloc[test])\n",
        "    fpr, tpr, t = roc_curve(y[test], prediction[:, 1])\n",
        "    tprs.append(interp(mean_fpr, fpr, tpr))\n",
        "    roc_auc = auc(fpr, tpr)\n",
        "    aucs.append(roc_auc)\n",
        "    plt.plot(fpr, tpr, lw=2, alpha=0.3, label='ROC fold %d (AUC = %0.2f)' % (i, roc_auc))\n",
        "    i= i+1\n",
        "\n",
        "plt.plot([0,1],[0,1],linestyle = '--',lw = 2,color = 'black')\n",
        "mean_tpr = np.mean(tprs, axis=0)\n",
        "mean_auc = auc(mean_fpr, mean_tpr)\n",
        "plt.plot(mean_fpr, mean_tpr, color='blue',\n",
        "         label=r'Mean ROC (AUC = %0.2f )' % (mean_auc),lw=2, alpha=1)\n",
        "\n",
        "plt.xlabel('False Positive Rate')\n",
        "plt.ylabel('True Positive Rate')\n",
        "plt.title('ROC XGBoost')\n",
        "plt.legend(loc=\"lower right\")\n",
        "plt.show()"
      ],
      "execution_count": null,
      "outputs": [
        {
          "output_type": "display_data",
          "data": {
            "image/png": "[encoded data removed]",
            "text/plain": [
              "<Figure size 432x288 with 1 Axes>"
            ]
          },
          "metadata": {
            "tags": [],
            "needs_background": "light"
          }
        }
      ]
    },
    {
      "cell_type": "markdown",
      "metadata": {
        "id": "ybreY6W5vU8k"
      },
      "source": [
        "##### Random Forest"
      ]
    },
    {
      "cell_type": "code",
      "metadata": {
        "colab": {
          "base_uri": "https://localhost:8080/",
          "height": 295
        },
        "id": "QA9EEcf1F8G4",
        "outputId": "de598c8f-f5d8-4145-f915-d440201950a4"
      },
      "source": [
        "#Random Forest\n",
        "import matplotlib.pylab as plt\n",
        "from scipy import interp\n",
        "from sklearn.ensemble import RandomForestClassifier\n",
        "from sklearn.metrics import roc_curve,auc\n",
        "from sklearn.model_selection import StratifiedKFold\n",
        "import matplotlib.patches as patches\n",
        "import numpy as np # linear algebra\n",
        "import pandas as pd # data processing, CSV file I/O (e.g. pd.read_csv)\n",
        "\n",
        "x = train_X.copy()\n",
        "y = train_y.copy()\n",
        "\n",
        "random_state = np.random.RandomState(0)\n",
        "clf = RandomForestClassifier()\n",
        "cv = TimeSeriesSplit(n_splits=10)\n",
        "\n",
        "tprs = []\n",
        "aucs = []\n",
        "mean_fpr = np.linspace(0,1,100)\n",
        "i = 1\n",
        "for train,test in cv.split(x,y):\n",
        "    prediction = clf.fit(x.iloc[train],y.iloc[train]).predict_proba(x.iloc[test])\n",
        "    fpr, tpr, t = roc_curve(y[test], prediction[:, 1])\n",
        "    tprs.append(interp(mean_fpr, fpr, tpr))\n",
        "    roc_auc = auc(fpr, tpr)\n",
        "    aucs.append(roc_auc)\n",
        "    plt.plot(fpr, tpr, lw=2, alpha=0.3, label='ROC fold %d (AUC = %0.2f)' % (i, roc_auc))\n",
        "    i= i+1\n",
        "\n",
        "plt.plot([0,1],[0,1],linestyle = '--',lw = 2,color = 'black')\n",
        "mean_tpr = np.mean(tprs, axis=0)\n",
        "mean_auc = auc(mean_fpr, mean_tpr)\n",
        "plt.plot(mean_fpr, mean_tpr, color='blue',\n",
        "         label=r'Mean ROC (AUC = %0.2f )' % (mean_auc),lw=2, alpha=1)\n",
        "\n",
        "plt.xlabel('False Positive Rate')\n",
        "plt.ylabel('True Positive Rate')\n",
        "plt.title('ROC Random Forest')\n",
        "plt.legend(loc=\"lower right\")\n",
        "plt.show()"
      ],
      "execution_count": null,
      "outputs": [
        {
          "output_type": "display_data",
          "data": {
            "image/png": "[encoded data removed]",
            "text/plain": [
              "<Figure size 432x288 with 1 Axes>"
            ]
          },
          "metadata": {
            "tags": [],
            "needs_background": "light"
          }
        }
      ]
    },
    {
      "cell_type": "markdown",
      "metadata": {
        "id": "qWLERTnFvZ59"
      },
      "source": [
        "##### Logistic Regression"
      ]
    },
    {
      "cell_type": "code",
      "metadata": {
        "colab": {
          "base_uri": "https://localhost:8080/",
          "height": 295
        },
        "id": "NC8BA1TdGEzp",
        "outputId": "e814498e-be6a-49cb-b358-b912a1964760"
      },
      "source": [
        "#Logistic regression\n",
        "import matplotlib.pylab as plt\n",
        "from scipy import interp\n",
        "from sklearn.ensemble import RandomForestClassifier\n",
        "from sklearn.metrics import roc_curve,auc\n",
        "import lightgbm as lgb\n",
        "from sklearn.model_selection import StratifiedKFold\n",
        "from sklearn.linear_model import LogisticRegression\n",
        "import matplotlib.patches as patches\n",
        "import numpy as np # linear algebra\n",
        "import pandas as pd # data processing, CSV file I/O (e.g. pd.read_csv)\n",
        "\n",
        "x = train_X.copy()\n",
        "y = train_y.copy()\n",
        "\n",
        "random_state = np.random.RandomState(0)\n",
        "clf = LogisticRegression(max_iter=10000)\n",
        "cv = TimeSeriesSplit(n_splits=10)\n",
        "\n",
        "tprs = []\n",
        "aucs = []\n",
        "mean_fpr = np.linspace(0,1,100)\n",
        "i = 1\n",
        "for train,test in cv.split(x,y):\n",
        "    prediction = clf.fit(x.iloc[train],y.iloc[train]).predict_proba(x.iloc[test])\n",
        "    fpr, tpr, t = roc_curve(y[test], prediction[:, 1])\n",
        "    tprs.append(interp(mean_fpr, fpr, tpr))\n",
        "    roc_auc = auc(fpr, tpr)\n",
        "    aucs.append(roc_auc)\n",
        "    plt.plot(fpr, tpr, lw=2, alpha=0.3, label='ROC fold %d (AUC = %0.2f)' % (i, roc_auc))\n",
        "    i= i+1\n",
        "\n",
        "plt.plot([0,1],[0,1],linestyle = '--',lw = 2,color = 'black')\n",
        "mean_tpr = np.mean(tprs, axis=0)\n",
        "mean_auc = auc(mean_fpr, mean_tpr)\n",
        "plt.plot(mean_fpr, mean_tpr, color='blue',\n",
        "         label=r'Mean ROC (AUC = %0.2f )' % (mean_auc),lw=2, alpha=1)\n",
        "\n",
        "plt.xlabel('False Positive Rate')\n",
        "plt.ylabel('True Positive Rate')\n",
        "plt.title('ROC Logistic Regression')\n",
        "plt.legend(loc=\"lower right\")\n",
        "plt.show()"
      ],
      "execution_count": null,
      "outputs": [
        {
          "output_type": "display_data",
          "data": {
            "image/png": "[encoded data removed]",
            "text/plain": [
              "<Figure size 432x288 with 1 Axes>"
            ]
          },
          "metadata": {
            "tags": [],
            "needs_background": "light"
          }
        }
      ]
    },
    {
      "cell_type": "markdown",
      "metadata": {
        "id": "L4XVmhXFvhC1"
      },
      "source": [
        "##### Naive Bayes"
      ]
    },
    {
      "cell_type": "code",
      "metadata": {
        "colab": {
          "base_uri": "https://localhost:8080/",
          "height": 295
        },
        "id": "zJWYr7yj2rfy",
        "outputId": "b939ec13-ccbb-4d0e-a51f-e43c2ba668ba"
      },
      "source": [
        "# Naive Bayes\n",
        "import matplotlib.pylab as plt\n",
        "from scipy import interp\n",
        "from sklearn.metrics import roc_curve,auc\n",
        "from sklearn.svm import LinearSVC\n",
        "from sklearn.naive_bayes import GaussianNB\n",
        "import matplotlib.patches as patches\n",
        "import numpy as np # linear algebra\n",
        "import pandas as pd # data processing, CSV file I/O (e.g. pd.read_csv)\n",
        "\n",
        "x = train_X.copy()\n",
        "y = train_y.copy()\n",
        "\n",
        "random_state = np.random.RandomState(0)\n",
        "clf = GaussianNB()\n",
        "cv = TimeSeriesSplit(n_splits=10)\n",
        "\n",
        "tprs = []\n",
        "aucs = []\n",
        "mean_fpr = np.linspace(0,1,100)\n",
        "i = 1\n",
        "for train,test in cv.split(x,y):\n",
        "    prediction = clf.fit(x.iloc[train],y.iloc[train]).predict_proba(x.iloc[test])\n",
        "    fpr, tpr, t = roc_curve(y[test], prediction[:, 1])\n",
        "    tprs.append(interp(mean_fpr, fpr, tpr))\n",
        "    roc_auc = auc(fpr, tpr)\n",
        "    aucs.append(roc_auc)\n",
        "    plt.plot(fpr, tpr, lw=2, alpha=0.3, label='ROC fold %d (AUC = %0.2f)' % (i, roc_auc))\n",
        "    i= i+1\n",
        "\n",
        "plt.plot([0,1],[0,1],linestyle = '--',lw = 2,color = 'black')\n",
        "mean_tpr = np.mean(tprs, axis=0)\n",
        "mean_auc = auc(mean_fpr, mean_tpr)\n",
        "plt.plot(mean_fpr, mean_tpr, color='blue',\n",
        "         label=r'Mean ROC (AUC = %0.2f )' % (mean_auc),lw=2, alpha=1)\n",
        "\n",
        "plt.xlabel('False Positive Rate')\n",
        "plt.ylabel('True Positive Rate')\n",
        "plt.title('ROC Naive Bayes')\n",
        "plt.legend(loc=\"lower right\")\n",
        "plt.show()"
      ],
      "execution_count": null,
      "outputs": [
        {
          "output_type": "display_data",
          "data": {
            "image/png": "[encoded data removed]",
            "text/plain": [
              "<Figure size 432x288 with 1 Axes>"
            ]
          },
          "metadata": {
            "tags": [],
            "needs_background": "light"
          }
        }
      ]
    },
    {
      "cell_type": "markdown",
      "metadata": {
        "id": "Zb2tf8SwlpAk"
      },
      "source": [
        "#### 3.2 XGB Bayesian Optimization Tuning"
      ]
    },
    {
      "cell_type": "code",
      "metadata": {
        "id": "zkLcp_Ic33UY"
      },
      "source": [
        "import xgboost as xgb\n",
        "from bayes_opt import BayesianOptimization\n",
        "from sklearn.metrics import mean_squared_error\n",
        "dtrain = xgb.DMatrix(train_X, label=train_y)\n",
        "dtest = xgb.DMatrix(test_X)"
      ],
      "execution_count": null,
      "outputs": []
    },
    {
      "cell_type": "code",
      "metadata": {
        "id": "Pd4w5mvulum_"
      },
      "source": [
        "def xgb_evaluate(max_depth, n_estimators, learning_rate, min_child_weight, colsample_bytree):\n",
        "    params = {'eval_metric': 'rmse',\n",
        "              'max_depth': int(max_depth),\n",
        "              'n_estimators': int(n_estimators),\n",
        "              'learning_rate': learning_rate,\n",
        "              'min_child_weight': min_child_weight,\n",
        "              'colsample_bytree': colsample_bytree}\n",
        "    # Used around 1000 boosting rounds in the full model\n",
        "    cv_result = xgb.cv(params, dtrain, num_boost_round=100, nfold=5)    \n",
        "    \n",
        "    # Bayesian optimization only knows how to maximize, not minimize, so return the negative RMSE\n",
        "    return -1.0 * cv_result['test-rmse-mean'].iloc[-1]"
      ],
      "execution_count": null,
      "outputs": []
    },
    {
      "cell_type": "code",
      "metadata": {
        "colab": {
          "background_save": true,
          "base_uri": "https://localhost:8080/"
        },
        "id": "ubyKC938lutU",
        "outputId": "6fa86e0a-9add-455d-b88b-c80d89d3d496"
      },
      "source": [
        "xgb_bo = BayesianOptimization(xgb_evaluate, {'max_depth': (9, 19), \n",
        "                                             'n_estimators': (100, 350),\n",
        "                                             'learning_rate': (0.01, 0.3),\n",
        "                                             'min_child_weight': (0.1, 1),\n",
        "                                             'colsample_bytree': (0.3, 1)})\n",
        "# Use the expected improvement acquisition function to handle negative numbers\n",
        "# Optimally needs quite a few more initiation points and number of iterations\n",
        "xgb_bo.maximize(init_points=5, n_iter=25, acq='ei')"
      ],
      "execution_count": null,
      "outputs": [
        {
          "output_type": "stream",
          "text": [
            "|   iter    |  target   | colsam... | learni... | max_depth | min_ch... | n_esti... |\n",
            "-------------------------------------------------------------------------------------\n",
            "| \u001b[0m 1       \u001b[0m | \u001b[0m-0.1156  \u001b[0m | \u001b[0m 0.6687  \u001b[0m | \u001b[0m 0.262   \u001b[0m | \u001b[0m 16.73   \u001b[0m | \u001b[0m 0.8363  \u001b[0m | \u001b[0m 249.8   \u001b[0m |\n",
            "| \u001b[0m 2       \u001b[0m | \u001b[0m-0.1178  \u001b[0m | \u001b[0m 0.6667  \u001b[0m | \u001b[0m 0.2013  \u001b[0m | \u001b[0m 12.53   \u001b[0m | \u001b[0m 0.8386  \u001b[0m | \u001b[0m 179.3   \u001b[0m |\n",
            "| \u001b[0m 3       \u001b[0m | \u001b[0m-0.1198  \u001b[0m | \u001b[0m 0.9182  \u001b[0m | \u001b[0m 0.2234  \u001b[0m | \u001b[0m 11.55   \u001b[0m | \u001b[0m 0.5623  \u001b[0m | \u001b[0m 132.7   \u001b[0m |\n",
            "| \u001b[0m 4       \u001b[0m | \u001b[0m-0.1159  \u001b[0m | \u001b[0m 0.7858  \u001b[0m | \u001b[0m 0.2235  \u001b[0m | \u001b[0m 14.65   \u001b[0m | \u001b[0m 0.7094  \u001b[0m | \u001b[0m 181.2   \u001b[0m |\n",
            "| \u001b[0m 5       \u001b[0m | \u001b[0m-0.1174  \u001b[0m | \u001b[0m 0.6174  \u001b[0m | \u001b[0m 0.2886  \u001b[0m | \u001b[0m 13.23   \u001b[0m | \u001b[0m 0.7661  \u001b[0m | \u001b[0m 330.5   \u001b[0m |\n",
            "| \u001b[95m 6       \u001b[0m | \u001b[95m-0.1145  \u001b[0m | \u001b[95m 0.8128  \u001b[0m | \u001b[95m 0.19    \u001b[0m | \u001b[95m 17.98   \u001b[0m | \u001b[95m 0.7488  \u001b[0m | \u001b[95m 349.8   \u001b[0m |\n",
            "| \u001b[95m 7       \u001b[0m | \u001b[95m-0.1133  \u001b[0m | \u001b[95m 0.5776  \u001b[0m | \u001b[95m 0.159   \u001b[0m | \u001b[95m 17.27   \u001b[0m | \u001b[95m 0.9205  \u001b[0m | \u001b[95m 350.0   \u001b[0m |\n",
            "| \u001b[0m 8       \u001b[0m | \u001b[0m-0.1138  \u001b[0m | \u001b[0m 0.7731  \u001b[0m | \u001b[0m 0.1627  \u001b[0m | \u001b[0m 18.69   \u001b[0m | \u001b[0m 0.933   \u001b[0m | \u001b[0m 349.9   \u001b[0m |\n",
            "| \u001b[0m 9       \u001b[0m | \u001b[0m-0.125   \u001b[0m | \u001b[0m 0.5665  \u001b[0m | \u001b[0m 0.116   \u001b[0m | \u001b[0m 10.22   \u001b[0m | \u001b[0m 0.6803  \u001b[0m | \u001b[0m 349.8   \u001b[0m |\n",
            "| \u001b[0m 10      \u001b[0m | \u001b[0m-0.1176  \u001b[0m | \u001b[0m 0.7016  \u001b[0m | \u001b[0m 0.2946  \u001b[0m | \u001b[0m 18.99   \u001b[0m | \u001b[0m 0.9362  \u001b[0m | \u001b[0m 106.9   \u001b[0m |\n"
          ],
          "name": "stdout"
        }
      ]
    },
    {
      "cell_type": "markdown",
      "metadata": {
        "id": "f2gCMc6gxRvk"
      },
      "source": [
        "#### 3.3 SMOTE"
      ]
    },
    {
      "cell_type": "code",
      "metadata": {
        "colab": {
          "base_uri": "https://localhost:8080/"
        },
        "id": "kGqk985SxR3i",
        "outputId": "4c044e34-90d0-42fb-9544-2f66925a5810"
      },
      "source": [
        "from imblearn.over_sampling import SMOTE\n",
        "\n",
        "print(\"Before OverSampling, counts of label '1': {}\".format(sum(train_y==1)))\n",
        "print(\"Before OverSampling, counts of label '0': {} \\n\".format(sum(train_y==0)))\n",
        "\n",
        "sm = SMOTE(random_state=42, sampling_strategy = 1)\n",
        "X_train_new, y_train_new = sm.fit_sample(train_X, train_y)\n",
        "\n",
        "X = pd.DataFrame(X_train_new)\n",
        "X.columns = train_X.columns\n",
        "y = pd.DataFrame(y_train_new)\n",
        "\n",
        "print('After OverSampling, the shape of X_train_new: {}'.format(X.shape))\n",
        "print('After OverSampling, the shape of y_train_new: {} \\n'.format(y.shape))"
      ],
      "execution_count": null,
      "outputs": [
        {
          "output_type": "stream",
          "text": [
            "Before OverSampling, counts of label '1': 16600\n",
            "Before OverSampling, counts of label '0': 455832 \n",
            "\n",
            "After OverSampling, the shape of X_train_new: (911664, 81)\n",
            "After OverSampling, the shape of y_train_new: (911664, 1) \n",
            "\n"
          ],
          "name": "stdout"
        }
      ]
    },
    {
      "cell_type": "code",
      "metadata": {
        "id": "y5Urb9r2zri5"
      },
      "source": [
        "x=y.value_counts().values\n",
        "sns.barplot([0,1],x)\n",
        "plt.title('Target variable count')"
      ],
      "execution_count": null,
      "outputs": []
    },
    {
      "cell_type": "markdown",
      "metadata": {
        "id": "MbTY2fM77mHI"
      },
      "source": [
        "#### 3.4 XGB"
      ]
    },
    {
      "cell_type": "code",
      "metadata": {
        "id": "btx69GBHr4x_"
      },
      "source": [
        "# Tuned most important parameters for XGB based on baseline dataset\n",
        "best_params = {\n",
        " 'n_estimators': 350,\n",
        " 'colsample_bytree': 0.5776,\n",
        " 'gamma': 0.1284,\n",
        " 'learning_rate': 0.159,\n",
        " 'max_depth': 17,\n",
        " 'min_child_weight': 0.9205}"
      ],
      "execution_count": null,
      "outputs": []
    },
    {
      "cell_type": "code",
      "metadata": {
        "colab": {
          "base_uri": "https://localhost:8080/",
          "height": 431
        },
        "id": "2zup9yHH2MuD",
        "outputId": "b6e86556-f858-4a7b-f6c2-504b2c23c691"
      },
      "source": [
        "# XGB with Early stopping\n",
        "\n",
        "xgb = XGBClassifier(**best_params, tree_method='gpu_hist', \n",
        "                    reg_alpha=0.5\n",
        "                    )\n",
        "\n",
        "evaluation_set = [(test_X, test_y)]\n",
        "\n",
        "xgb.fit(X, y, early_stopping_rounds=200, eval_metric=\"auc\", eval_set=evaluation_set, verbose=100)\n",
        "\n",
        "# Predict on test data\n",
        "y_pred = xgb.predict(test_X)\n",
        "\n",
        "# Confusion matrix\n",
        "from sklearn.metrics import confusion_matrix\n",
        "cm = confusion_matrix(test_y, y_pred)\n",
        "\n",
        "# visualize confusion matrix with seaborn heatmap\n",
        "\n",
        "cm_matrix = pd.DataFrame(data=cm, columns=['Actual Negative:0','Actual Positive:1'], \n",
        "                                 index=['Predict Negative:0', 'Predict Positive:1'])\n",
        "\n",
        "sns.heatmap(cm_matrix, annot=True, fmt='d', cmap='Blues').set(title='Confusion Matrix')"
      ],
      "execution_count": null,
      "outputs": [
        {
          "output_type": "stream",
          "text": [
            "[0]\tvalidation_0-auc:0.759996\n",
            "Will train until validation_0-auc hasn't improved in 200 rounds.\n",
            "[100]\tvalidation_0-auc:0.861634\n",
            "[200]\tvalidation_0-auc:0.858479\n",
            "Stopping. Best iteration:\n",
            "[45]\tvalidation_0-auc:0.872449\n",
            "\n"
          ],
          "name": "stdout"
        },
        {
          "output_type": "execute_result",
          "data": {
            "text/plain": [
              "[Text(0.5, 1.0, 'Confusion Matrix')]"
            ]
          },
          "metadata": {
            "tags": []
          },
          "execution_count": 10
        },
        {
          "output_type": "display_data",
          "data": {
            "image/png": "[encoded data removed]",
            "text/plain": [
              "<Figure size 432x288 with 2 Axes>"
            ]
          },
          "metadata": {
            "tags": [],
            "needs_background": "light"
          }
        }
      ]
    },
    {
      "cell_type": "code",
      "metadata": {
        "colab": {
          "base_uri": "https://localhost:8080/"
        },
        "id": "DU180tuZ_DeP",
        "outputId": "afe19248-b197-44cf-9a57-8a760aeb57ef"
      },
      "source": [
        "# Matthews Correlation Coefficient\n",
        "from sklearn.metrics import matthews_corrcoef\n",
        "matthews_corrcoef(test_y, y_pred) \n"
      ],
      "execution_count": null,
      "outputs": [
        {
          "output_type": "execute_result",
          "data": {
            "text/plain": [
              "0.42896101518046875"
            ]
          },
          "metadata": {
            "tags": []
          },
          "execution_count": 8
        }
      ]
    },
    {
      "cell_type": "code",
      "metadata": {
        "colab": {
          "base_uri": "https://localhost:8080/"
        },
        "id": "vOMOCJsRbQ4e",
        "outputId": "9954fa65-e55b-4a1b-8a8c-77d83cbc6f9c"
      },
      "source": [
        "FPR = (2387/(111656+2387))*100\n",
        "TPR = (1847/(2221+1842))*100\n",
        "print('True positive rate:', TPR),\n",
        "print('False positive rate:', FPR)"
      ],
      "execution_count": null,
      "outputs": [
        {
          "output_type": "stream",
          "text": [
            "True positive rate: 45.45902042825498\n",
            "False positive rate: 2.0930701577475164\n"
          ],
          "name": "stdout"
        }
      ]
    },
    {
      "cell_type": "code",
      "metadata": {
        "id": "WtUHugA3HcW2"
      },
      "source": [
        "# Create the predicted class\n",
        "xgb = XGBClassifier(**best_params, tree_method='hist', reg_alpha=0.5)\n",
        "y_pred = xgb.fit(X, y).predict_proba(test_X)[:,1]"
      ],
      "execution_count": null,
      "outputs": []
    },
    {
      "cell_type": "code",
      "metadata": {
        "id": "Xn5Ra2GXVFhU",
        "colab": {
          "base_uri": "https://localhost:8080/"
        },
        "outputId": "731ff2e8-9d25-4e72-e3ac-382d895b07b0"
      },
      "source": [
        "# AUC\n",
        "roc_auc_score(test_y, y_pred)"
      ],
      "execution_count": null,
      "outputs": [
        {
          "output_type": "execute_result",
          "data": {
            "text/plain": [
              "0.8521982822957248"
            ]
          },
          "metadata": {
            "tags": []
          },
          "execution_count": 10
        }
      ]
    },
    {
      "cell_type": "code",
      "metadata": {
        "colab": {
          "base_uri": "https://localhost:8080/",
          "height": 295
        },
        "id": "LIcaaflPHe8t",
        "outputId": "484262dc-db91-4fdc-eef6-edb91a7432fa"
      },
      "source": [
        "# ROC CURVE\n",
        "buildROC(test_y, y_pred)"
      ],
      "execution_count": null,
      "outputs": [
        {
          "output_type": "display_data",
          "data": {
            "image/png": "[encoded data removed]",
            "text/plain": [
              "<Figure size 432x288 with 1 Axes>"
            ]
          },
          "metadata": {
            "tags": [],
            "needs_background": "light"
          }
        }
      ]
    },
    {
      "cell_type": "markdown",
      "metadata": {
        "id": "QpJe_e5Uwum6"
      },
      "source": [
        "##### Features importance"
      ]
    },
    {
      "cell_type": "code",
      "metadata": {
        "id": "tHQXJlN6MiqP"
      },
      "source": [
        "# Weight importance\n",
        "feature_importance = xgb.get_booster().get_score(importance_type= \"weight\")\n",
        "feature_importance_weight = pd.DataFrame(list(feature_importance.items()))\n",
        "feature_importance_weight.columns = ['Feature', 'Importance']"
      ],
      "execution_count": null,
      "outputs": []
    },
    {
      "cell_type": "code",
      "metadata": {
        "id": "iAAs0rV8Lqmw"
      },
      "source": [
        "import seaborn as sns\n",
        "from matplotlib import pyplot as plt\n",
        "def display_importances(feature_importance_df_):\n",
        "    cols = feature_importance_df_[[\"Feature\", \"Importance\"]].groupby(\"Feature\").mean().sort_values(by=\"Importance\", ascending=False)[:10].index\n",
        "    best_features = feature_importance_df_[[\"Feature\", \"Importance\"]].groupby(\"Feature\").mean().sort_values(by=\"Importance\", ascending=False)[:10]\n",
        "    best_features.reset_index(inplace=True)\n",
        "    print(best_features.dtypes)\n",
        "    plt.figure(figsize=(9, 5))\n",
        "    sns.barplot(x=\"Importance\", y=\"Feature\", data=best_features)\n",
        "    plt.title('XGBoost top 10 features')\n",
        "    plt.tight_layout()"
      ],
      "execution_count": null,
      "outputs": []
    },
    {
      "cell_type": "code",
      "metadata": {
        "colab": {
          "base_uri": "https://localhost:8080/",
          "height": 421
        },
        "id": "-8bNTderO0C4",
        "outputId": "d6d3613c-be74-4836-9e25-859f0d9967e0"
      },
      "source": [
        "display_importances(feature_importance_weight)"
      ],
      "execution_count": null,
      "outputs": [
        {
          "output_type": "stream",
          "text": [
            "Feature       object\n",
            "Importance     int64\n",
            "dtype: object\n"
          ],
          "name": "stdout"
        },
        {
          "output_type": "display_data",
          "data": {
            "image/png": "[encoded data removed]",
            "text/plain": [
              "<Figure size 648x360 with 1 Axes>"
            ]
          },
          "metadata": {
            "tags": [],
            "needs_background": "light"
          }
        }
      ]
    }
  ]
}